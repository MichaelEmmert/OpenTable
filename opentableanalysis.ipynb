{
 "cells": [
  {
   "cell_type": "code",
   "execution_count": 234,
   "metadata": {},
   "outputs": [],
   "source": [
    "import pandas as pd\n",
    "import numpy as np\n",
    "import seaborn as sns\n",
    "from matplotlib import pyplot as plt"
   ]
  },
  {
   "cell_type": "code",
   "execution_count": 235,
   "metadata": {},
   "outputs": [],
   "source": [
    "opentable= pd.read_csv('opentablecleaned.csv')"
   ]
  },
  {
   "cell_type": "code",
   "execution_count": 236,
   "metadata": {},
   "outputs": [
    {
     "data": {
      "text/html": [
       "<div>\n",
       "<style scoped>\n",
       "    .dataframe tbody tr th:only-of-type {\n",
       "        vertical-align: middle;\n",
       "    }\n",
       "\n",
       "    .dataframe tbody tr th {\n",
       "        vertical-align: top;\n",
       "    }\n",
       "\n",
       "    .dataframe thead th {\n",
       "        text-align: right;\n",
       "    }\n",
       "</style>\n",
       "<table border=\"1\" class=\"dataframe\">\n",
       "  <thead>\n",
       "    <tr style=\"text-align: right;\">\n",
       "      <th></th>\n",
       "      <th>Unnamed: 0</th>\n",
       "      <th>area</th>\n",
       "      <th>cost</th>\n",
       "      <th>cuisine</th>\n",
       "      <th>link</th>\n",
       "      <th>location</th>\n",
       "      <th>location_on_page</th>\n",
       "      <th>name</th>\n",
       "      <th>promoted</th>\n",
       "      <th>rating</th>\n",
       "      <th>review_count</th>\n",
       "      <th>review_link</th>\n",
       "    </tr>\n",
       "  </thead>\n",
       "  <tbody>\n",
       "    <tr>\n",
       "      <th>98635</th>\n",
       "      <td>98635</td>\n",
       "      <td>Washington, D.C. Area</td>\n",
       "      <td>2</td>\n",
       "      <td>American</td>\n",
       "      <td>https://www.opentable.com/r/cheesetique-mosaic...</td>\n",
       "      <td>Fairfax</td>\n",
       "      <td>[11, 0]</td>\n",
       "      <td>Cheesetique - Mosaic</td>\n",
       "      <td>True</td>\n",
       "      <td>4.5</td>\n",
       "      <td>195.0</td>\n",
       "      <td>https://www.opentable.com/r/cheesetique-mosaic...</td>\n",
       "    </tr>\n",
       "    <tr>\n",
       "      <th>127713</th>\n",
       "      <td>127713</td>\n",
       "      <td>Dallas - Fort Worth</td>\n",
       "      <td>3</td>\n",
       "      <td>American</td>\n",
       "      <td>https://www.opentable.com/r/table-13-addison?a...</td>\n",
       "      <td>North Dallas / Addison</td>\n",
       "      <td>[4, 0]</td>\n",
       "      <td>Table 13</td>\n",
       "      <td>True</td>\n",
       "      <td>4.6</td>\n",
       "      <td>1943.0</td>\n",
       "      <td>https://www.opentable.com/r/table-13-addison?a...</td>\n",
       "    </tr>\n",
       "    <tr>\n",
       "      <th>58440</th>\n",
       "      <td>58440</td>\n",
       "      <td>New York / Tri-State Area</td>\n",
       "      <td>3</td>\n",
       "      <td>American</td>\n",
       "      <td>https://www.opentable.com/r/perrine-new-york?a...</td>\n",
       "      <td>Upper East Side</td>\n",
       "      <td>[12, 5]</td>\n",
       "      <td>Perrine</td>\n",
       "      <td>True</td>\n",
       "      <td>4.4</td>\n",
       "      <td>373.0</td>\n",
       "      <td>https://www.opentable.com/r/perrine-new-york?a...</td>\n",
       "    </tr>\n",
       "    <tr>\n",
       "      <th>58439</th>\n",
       "      <td>58439</td>\n",
       "      <td>New York / Tri-State Area</td>\n",
       "      <td>4</td>\n",
       "      <td>Steakhouse</td>\n",
       "      <td>https://www.opentable.com/r/bobs-steak-and-cho...</td>\n",
       "      <td>Midtown East</td>\n",
       "      <td>[12, 4]</td>\n",
       "      <td>Bob's Steak &amp; Chop House - New York</td>\n",
       "      <td>True</td>\n",
       "      <td>4.5</td>\n",
       "      <td>250.0</td>\n",
       "      <td>https://www.opentable.com/r/bobs-steak-and-cho...</td>\n",
       "    </tr>\n",
       "    <tr>\n",
       "      <th>53641</th>\n",
       "      <td>53641</td>\n",
       "      <td>New York / Tri-State Area</td>\n",
       "      <td>3</td>\n",
       "      <td>Steakhouse</td>\n",
       "      <td>https://www.opentable.com/r/ruths-chris-steak-...</td>\n",
       "      <td>Jersey City</td>\n",
       "      <td>[60, 6]</td>\n",
       "      <td>Ruth's Chris Steak House - Jersey City</td>\n",
       "      <td>True</td>\n",
       "      <td>4.5</td>\n",
       "      <td>260.0</td>\n",
       "      <td>https://www.opentable.com/r/ruths-chris-steak-...</td>\n",
       "    </tr>\n",
       "  </tbody>\n",
       "</table>\n",
       "</div>"
      ],
      "text/plain": [
       "        Unnamed: 0                       area  cost     cuisine  \\\n",
       "98635        98635      Washington, D.C. Area     2    American   \n",
       "127713      127713        Dallas - Fort Worth     3    American   \n",
       "58440        58440  New York / Tri-State Area     3    American   \n",
       "58439        58439  New York / Tri-State Area     4  Steakhouse   \n",
       "53641        53641  New York / Tri-State Area     3  Steakhouse   \n",
       "\n",
       "                                                     link  \\\n",
       "98635   https://www.opentable.com/r/cheesetique-mosaic...   \n",
       "127713  https://www.opentable.com/r/table-13-addison?a...   \n",
       "58440   https://www.opentable.com/r/perrine-new-york?a...   \n",
       "58439   https://www.opentable.com/r/bobs-steak-and-cho...   \n",
       "53641   https://www.opentable.com/r/ruths-chris-steak-...   \n",
       "\n",
       "                      location location_on_page  \\\n",
       "98635                  Fairfax          [11, 0]   \n",
       "127713  North Dallas / Addison           [4, 0]   \n",
       "58440          Upper East Side          [12, 5]   \n",
       "58439             Midtown East          [12, 4]   \n",
       "53641              Jersey City          [60, 6]   \n",
       "\n",
       "                                          name  promoted  rating  \\\n",
       "98635                     Cheesetique - Mosaic      True     4.5   \n",
       "127713                                Table 13      True     4.6   \n",
       "58440                                  Perrine      True     4.4   \n",
       "58439      Bob's Steak & Chop House - New York      True     4.5   \n",
       "53641   Ruth's Chris Steak House - Jersey City      True     4.5   \n",
       "\n",
       "        review_count                                        review_link  \n",
       "98635          195.0  https://www.opentable.com/r/cheesetique-mosaic...  \n",
       "127713        1943.0  https://www.opentable.com/r/table-13-addison?a...  \n",
       "58440          373.0  https://www.opentable.com/r/perrine-new-york?a...  \n",
       "58439          250.0  https://www.opentable.com/r/bobs-steak-and-cho...  \n",
       "53641          260.0  https://www.opentable.com/r/ruths-chris-steak-...  "
      ]
     },
     "execution_count": 236,
     "metadata": {},
     "output_type": "execute_result"
    }
   ],
   "source": [
    "opentable.sort_values('promoted',ascending = False).head()"
   ]
  },
  {
   "cell_type": "code",
   "execution_count": 237,
   "metadata": {},
   "outputs": [
    {
     "data": {
      "text/plain": [
       "Unnamed: 0               0\n",
       "area                   100\n",
       "cost                     0\n",
       "cuisine                  0\n",
       "link                     0\n",
       "location                 0\n",
       "location_on_page         0\n",
       "name                     0\n",
       "promoted                 0\n",
       "rating              121707\n",
       "review_count        120693\n",
       "review_link              0\n",
       "dtype: int64"
      ]
     },
     "execution_count": 237,
     "metadata": {},
     "output_type": "execute_result"
    }
   ],
   "source": [
    "opentable.isna().sum()"
   ]
  },
  {
   "cell_type": "code",
   "execution_count": 238,
   "metadata": {},
   "outputs": [
    {
     "data": {
      "text/html": [
       "<div>\n",
       "<style scoped>\n",
       "    .dataframe tbody tr th:only-of-type {\n",
       "        vertical-align: middle;\n",
       "    }\n",
       "\n",
       "    .dataframe tbody tr th {\n",
       "        vertical-align: top;\n",
       "    }\n",
       "\n",
       "    .dataframe thead th {\n",
       "        text-align: right;\n",
       "    }\n",
       "</style>\n",
       "<table border=\"1\" class=\"dataframe\">\n",
       "  <thead>\n",
       "    <tr style=\"text-align: right;\">\n",
       "      <th></th>\n",
       "      <th>area</th>\n",
       "      <th>location</th>\n",
       "      <th>name</th>\n",
       "      <th>cuisine</th>\n",
       "      <th>cost</th>\n",
       "      <th>rating</th>\n",
       "      <th>review_count</th>\n",
       "      <th>promoted</th>\n",
       "      <th>location_on_page</th>\n",
       "    </tr>\n",
       "  </thead>\n",
       "  <tbody>\n",
       "    <tr>\n",
       "      <th>0</th>\n",
       "      <td>Atlanta / Georgia</td>\n",
       "      <td>Airport / College Park</td>\n",
       "      <td>Spice House on Cascade</td>\n",
       "      <td>Caribbean</td>\n",
       "      <td>2</td>\n",
       "      <td>NaN</td>\n",
       "      <td>NaN</td>\n",
       "      <td>False</td>\n",
       "      <td>[61, 0]</td>\n",
       "    </tr>\n",
       "    <tr>\n",
       "      <th>1</th>\n",
       "      <td>Atlanta / Georgia</td>\n",
       "      <td>Augusta</td>\n",
       "      <td>TBonz Steakhouse-Augusta</td>\n",
       "      <td>Italian</td>\n",
       "      <td>3</td>\n",
       "      <td>NaN</td>\n",
       "      <td>1.0</td>\n",
       "      <td>False</td>\n",
       "      <td>[61, 1]</td>\n",
       "    </tr>\n",
       "    <tr>\n",
       "      <th>2</th>\n",
       "      <td>Atlanta / Georgia</td>\n",
       "      <td>Lilburn</td>\n",
       "      <td>Royal Restaurant and Sweets</td>\n",
       "      <td>Mediterranean</td>\n",
       "      <td>3</td>\n",
       "      <td>NaN</td>\n",
       "      <td>NaN</td>\n",
       "      <td>False</td>\n",
       "      <td>[61, 2]</td>\n",
       "    </tr>\n",
       "    <tr>\n",
       "      <th>3</th>\n",
       "      <td>Atlanta / Georgia</td>\n",
       "      <td>Smyrna</td>\n",
       "      <td>Bollywood Zing</td>\n",
       "      <td>Italian</td>\n",
       "      <td>3</td>\n",
       "      <td>NaN</td>\n",
       "      <td>NaN</td>\n",
       "      <td>False</td>\n",
       "      <td>[61, 3]</td>\n",
       "    </tr>\n",
       "    <tr>\n",
       "      <th>4</th>\n",
       "      <td>Atlanta / Georgia</td>\n",
       "      <td>Buckhead</td>\n",
       "      <td>Sushi Bar Yu-Ka</td>\n",
       "      <td>Steakhouse</td>\n",
       "      <td>3</td>\n",
       "      <td>NaN</td>\n",
       "      <td>NaN</td>\n",
       "      <td>False</td>\n",
       "      <td>[61, 4]</td>\n",
       "    </tr>\n",
       "  </tbody>\n",
       "</table>\n",
       "</div>"
      ],
      "text/plain": [
       "                area                location                         name  \\\n",
       "0  Atlanta / Georgia  Airport / College Park       Spice House on Cascade   \n",
       "1  Atlanta / Georgia                 Augusta     TBonz Steakhouse-Augusta   \n",
       "2  Atlanta / Georgia                 Lilburn  Royal Restaurant and Sweets   \n",
       "3  Atlanta / Georgia                  Smyrna               Bollywood Zing   \n",
       "4  Atlanta / Georgia                Buckhead              Sushi Bar Yu-Ka   \n",
       "\n",
       "         cuisine  cost  rating  review_count  promoted location_on_page  \n",
       "0      Caribbean     2     NaN           NaN     False          [61, 0]  \n",
       "1        Italian     3     NaN           1.0     False          [61, 1]  \n",
       "2  Mediterranean     3     NaN           NaN     False          [61, 2]  \n",
       "3        Italian     3     NaN           NaN     False          [61, 3]  \n",
       "4     Steakhouse     3     NaN           NaN     False          [61, 4]  "
      ]
     },
     "execution_count": 238,
     "metadata": {},
     "output_type": "execute_result"
    }
   ],
   "source": [
    "#without links\n",
    "ot = opentable[['area','location','name','cuisine','cost','rating','review_count','promoted','location_on_page']]\n",
    "ot.head()"
   ]
  },
  {
   "cell_type": "code",
   "execution_count": 239,
   "metadata": {
    "scrolled": true
   },
   "outputs": [
    {
     "data": {
      "text/plain": [
       "163813"
      ]
     },
     "execution_count": 239,
     "metadata": {},
     "output_type": "execute_result"
    }
   ],
   "source": [
    "len(ot)"
   ]
  },
  {
   "cell_type": "code",
   "execution_count": 7,
   "metadata": {},
   "outputs": [
    {
     "data": {
      "text/plain": [
       "1021"
      ]
     },
     "execution_count": 7,
     "metadata": {},
     "output_type": "execute_result"
    }
   ],
   "source": [
    "rating_without_reviews = ot.rating.isna().sum() - ot.review_count.isna().sum()\n",
    "rating_without_reviews"
   ]
  },
  {
   "cell_type": "code",
   "execution_count": 8,
   "metadata": {
    "scrolled": true
   },
   "outputs": [
    {
     "data": {
      "text/plain": [
       "'74.29%'"
      ]
     },
     "execution_count": 8,
     "metadata": {},
     "output_type": "execute_result"
    }
   ],
   "source": [
    "percent_missing_rating = str(round(((ot.rating.isna().sum()/len(ot))*100),2)) +'%'\n",
    "percent_missing_rating "
   ]
  },
  {
   "cell_type": "markdown",
   "metadata": {},
   "source": [
    "# Scatter Plots"
   ]
  },
  {
   "cell_type": "code",
   "execution_count": 99,
   "metadata": {},
   "outputs": [
    {
     "data": {
      "image/png": "[encoded data removed]",
      "text/plain": [
       "<Figure size 432x288 with 1 Axes>"
      ]
     },
     "metadata": {
      "needs_background": "light"
     },
     "output_type": "display_data"
    },
    {
     "data": {
      "text/plain": [
       "<Figure size 800x800 with 0 Axes>"
      ]
     },
     "metadata": {},
     "output_type": "display_data"
    }
   ],
   "source": [
    "plt.scatter(y = ot.review_count, x =ot.rating)\n",
    "plt.title('Rating ')\n",
    "plt.xlabel('Rating')\n",
    "plt.ylabel('Number of Reiews')\n",
    "plt.figure(num=None, figsize=(10, 10), dpi=80, facecolor='w', edgecolor='k')\n",
    "plt.show()"
   ]
  },
  {
   "cell_type": "markdown",
   "metadata": {},
   "source": [
    "# Groupings\n",
    "## Grouped by area"
   ]
  },
  {
   "cell_type": "code",
   "execution_count": 9,
   "metadata": {
    "scrolled": true
   },
   "outputs": [],
   "source": [
    "grouped_area_size = pd.DataFrame(ot.groupby('area').size(),columns = ['restaurant_count'])"
   ]
  },
  {
   "cell_type": "code",
   "execution_count": 10,
   "metadata": {},
   "outputs": [
    {
     "data": {
      "text/html": [
       "<div>\n",
       "<style scoped>\n",
       "    .dataframe tbody tr th:only-of-type {\n",
       "        vertical-align: middle;\n",
       "    }\n",
       "\n",
       "    .dataframe tbody tr th {\n",
       "        vertical-align: top;\n",
       "    }\n",
       "\n",
       "    .dataframe thead th {\n",
       "        text-align: right;\n",
       "    }\n",
       "</style>\n",
       "<table border=\"1\" class=\"dataframe\">\n",
       "  <thead>\n",
       "    <tr style=\"text-align: right;\">\n",
       "      <th></th>\n",
       "      <th>restaurant_count</th>\n",
       "    </tr>\n",
       "    <tr>\n",
       "      <th>area</th>\n",
       "      <th></th>\n",
       "    </tr>\n",
       "  </thead>\n",
       "  <tbody>\n",
       "    <tr>\n",
       "      <th>Atlanta / Georgia</th>\n",
       "      <td>6104</td>\n",
       "    </tr>\n",
       "    <tr>\n",
       "      <th>Atlantic Canada</th>\n",
       "      <td>1069</td>\n",
       "    </tr>\n",
       "    <tr>\n",
       "      <th>Baja California Sur</th>\n",
       "      <td>167</td>\n",
       "    </tr>\n",
       "    <tr>\n",
       "      <th>Barcelona</th>\n",
       "      <td>966</td>\n",
       "    </tr>\n",
       "    <tr>\n",
       "      <th>Berlin</th>\n",
       "      <td>1698</td>\n",
       "    </tr>\n",
       "    <tr>\n",
       "      <th>Boston / New England</th>\n",
       "      <td>10000</td>\n",
       "    </tr>\n",
       "    <tr>\n",
       "      <th>Calgary / Southern Alberta</th>\n",
       "      <td>1458</td>\n",
       "    </tr>\n",
       "    <tr>\n",
       "      <th>Cancun / Riviera Maya</th>\n",
       "      <td>364</td>\n",
       "    </tr>\n",
       "    <tr>\n",
       "      <th>Chicago / Illinois</th>\n",
       "      <td>10000</td>\n",
       "    </tr>\n",
       "    <tr>\n",
       "      <th>Dallas - Fort Worth</th>\n",
       "      <td>5637</td>\n",
       "    </tr>\n",
       "    <tr>\n",
       "      <th>Denver / Colorado</th>\n",
       "      <td>4804</td>\n",
       "    </tr>\n",
       "    <tr>\n",
       "      <th>Detroit / Eastern Michigan</th>\n",
       "      <td>4261</td>\n",
       "    </tr>\n",
       "    <tr>\n",
       "      <th>Dublin</th>\n",
       "      <td>654</td>\n",
       "    </tr>\n",
       "    <tr>\n",
       "      <th>Edinburgh/Midlothian</th>\n",
       "      <td>756</td>\n",
       "    </tr>\n",
       "    <tr>\n",
       "      <th>Edmonton / Northern Alberta</th>\n",
       "      <td>1074</td>\n",
       "    </tr>\n",
       "    <tr>\n",
       "      <th>Essex</th>\n",
       "      <td>374</td>\n",
       "    </tr>\n",
       "    <tr>\n",
       "      <th>Frankfurt / Taunus</th>\n",
       "      <td>459</td>\n",
       "    </tr>\n",
       "    <tr>\n",
       "      <th>Glasgow/Lanarkshire</th>\n",
       "      <td>493</td>\n",
       "    </tr>\n",
       "    <tr>\n",
       "      <th>Hamburg / Hamburg Area</th>\n",
       "      <td>620</td>\n",
       "    </tr>\n",
       "    <tr>\n",
       "      <th>Houston</th>\n",
       "      <td>5638</td>\n",
       "    </tr>\n",
       "    <tr>\n",
       "      <th>Indiana</th>\n",
       "      <td>3909</td>\n",
       "    </tr>\n",
       "    <tr>\n",
       "      <th>Italy</th>\n",
       "      <td>1481</td>\n",
       "    </tr>\n",
       "    <tr>\n",
       "      <th>Kanagawa</th>\n",
       "      <td>105</td>\n",
       "    </tr>\n",
       "    <tr>\n",
       "      <th>Kent</th>\n",
       "      <td>593</td>\n",
       "    </tr>\n",
       "    <tr>\n",
       "      <th>Las Vegas</th>\n",
       "      <td>2141</td>\n",
       "    </tr>\n",
       "    <tr>\n",
       "      <th>London</th>\n",
       "      <td>5462</td>\n",
       "    </tr>\n",
       "    <tr>\n",
       "      <th>Los Angeles</th>\n",
       "      <td>10000</td>\n",
       "    </tr>\n",
       "    <tr>\n",
       "      <th>Madrid</th>\n",
       "      <td>943</td>\n",
       "    </tr>\n",
       "    <tr>\n",
       "      <th>Manchester/Greater Manchester</th>\n",
       "      <td>471</td>\n",
       "    </tr>\n",
       "    <tr>\n",
       "      <th>Mexico City</th>\n",
       "      <td>1017</td>\n",
       "    </tr>\n",
       "    <tr>\n",
       "      <th>Miami / Southeast Florida</th>\n",
       "      <td>5985</td>\n",
       "    </tr>\n",
       "    <tr>\n",
       "      <th>Monterrey</th>\n",
       "      <td>182</td>\n",
       "    </tr>\n",
       "    <tr>\n",
       "      <th>Montreal / Quebec</th>\n",
       "      <td>3971</td>\n",
       "    </tr>\n",
       "    <tr>\n",
       "      <th>Munich / Lower Bavaria / Bavarian Swabia</th>\n",
       "      <td>1305</td>\n",
       "    </tr>\n",
       "    <tr>\n",
       "      <th>New York / Tri-State Area</th>\n",
       "      <td>10000</td>\n",
       "    </tr>\n",
       "    <tr>\n",
       "      <th>Orlando / Central Florida East</th>\n",
       "      <td>4325</td>\n",
       "    </tr>\n",
       "    <tr>\n",
       "      <th>Philadelphia / New Jersey Suburbs</th>\n",
       "      <td>8681</td>\n",
       "    </tr>\n",
       "    <tr>\n",
       "      <th>Portland / Oregon</th>\n",
       "      <td>4241</td>\n",
       "    </tr>\n",
       "    <tr>\n",
       "      <th>San Francisco Bay Area</th>\n",
       "      <td>8499</td>\n",
       "    </tr>\n",
       "    <tr>\n",
       "      <th>Seattle / Eastern Washington</th>\n",
       "      <td>6247</td>\n",
       "    </tr>\n",
       "    <tr>\n",
       "      <th>Stuttgart / East Baden-Württemberg</th>\n",
       "      <td>240</td>\n",
       "    </tr>\n",
       "    <tr>\n",
       "      <th>Tokyo Metropolitan Area</th>\n",
       "      <td>1115</td>\n",
       "    </tr>\n",
       "    <tr>\n",
       "      <th>Toronto / Ontario</th>\n",
       "      <td>7412</td>\n",
       "    </tr>\n",
       "    <tr>\n",
       "      <th>Vancouver / British Columbia</th>\n",
       "      <td>4563</td>\n",
       "    </tr>\n",
       "    <tr>\n",
       "      <th>Virginia</th>\n",
       "      <td>3921</td>\n",
       "    </tr>\n",
       "    <tr>\n",
       "      <th>Washington, D.C. Area</th>\n",
       "      <td>4623</td>\n",
       "    </tr>\n",
       "    <tr>\n",
       "      <th>Wisconsin</th>\n",
       "      <td>4951</td>\n",
       "    </tr>\n",
       "    <tr>\n",
       "      <th>Yorkshire</th>\n",
       "      <td>809</td>\n",
       "    </tr>\n",
       "  </tbody>\n",
       "</table>\n",
       "</div>"
      ],
      "text/plain": [
       "                                          restaurant_count\n",
       "area                                                      \n",
       "Atlanta / Georgia                                     6104\n",
       "Atlantic Canada                                       1069\n",
       "Baja California Sur                                    167\n",
       "Barcelona                                              966\n",
       "Berlin                                                1698\n",
       "Boston / New England                                 10000\n",
       "Calgary / Southern Alberta                            1458\n",
       "Cancun / Riviera Maya                                  364\n",
       "Chicago / Illinois                                   10000\n",
       "Dallas - Fort Worth                                   5637\n",
       "Denver / Colorado                                     4804\n",
       "Detroit / Eastern Michigan                            4261\n",
       "Dublin                                                 654\n",
       "Edinburgh/Midlothian                                   756\n",
       "Edmonton / Northern Alberta                           1074\n",
       "Essex                                                  374\n",
       "Frankfurt / Taunus                                     459\n",
       "Glasgow/Lanarkshire                                    493\n",
       "Hamburg / Hamburg Area                                 620\n",
       "Houston                                               5638\n",
       "Indiana                                               3909\n",
       "Italy                                                 1481\n",
       "Kanagawa                                               105\n",
       "Kent                                                   593\n",
       "Las Vegas                                             2141\n",
       "London                                                5462\n",
       "Los Angeles                                          10000\n",
       "Madrid                                                 943\n",
       "Manchester/Greater Manchester                          471\n",
       "Mexico City                                           1017\n",
       "Miami / Southeast Florida                             5985\n",
       "Monterrey                                              182\n",
       "Montreal / Quebec                                     3971\n",
       "Munich / Lower Bavaria / Bavarian Swabia              1305\n",
       "New York / Tri-State Area                            10000\n",
       "Orlando / Central Florida East                        4325\n",
       "Philadelphia / New Jersey Suburbs                     8681\n",
       "Portland / Oregon                                     4241\n",
       "San Francisco Bay Area                                8499\n",
       "Seattle / Eastern Washington                          6247\n",
       "Stuttgart / East Baden-Württemberg                     240\n",
       "Tokyo Metropolitan Area                               1115\n",
       "Toronto / Ontario                                     7412\n",
       "Vancouver / British Columbia                          4563\n",
       "Virginia                                              3921\n",
       "Washington, D.C. Area                                 4623\n",
       "Wisconsin                                             4951\n",
       "Yorkshire                                              809"
      ]
     },
     "execution_count": 10,
     "metadata": {},
     "output_type": "execute_result"
    }
   ],
   "source": [
    "grouped_area_size"
   ]
  },
  {
   "cell_type": "code",
   "execution_count": 11,
   "metadata": {},
   "outputs": [
    {
     "data": {
      "text/html": [
       "<div>\n",
       "<style scoped>\n",
       "    .dataframe tbody tr th:only-of-type {\n",
       "        vertical-align: middle;\n",
       "    }\n",
       "\n",
       "    .dataframe tbody tr th {\n",
       "        vertical-align: top;\n",
       "    }\n",
       "\n",
       "    .dataframe thead th {\n",
       "        text-align: right;\n",
       "    }\n",
       "</style>\n",
       "<table border=\"1\" class=\"dataframe\">\n",
       "  <thead>\n",
       "    <tr style=\"text-align: right;\">\n",
       "      <th></th>\n",
       "      <th>restaurant_count</th>\n",
       "    </tr>\n",
       "    <tr>\n",
       "      <th>area</th>\n",
       "      <th></th>\n",
       "    </tr>\n",
       "  </thead>\n",
       "  <tbody>\n",
       "    <tr>\n",
       "      <th>Los Angeles</th>\n",
       "      <td>10000</td>\n",
       "    </tr>\n",
       "    <tr>\n",
       "      <th>Chicago / Illinois</th>\n",
       "      <td>10000</td>\n",
       "    </tr>\n",
       "    <tr>\n",
       "      <th>New York / Tri-State Area</th>\n",
       "      <td>10000</td>\n",
       "    </tr>\n",
       "    <tr>\n",
       "      <th>Boston / New England</th>\n",
       "      <td>10000</td>\n",
       "    </tr>\n",
       "    <tr>\n",
       "      <th>Philadelphia / New Jersey Suburbs</th>\n",
       "      <td>8681</td>\n",
       "    </tr>\n",
       "    <tr>\n",
       "      <th>San Francisco Bay Area</th>\n",
       "      <td>8499</td>\n",
       "    </tr>\n",
       "    <tr>\n",
       "      <th>Toronto / Ontario</th>\n",
       "      <td>7412</td>\n",
       "    </tr>\n",
       "    <tr>\n",
       "      <th>Seattle / Eastern Washington</th>\n",
       "      <td>6247</td>\n",
       "    </tr>\n",
       "    <tr>\n",
       "      <th>Atlanta / Georgia</th>\n",
       "      <td>6104</td>\n",
       "    </tr>\n",
       "    <tr>\n",
       "      <th>Miami / Southeast Florida</th>\n",
       "      <td>5985</td>\n",
       "    </tr>\n",
       "  </tbody>\n",
       "</table>\n",
       "</div>"
      ],
      "text/plain": [
       "                                   restaurant_count\n",
       "area                                               \n",
       "Los Angeles                                   10000\n",
       "Chicago / Illinois                            10000\n",
       "New York / Tri-State Area                     10000\n",
       "Boston / New England                          10000\n",
       "Philadelphia / New Jersey Suburbs              8681\n",
       "San Francisco Bay Area                         8499\n",
       "Toronto / Ontario                              7412\n",
       "Seattle / Eastern Washington                   6247\n",
       "Atlanta / Georgia                              6104\n",
       "Miami / Southeast Florida                      5985"
      ]
     },
     "execution_count": 11,
     "metadata": {},
     "output_type": "execute_result"
    }
   ],
   "source": [
    "grouped_area_size.sort_values('restaurant_count',ascending = False).head(10)"
   ]
  },
  {
   "cell_type": "markdown",
   "metadata": {},
   "source": [
    "## Grouped by location"
   ]
  },
  {
   "cell_type": "code",
   "execution_count": 12,
   "metadata": {},
   "outputs": [],
   "source": [
    "grouped_location_size = pd.DataFrame(ot.groupby('location').size(),columns = ['restaurant_count'])"
   ]
  },
  {
   "cell_type": "code",
   "execution_count": 13,
   "metadata": {},
   "outputs": [
    {
     "data": {
      "text/plain": [
       "3831"
      ]
     },
     "execution_count": 13,
     "metadata": {},
     "output_type": "execute_result"
    }
   ],
   "source": [
    "len(grouped_location_size)"
   ]
  },
  {
   "cell_type": "code",
   "execution_count": 14,
   "metadata": {},
   "outputs": [
    {
     "data": {
      "text/html": [
       "<div>\n",
       "<style scoped>\n",
       "    .dataframe tbody tr th:only-of-type {\n",
       "        vertical-align: middle;\n",
       "    }\n",
       "\n",
       "    .dataframe tbody tr th {\n",
       "        vertical-align: top;\n",
       "    }\n",
       "\n",
       "    .dataframe thead th {\n",
       "        text-align: right;\n",
       "    }\n",
       "</style>\n",
       "<table border=\"1\" class=\"dataframe\">\n",
       "  <thead>\n",
       "    <tr style=\"text-align: right;\">\n",
       "      <th></th>\n",
       "      <th>restaurant_count</th>\n",
       "    </tr>\n",
       "    <tr>\n",
       "      <th>location</th>\n",
       "      <th></th>\n",
       "    </tr>\n",
       "  </thead>\n",
       "  <tbody>\n",
       "    <tr>\n",
       "      <th>Downtown</th>\n",
       "      <td>2599</td>\n",
       "    </tr>\n",
       "    <tr>\n",
       "      <th>Sooke</th>\n",
       "      <td>1211</td>\n",
       "    </tr>\n",
       "    <tr>\n",
       "      <th>Detroit</th>\n",
       "      <td>1135</td>\n",
       "    </tr>\n",
       "    <tr>\n",
       "      <th>Richmond</th>\n",
       "      <td>893</td>\n",
       "    </tr>\n",
       "    <tr>\n",
       "      <th>Milwaukee</th>\n",
       "      <td>686</td>\n",
       "    </tr>\n",
       "    <tr>\n",
       "      <th>Arlington</th>\n",
       "      <td>632</td>\n",
       "    </tr>\n",
       "    <tr>\n",
       "      <th>Calgary</th>\n",
       "      <td>624</td>\n",
       "    </tr>\n",
       "    <tr>\n",
       "      <th>Montreal</th>\n",
       "      <td>590</td>\n",
       "    </tr>\n",
       "    <tr>\n",
       "      <th>Bronx</th>\n",
       "      <td>575</td>\n",
       "    </tr>\n",
       "    <tr>\n",
       "      <th>Hollywood</th>\n",
       "      <td>562</td>\n",
       "    </tr>\n",
       "  </tbody>\n",
       "</table>\n",
       "</div>"
      ],
      "text/plain": [
       "           restaurant_count\n",
       "location                   \n",
       "Downtown               2599\n",
       "Sooke                  1211\n",
       "Detroit                1135\n",
       "Richmond                893\n",
       "Milwaukee               686\n",
       "Arlington               632\n",
       "Calgary                 624\n",
       "Montreal                590\n",
       "Bronx                   575\n",
       "Hollywood               562"
      ]
     },
     "execution_count": 14,
     "metadata": {},
     "output_type": "execute_result"
    }
   ],
   "source": [
    "grouped_location_size.sort_values('restaurant_count', ascending = False).head(10)"
   ]
  },
  {
   "cell_type": "markdown",
   "metadata": {},
   "source": [
    "## Grouped by cost"
   ]
  },
  {
   "cell_type": "code",
   "execution_count": 15,
   "metadata": {},
   "outputs": [],
   "source": [
    "grouped_cost_size = pd.DataFrame(ot.groupby('cost').size(),columns = ['restaurant_count'])"
   ]
  },
  {
   "cell_type": "code",
   "execution_count": 16,
   "metadata": {
    "scrolled": true
   },
   "outputs": [
    {
     "data": {
      "text/html": [
       "<div>\n",
       "<style scoped>\n",
       "    .dataframe tbody tr th:only-of-type {\n",
       "        vertical-align: middle;\n",
       "    }\n",
       "\n",
       "    .dataframe tbody tr th {\n",
       "        vertical-align: top;\n",
       "    }\n",
       "\n",
       "    .dataframe thead th {\n",
       "        text-align: right;\n",
       "    }\n",
       "</style>\n",
       "<table border=\"1\" class=\"dataframe\">\n",
       "  <thead>\n",
       "    <tr style=\"text-align: right;\">\n",
       "      <th></th>\n",
       "      <th>restaurant_count</th>\n",
       "    </tr>\n",
       "    <tr>\n",
       "      <th>cost</th>\n",
       "      <th></th>\n",
       "    </tr>\n",
       "  </thead>\n",
       "  <tbody>\n",
       "    <tr>\n",
       "      <th>2</th>\n",
       "      <td>138849</td>\n",
       "    </tr>\n",
       "    <tr>\n",
       "      <th>3</th>\n",
       "      <td>19753</td>\n",
       "    </tr>\n",
       "    <tr>\n",
       "      <th>4</th>\n",
       "      <td>5186</td>\n",
       "    </tr>\n",
       "  </tbody>\n",
       "</table>\n",
       "</div>"
      ],
      "text/plain": [
       "      restaurant_count\n",
       "cost                  \n",
       "2               138849\n",
       "3                19753\n",
       "4                 5186"
      ]
     },
     "execution_count": 16,
     "metadata": {},
     "output_type": "execute_result"
    }
   ],
   "source": [
    "grouped_cost_size"
   ]
  },
  {
   "cell_type": "code",
   "execution_count": 104,
   "metadata": {},
   "outputs": [],
   "source": [
    "grouped_cost = ot.groupby('cost')"
   ]
  },
  {
   "cell_type": "code",
   "execution_count": 110,
   "metadata": {
    "scrolled": false
   },
   "outputs": [
    {
     "data": {
      "text/html": [
       "<div>\n",
       "<style scoped>\n",
       "    .dataframe tbody tr th:only-of-type {\n",
       "        vertical-align: middle;\n",
       "    }\n",
       "\n",
       "    .dataframe tbody tr th {\n",
       "        vertical-align: top;\n",
       "    }\n",
       "\n",
       "    .dataframe thead tr th {\n",
       "        text-align: left;\n",
       "    }\n",
       "\n",
       "    .dataframe thead tr:last-of-type th {\n",
       "        text-align: right;\n",
       "    }\n",
       "</style>\n",
       "<table border=\"1\" class=\"dataframe\">\n",
       "  <thead>\n",
       "    <tr>\n",
       "      <th></th>\n",
       "      <th colspan=\"3\" halign=\"left\">rating</th>\n",
       "      <th colspan=\"3\" halign=\"left\">review_count</th>\n",
       "      <th colspan=\"3\" halign=\"left\">promoted</th>\n",
       "    </tr>\n",
       "    <tr>\n",
       "      <th></th>\n",
       "      <th>mean</th>\n",
       "      <th>sum</th>\n",
       "      <th>count</th>\n",
       "      <th>mean</th>\n",
       "      <th>sum</th>\n",
       "      <th>count</th>\n",
       "      <th>mean</th>\n",
       "      <th>sum</th>\n",
       "      <th>count</th>\n",
       "    </tr>\n",
       "    <tr>\n",
       "      <th>cost</th>\n",
       "      <th></th>\n",
       "      <th></th>\n",
       "      <th></th>\n",
       "      <th></th>\n",
       "      <th></th>\n",
       "      <th></th>\n",
       "      <th></th>\n",
       "      <th></th>\n",
       "      <th></th>\n",
       "    </tr>\n",
       "  </thead>\n",
       "  <tbody>\n",
       "    <tr>\n",
       "      <th>2</th>\n",
       "      <td>4.250680</td>\n",
       "      <td>121254.9</td>\n",
       "      <td>28526</td>\n",
       "      <td>275.971814</td>\n",
       "      <td>8106948.0</td>\n",
       "      <td>29376</td>\n",
       "      <td>0.001030</td>\n",
       "      <td>143.0</td>\n",
       "      <td>138849</td>\n",
       "    </tr>\n",
       "    <tr>\n",
       "      <th>3</th>\n",
       "      <td>4.376160</td>\n",
       "      <td>45927.8</td>\n",
       "      <td>10495</td>\n",
       "      <td>682.853945</td>\n",
       "      <td>7260786.0</td>\n",
       "      <td>10633</td>\n",
       "      <td>0.005974</td>\n",
       "      <td>118.0</td>\n",
       "      <td>19753</td>\n",
       "    </tr>\n",
       "    <tr>\n",
       "      <th>4</th>\n",
       "      <td>4.494264</td>\n",
       "      <td>13869.3</td>\n",
       "      <td>3086</td>\n",
       "      <td>840.009939</td>\n",
       "      <td>2619991.0</td>\n",
       "      <td>3119</td>\n",
       "      <td>0.010220</td>\n",
       "      <td>53.0</td>\n",
       "      <td>5186</td>\n",
       "    </tr>\n",
       "  </tbody>\n",
       "</table>\n",
       "</div>"
      ],
      "text/plain": [
       "        rating                  review_count                    promoted  \\\n",
       "          mean       sum  count         mean        sum  count      mean   \n",
       "cost                                                                       \n",
       "2     4.250680  121254.9  28526   275.971814  8106948.0  29376  0.001030   \n",
       "3     4.376160   45927.8  10495   682.853945  7260786.0  10633  0.005974   \n",
       "4     4.494264   13869.3   3086   840.009939  2619991.0   3119  0.010220   \n",
       "\n",
       "                     \n",
       "        sum   count  \n",
       "cost                 \n",
       "2     143.0  138849  \n",
       "3     118.0   19753  \n",
       "4      53.0    5186  "
      ]
     },
     "execution_count": 110,
     "metadata": {},
     "output_type": "execute_result"
    }
   ],
   "source": [
    "grouped_cost.agg(['mean','sum','count'])"
   ]
  },
  {
   "cell_type": "code",
   "execution_count": 114,
   "metadata": {},
   "outputs": [
    {
     "data": {
      "text/html": [
       "<div>\n",
       "<style scoped>\n",
       "    .dataframe tbody tr th:only-of-type {\n",
       "        vertical-align: middle;\n",
       "    }\n",
       "\n",
       "    .dataframe tbody tr th {\n",
       "        vertical-align: top;\n",
       "    }\n",
       "\n",
       "    .dataframe thead th {\n",
       "        text-align: right;\n",
       "    }\n",
       "</style>\n",
       "<table border=\"1\" class=\"dataframe\">\n",
       "  <thead>\n",
       "    <tr style=\"text-align: right;\">\n",
       "      <th></th>\n",
       "      <th>rating</th>\n",
       "      <th>review_count</th>\n",
       "      <th>promoted</th>\n",
       "    </tr>\n",
       "    <tr>\n",
       "      <th>cost</th>\n",
       "      <th></th>\n",
       "      <th></th>\n",
       "      <th></th>\n",
       "    </tr>\n",
       "  </thead>\n",
       "  <tbody>\n",
       "    <tr>\n",
       "      <th>2</th>\n",
       "      <td>4.250680</td>\n",
       "      <td>275.971814</td>\n",
       "      <td>0.001030</td>\n",
       "    </tr>\n",
       "    <tr>\n",
       "      <th>3</th>\n",
       "      <td>4.376160</td>\n",
       "      <td>682.853945</td>\n",
       "      <td>0.005974</td>\n",
       "    </tr>\n",
       "    <tr>\n",
       "      <th>4</th>\n",
       "      <td>4.494264</td>\n",
       "      <td>840.009939</td>\n",
       "      <td>0.010220</td>\n",
       "    </tr>\n",
       "  </tbody>\n",
       "</table>\n",
       "</div>"
      ],
      "text/plain": [
       "        rating  review_count  promoted\n",
       "cost                                  \n",
       "2     4.250680    275.971814  0.001030\n",
       "3     4.376160    682.853945  0.005974\n",
       "4     4.494264    840.009939  0.010220"
      ]
     },
     "execution_count": 114,
     "metadata": {},
     "output_type": "execute_result"
    }
   ],
   "source": [
    "grouped_cost.mean()"
   ]
  },
  {
   "cell_type": "code",
   "execution_count": 120,
   "metadata": {
    "scrolled": false
   },
   "outputs": [
    {
     "data": {
      "text/plain": [
       "cost\n",
       "2    4.250680\n",
       "3    4.376160\n",
       "4    4.494264\n",
       "Name: rating, dtype: float64"
      ]
     },
     "execution_count": 120,
     "metadata": {},
     "output_type": "execute_result"
    }
   ],
   "source": [
    "grouped_cost.rating.mean()"
   ]
  },
  {
   "cell_type": "code",
   "execution_count": 159,
   "metadata": {},
   "outputs": [
    {
     "data": {
      "image/png": "[encoded data removed]",
      "text/plain": [
       "<Figure size 432x288 with 1 Axes>"
      ]
     },
     "metadata": {
      "needs_background": "light"
     },
     "output_type": "display_data"
    },
    {
     "data": {
      "text/plain": [
       "<Figure size 720x720 with 0 Axes>"
      ]
     },
     "metadata": {},
     "output_type": "display_data"
    }
   ],
   "source": [
    "grouped_cost.review_count.mean().plot.bar(color = 'midnightblue')\n",
    "plt.xticks([0,1,2],labels= ['under \\$30','\\$31 through \\$50','\\$50 and above'],rotation = 0)\n",
    "plt.title('Average Review count based on price',fontsize = 15)\n",
    "plt.xlabel('Cost',fontsize = 15)\n",
    "plt.ylabel('Average Number of Reviews',fontsize = 15)\n",
    "plt.figure(figsize = (10,10))\n",
    "plt.show()"
   ]
  },
  {
   "cell_type": "code",
   "execution_count": 123,
   "metadata": {},
   "outputs": [
    {
     "data": {
      "text/plain": [
       "<matplotlib.axes._subplots.AxesSubplot at 0x28440d911d0>"
      ]
     },
     "execution_count": 123,
     "metadata": {},
     "output_type": "execute_result"
    },
    {
     "data": {
      "image/png": "[encoded data removed]",
      "text/plain": [
       "<Figure size 432x288 with 1 Axes>"
      ]
     },
     "metadata": {
      "needs_background": "light"
     },
     "output_type": "display_data"
    }
   ],
   "source": [
    "grouped_cost.rating.mean().plot.bar()"
   ]
  },
  {
   "cell_type": "code",
   "execution_count": null,
   "metadata": {},
   "outputs": [],
   "source": [
    "plt.bar(x = grouped_cost.rating.mean(), height = )"
   ]
  },
  {
   "cell_type": "markdown",
   "metadata": {},
   "source": [
    "## Group by promoted"
   ]
  },
  {
   "cell_type": "code",
   "execution_count": 17,
   "metadata": {},
   "outputs": [],
   "source": [
    "grouped_promoted_size = pd.DataFrame(ot.groupby('promoted').size(),columns = ['restaurant_count'])"
   ]
  },
  {
   "cell_type": "code",
   "execution_count": 18,
   "metadata": {},
   "outputs": [
    {
     "data": {
      "text/html": [
       "<div>\n",
       "<style scoped>\n",
       "    .dataframe tbody tr th:only-of-type {\n",
       "        vertical-align: middle;\n",
       "    }\n",
       "\n",
       "    .dataframe tbody tr th {\n",
       "        vertical-align: top;\n",
       "    }\n",
       "\n",
       "    .dataframe thead th {\n",
       "        text-align: right;\n",
       "    }\n",
       "</style>\n",
       "<table border=\"1\" class=\"dataframe\">\n",
       "  <thead>\n",
       "    <tr style=\"text-align: right;\">\n",
       "      <th></th>\n",
       "      <th>restaurant_count</th>\n",
       "    </tr>\n",
       "    <tr>\n",
       "      <th>promoted</th>\n",
       "      <th></th>\n",
       "    </tr>\n",
       "  </thead>\n",
       "  <tbody>\n",
       "    <tr>\n",
       "      <th>False</th>\n",
       "      <td>163474</td>\n",
       "    </tr>\n",
       "    <tr>\n",
       "      <th>True</th>\n",
       "      <td>314</td>\n",
       "    </tr>\n",
       "  </tbody>\n",
       "</table>\n",
       "</div>"
      ],
      "text/plain": [
       "          restaurant_count\n",
       "promoted                  \n",
       "False               163474\n",
       "True                   314"
      ]
     },
     "execution_count": 18,
     "metadata": {},
     "output_type": "execute_result"
    }
   ],
   "source": [
    "grouped_promoted_size"
   ]
  },
  {
   "cell_type": "code",
   "execution_count": 67,
   "metadata": {
    "scrolled": true
   },
   "outputs": [],
   "source": [
    "promoted_grouped = ot.groupby('promoted')"
   ]
  },
  {
   "cell_type": "code",
   "execution_count": 68,
   "metadata": {
    "scrolled": true
   },
   "outputs": [
    {
     "name": "stdout",
     "output_type": "stream",
     "text": [
      "False\n",
      "----------------------------------------------------------------------\n",
      "                     area                location  \\\n",
      "0       Atlanta / Georgia  Airport / College Park   \n",
      "1       Atlanta / Georgia                 Lilburn   \n",
      "2       Atlanta / Georgia                  Smyrna   \n",
      "3       Atlanta / Georgia                Buckhead   \n",
      "4                   Essex                  Ilford   \n",
      "...                   ...                     ...   \n",
      "163783        Los Angeles                Downtown   \n",
      "163784        Los Angeles               Hollywood   \n",
      "163785        Los Angeles            Mid-Wilshire   \n",
      "163786        Los Angeles               Hollywood   \n",
      "163787        Los Angeles            Mid-Wilshire   \n",
      "\n",
      "                               name        cuisine  cost  rating  \\\n",
      "0            Spice House on Cascade      Caribbean     2     NaN   \n",
      "1       Royal Restaurant and Sweets  Mediterranean     3     NaN   \n",
      "2                    Bollywood Zing        Italian     3     NaN   \n",
      "3                   Sushi Bar Yu-Ka     Steakhouse     3     NaN   \n",
      "4                             Adana        Turkish     2     NaN   \n",
      "...                             ...            ...   ...     ...   \n",
      "163783           Thai House Classic           Thai     2     NaN   \n",
      "163784                 Thai Delight           Thai     2     NaN   \n",
      "163785      Soowon Galbi Korean BBQ         Korean     2     NaN   \n",
      "163786        Bak Kung 2 Korean Bbq       Barbecue     2     NaN   \n",
      "163787       Mi Quierido Pulgarsito        Mexican     2     NaN   \n",
      "\n",
      "        review_count  promoted  \n",
      "0                NaN     False  \n",
      "1                NaN     False  \n",
      "2                NaN     False  \n",
      "3                NaN     False  \n",
      "4                NaN     False  \n",
      "...              ...       ...  \n",
      "163783           NaN     False  \n",
      "163784           NaN     False  \n",
      "163785           NaN     False  \n",
      "163786           NaN     False  \n",
      "163787           NaN     False  \n",
      "\n",
      "[163474 rows x 8 columns]\n",
      "\n",
      "\n",
      "True\n",
      "----------------------------------------------------------------------\n",
      "               area                              location  \\\n",
      "2112    Mexico City                  Lomas / Tecamachalco   \n",
      "2312    Mexico City  Altavista / San Angel / San Jerónimo   \n",
      "2412    Mexico City                                Centro   \n",
      "2612    Mexico City                 Polanco/Nueva Anzures   \n",
      "2712    Mexico City                  Lomas / Tecamachalco   \n",
      "...             ...                                   ...   \n",
      "147790      Houston                              Downtown   \n",
      "147793      Houston                              Downtown   \n",
      "148688      Houston                     Galleria / Uptown   \n",
      "148691      Houston                     Galleria / Uptown   \n",
      "161788  Los Angeles                         Beverly Hills   \n",
      "\n",
      "                                          name               cuisine  cost  \\\n",
      "2112                          Cafe O - Bosques         International     4   \n",
      "2312                        Cafe O - San Angel         International     4   \n",
      "2412                             Domingo Santo  Contemporary Mexican     3   \n",
      "2612                                     25DOS               Mexican     3   \n",
      "2712                              Casa O Lomas         International     4   \n",
      "...                                        ...                   ...   ...   \n",
      "147790  Quattro - Four Seasons Hotel - Houston               Italian     3   \n",
      "147793                  Zutro Restaurant & Bar              American     2   \n",
      "148688                    Peli Peli - Galleria      Southern African     3   \n",
      "148691                            Nobu Houston              Japanese     4   \n",
      "161788                               208 Rodeo           Californian     3   \n",
      "\n",
      "        rating  review_count  promoted  \n",
      "2112       4.6          75.0      True  \n",
      "2312       4.6          87.0      True  \n",
      "2412       4.4         127.0      True  \n",
      "2612       4.5           1.0      True  \n",
      "2712       4.6          90.0      True  \n",
      "...        ...           ...       ...  \n",
      "147790     4.5        1211.0      True  \n",
      "147793     4.2          98.0      True  \n",
      "148688     4.4        1701.0      True  \n",
      "148691     4.6         595.0      True  \n",
      "161788     4.4         662.0      True  \n",
      "\n",
      "[314 rows x 8 columns]\n",
      "\n",
      "\n"
     ]
    }
   ],
   "source": [
    "for key, values in promoted_grouped:\n",
    "    print(key) #this indicates the grouping\n",
    "    print('-'*70)\n",
    "    print(values) #this is a dataframe for that \n",
    "    print('\\n')"
   ]
  },
  {
   "cell_type": "code",
   "execution_count": 83,
   "metadata": {},
   "outputs": [
    {
     "data": {
      "text/plain": [
       "{False: Int64Index([     0,      1,      2,      3,      4,      5,      6,      7,\n",
       "                  8,      9,\n",
       "             ...\n",
       "             163778, 163779, 163780, 163781, 163782, 163783, 163784, 163785,\n",
       "             163786, 163787],\n",
       "            dtype='int64', length=163474),\n",
       " True: Int64Index([  2112,   2312,   2412,   2612,   2712,   2714,   3312,   3316,\n",
       "               3712,   3812,\n",
       "             ...\n",
       "             138890, 138893, 147688, 147690, 147788, 147790, 147793, 148688,\n",
       "             148691, 161788],\n",
       "            dtype='int64', length=314)}"
      ]
     },
     "execution_count": 83,
     "metadata": {},
     "output_type": "execute_result"
    }
   ],
   "source": [
    "promoted_grouped.groups"
   ]
  },
  {
   "cell_type": "code",
   "execution_count": 87,
   "metadata": {},
   "outputs": [
    {
     "ename": "AttributeError",
     "evalue": "Cannot access callable attribute 'loc' of 'DataFrameGroupBy' objects, try using the 'apply' method",
     "output_type": "error",
     "traceback": [
      "\u001b[1;31m---------------------------------------------------------------------------\u001b[0m",
      "\u001b[1;31mAttributeError\u001b[0m                            Traceback (most recent call last)",
      "\u001b[1;32m<ipython-input-87-18edcb5b568d>\u001b[0m in \u001b[0;36m<module>\u001b[1;34m\u001b[0m\n\u001b[0;32m      1\u001b[0m \u001b[0midx\u001b[0m \u001b[1;33m=\u001b[0m \u001b[0mpd\u001b[0m\u001b[1;33m.\u001b[0m\u001b[0mIndexSlice\u001b[0m\u001b[1;33m\u001b[0m\u001b[1;33m\u001b[0m\u001b[0m\n\u001b[1;32m----> 2\u001b[1;33m \u001b[0mpromoted_grouped\u001b[0m\u001b[1;33m.\u001b[0m\u001b[0mloc\u001b[0m\u001b[1;33m[\u001b[0m\u001b[0midx\u001b[0m\u001b[1;33m[\u001b[0m\u001b[1;34m'True'\u001b[0m\u001b[1;33m]\u001b[0m\u001b[1;33m,\u001b[0m \u001b[1;33m:\u001b[0m\u001b[1;33m]\u001b[0m\u001b[1;33m\u001b[0m\u001b[1;33m\u001b[0m\u001b[0m\n\u001b[0m",
      "\u001b[1;32m~\\Downloads\\Anaconda\\lib\\site-packages\\pandas\\core\\groupby\\groupby.py\u001b[0m in \u001b[0;36m__getattr__\u001b[1;34m(self, attr)\u001b[0m\n\u001b[0;32m    561\u001b[0m             \u001b[1;32mreturn\u001b[0m \u001b[0mself\u001b[0m\u001b[1;33m[\u001b[0m\u001b[0mattr\u001b[0m\u001b[1;33m]\u001b[0m\u001b[1;33m\u001b[0m\u001b[1;33m\u001b[0m\u001b[0m\n\u001b[0;32m    562\u001b[0m         \u001b[1;32mif\u001b[0m \u001b[0mhasattr\u001b[0m\u001b[1;33m(\u001b[0m\u001b[0mself\u001b[0m\u001b[1;33m.\u001b[0m\u001b[0mobj\u001b[0m\u001b[1;33m,\u001b[0m \u001b[0mattr\u001b[0m\u001b[1;33m)\u001b[0m\u001b[1;33m:\u001b[0m\u001b[1;33m\u001b[0m\u001b[1;33m\u001b[0m\u001b[0m\n\u001b[1;32m--> 563\u001b[1;33m             \u001b[1;32mreturn\u001b[0m \u001b[0mself\u001b[0m\u001b[1;33m.\u001b[0m\u001b[0m_make_wrapper\u001b[0m\u001b[1;33m(\u001b[0m\u001b[0mattr\u001b[0m\u001b[1;33m)\u001b[0m\u001b[1;33m\u001b[0m\u001b[1;33m\u001b[0m\u001b[0m\n\u001b[0m\u001b[0;32m    564\u001b[0m \u001b[1;33m\u001b[0m\u001b[0m\n\u001b[0;32m    565\u001b[0m         raise AttributeError(\n",
      "\u001b[1;32m~\\Downloads\\Anaconda\\lib\\site-packages\\pandas\\core\\groupby\\groupby.py\u001b[0m in \u001b[0;36m_make_wrapper\u001b[1;34m(self, name)\u001b[0m\n\u001b[0;32m    602\u001b[0m                 \u001b[1;34m\"using the 'apply' method\"\u001b[0m\u001b[1;33m.\u001b[0m\u001b[0mformat\u001b[0m\u001b[1;33m(\u001b[0m\u001b[0mkind\u001b[0m\u001b[1;33m,\u001b[0m \u001b[0mname\u001b[0m\u001b[1;33m,\u001b[0m \u001b[0mtype\u001b[0m\u001b[1;33m(\u001b[0m\u001b[0mself\u001b[0m\u001b[1;33m)\u001b[0m\u001b[1;33m.\u001b[0m\u001b[0m__name__\u001b[0m\u001b[1;33m)\u001b[0m\u001b[1;33m\u001b[0m\u001b[1;33m\u001b[0m\u001b[0m\n\u001b[0;32m    603\u001b[0m             )\n\u001b[1;32m--> 604\u001b[1;33m             \u001b[1;32mraise\u001b[0m \u001b[0mAttributeError\u001b[0m\u001b[1;33m(\u001b[0m\u001b[0mmsg\u001b[0m\u001b[1;33m)\u001b[0m\u001b[1;33m\u001b[0m\u001b[1;33m\u001b[0m\u001b[0m\n\u001b[0m\u001b[0;32m    605\u001b[0m \u001b[1;33m\u001b[0m\u001b[0m\n\u001b[0;32m    606\u001b[0m         \u001b[0mself\u001b[0m\u001b[1;33m.\u001b[0m\u001b[0m_set_group_selection\u001b[0m\u001b[1;33m(\u001b[0m\u001b[1;33m)\u001b[0m\u001b[1;33m\u001b[0m\u001b[1;33m\u001b[0m\u001b[0m\n",
      "\u001b[1;31mAttributeError\u001b[0m: Cannot access callable attribute 'loc' of 'DataFrameGroupBy' objects, try using the 'apply' method"
     ]
    }
   ],
   "source": [
    "idx = pd.IndexSlice\n",
    "promoted_grouped.loc[idx['True'], :]"
   ]
  },
  {
   "cell_type": "code",
   "execution_count": 57,
   "metadata": {
    "scrolled": true
   },
   "outputs": [
    {
     "data": {
      "text/html": [
       "<div>\n",
       "<style scoped>\n",
       "    .dataframe tbody tr th:only-of-type {\n",
       "        vertical-align: middle;\n",
       "    }\n",
       "\n",
       "    .dataframe tbody tr th {\n",
       "        vertical-align: top;\n",
       "    }\n",
       "\n",
       "    .dataframe thead th {\n",
       "        text-align: right;\n",
       "    }\n",
       "</style>\n",
       "<table border=\"1\" class=\"dataframe\">\n",
       "  <thead>\n",
       "    <tr style=\"text-align: right;\">\n",
       "      <th></th>\n",
       "      <th>cost</th>\n",
       "      <th>rating</th>\n",
       "      <th>review_count</th>\n",
       "    </tr>\n",
       "    <tr>\n",
       "      <th>promoted</th>\n",
       "      <th></th>\n",
       "      <th></th>\n",
       "      <th></th>\n",
       "    </tr>\n",
       "  </thead>\n",
       "  <tbody>\n",
       "    <tr>\n",
       "      <th>False</th>\n",
       "      <td>2.182910</td>\n",
       "      <td>4.299251</td>\n",
       "      <td>415.008221</td>\n",
       "    </tr>\n",
       "    <tr>\n",
       "      <th>True</th>\n",
       "      <td>2.713376</td>\n",
       "      <td>4.375081</td>\n",
       "      <td>702.912903</td>\n",
       "    </tr>\n",
       "  </tbody>\n",
       "</table>\n",
       "</div>"
      ],
      "text/plain": [
       "              cost    rating  review_count\n",
       "promoted                                  \n",
       "False     2.182910  4.299251    415.008221\n",
       "True      2.713376  4.375081    702.912903"
      ]
     },
     "execution_count": 57,
     "metadata": {},
     "output_type": "execute_result"
    }
   ],
   "source": [
    "promoted_avg = grouped_promoted.mean()\n",
    "promoted_avg"
   ]
  },
  {
   "cell_type": "code",
   "execution_count": 58,
   "metadata": {},
   "outputs": [
    {
     "ename": "NameError",
     "evalue": "name 'promoted' is not defined",
     "output_type": "error",
     "traceback": [
      "\u001b[1;31m---------------------------------------------------------------------------\u001b[0m",
      "\u001b[1;31mNameError\u001b[0m                                 Traceback (most recent call last)",
      "\u001b[1;32m<ipython-input-58-42c895084623>\u001b[0m in \u001b[0;36m<module>\u001b[1;34m\u001b[0m\n\u001b[1;32m----> 1\u001b[1;33m \u001b[0mpromoted_avg\u001b[0m\u001b[1;33m.\u001b[0m\u001b[0mplot\u001b[0m\u001b[1;33m.\u001b[0m\u001b[0mbar\u001b[0m\u001b[1;33m(\u001b[0m\u001b[0mx\u001b[0m\u001b[1;33m=\u001b[0m\u001b[0mpromoted\u001b[0m\u001b[1;33m,\u001b[0m\u001b[0my\u001b[0m \u001b[1;33m=\u001b[0m \u001b[1;34m'cost'\u001b[0m\u001b[1;33m,\u001b[0m \u001b[0mrot\u001b[0m\u001b[1;33m=\u001b[0m\u001b[1;36m0\u001b[0m\u001b[1;33m)\u001b[0m\u001b[1;33m\u001b[0m\u001b[1;33m\u001b[0m\u001b[0m\n\u001b[0m",
      "\u001b[1;31mNameError\u001b[0m: name 'promoted' is not defined"
     ]
    }
   ],
   "source": [
    "promoted_avg.plot.bar(x= ,y = 'cost', rot=0)"
   ]
  },
  {
   "cell_type": "markdown",
   "metadata": {},
   "source": [
    "## Group by area and then location"
   ]
  },
  {
   "cell_type": "code",
   "execution_count": 161,
   "metadata": {},
   "outputs": [],
   "source": [
    "grouped_area_location = ot.groupby(['area','location'])"
   ]
  },
  {
   "cell_type": "code",
   "execution_count": 162,
   "metadata": {
    "scrolled": true
   },
   "outputs": [
    {
     "data": {
      "text/html": [
       "<div>\n",
       "<style scoped>\n",
       "    .dataframe tbody tr th:only-of-type {\n",
       "        vertical-align: middle;\n",
       "    }\n",
       "\n",
       "    .dataframe tbody tr th {\n",
       "        vertical-align: top;\n",
       "    }\n",
       "\n",
       "    .dataframe thead th {\n",
       "        text-align: right;\n",
       "    }\n",
       "</style>\n",
       "<table border=\"1\" class=\"dataframe\">\n",
       "  <thead>\n",
       "    <tr style=\"text-align: right;\">\n",
       "      <th></th>\n",
       "      <th></th>\n",
       "      <th>cost</th>\n",
       "      <th>rating</th>\n",
       "      <th>review_count</th>\n",
       "      <th>promoted</th>\n",
       "    </tr>\n",
       "    <tr>\n",
       "      <th>area</th>\n",
       "      <th>location</th>\n",
       "      <th></th>\n",
       "      <th></th>\n",
       "      <th></th>\n",
       "      <th></th>\n",
       "    </tr>\n",
       "  </thead>\n",
       "  <tbody>\n",
       "    <tr>\n",
       "      <th rowspan=\"5\" valign=\"top\">Atlanta / Georgia</th>\n",
       "      <th>Acworth</th>\n",
       "      <td>2.046729</td>\n",
       "      <td>4.750000</td>\n",
       "      <td>567.000000</td>\n",
       "      <td>0.0</td>\n",
       "    </tr>\n",
       "    <tr>\n",
       "      <th>Airport / College Park</th>\n",
       "      <td>2.088235</td>\n",
       "      <td>4.137500</td>\n",
       "      <td>216.812500</td>\n",
       "      <td>0.0</td>\n",
       "    </tr>\n",
       "    <tr>\n",
       "      <th>Alpharetta</th>\n",
       "      <td>2.193103</td>\n",
       "      <td>4.252941</td>\n",
       "      <td>717.134615</td>\n",
       "      <td>0.0</td>\n",
       "    </tr>\n",
       "    <tr>\n",
       "      <th>Athens</th>\n",
       "      <td>2.217391</td>\n",
       "      <td>4.133333</td>\n",
       "      <td>1.000000</td>\n",
       "      <td>0.0</td>\n",
       "    </tr>\n",
       "    <tr>\n",
       "      <th>Augusta</th>\n",
       "      <td>2.074830</td>\n",
       "      <td>4.388000</td>\n",
       "      <td>333.566667</td>\n",
       "      <td>0.0</td>\n",
       "    </tr>\n",
       "    <tr>\n",
       "      <th>...</th>\n",
       "      <th>...</th>\n",
       "      <td>...</td>\n",
       "      <td>...</td>\n",
       "      <td>...</td>\n",
       "      <td>...</td>\n",
       "    </tr>\n",
       "    <tr>\n",
       "      <th rowspan=\"5\" valign=\"top\">Yorkshire</th>\n",
       "      <th>Wetherby</th>\n",
       "      <td>2.000000</td>\n",
       "      <td>4.400000</td>\n",
       "      <td>12.000000</td>\n",
       "      <td>0.0</td>\n",
       "    </tr>\n",
       "    <tr>\n",
       "      <th>Whitby</th>\n",
       "      <td>2.384615</td>\n",
       "      <td>4.372727</td>\n",
       "      <td>186.545455</td>\n",
       "      <td>0.0</td>\n",
       "    </tr>\n",
       "    <tr>\n",
       "      <th>Woodlesford</th>\n",
       "      <td>4.000000</td>\n",
       "      <td>3.600000</td>\n",
       "      <td>6.000000</td>\n",
       "      <td>0.0</td>\n",
       "    </tr>\n",
       "    <tr>\n",
       "      <th>Yarm</th>\n",
       "      <td>2.090909</td>\n",
       "      <td>4.409091</td>\n",
       "      <td>177.181818</td>\n",
       "      <td>0.0</td>\n",
       "    </tr>\n",
       "    <tr>\n",
       "      <th>York</th>\n",
       "      <td>2.179688</td>\n",
       "      <td>4.164423</td>\n",
       "      <td>142.261261</td>\n",
       "      <td>0.0</td>\n",
       "    </tr>\n",
       "  </tbody>\n",
       "</table>\n",
       "<p>4092 rows × 4 columns</p>\n",
       "</div>"
      ],
      "text/plain": [
       "                                              cost    rating  review_count  \\\n",
       "area              location                                                   \n",
       "Atlanta / Georgia Acworth                 2.046729  4.750000    567.000000   \n",
       "                  Airport / College Park  2.088235  4.137500    216.812500   \n",
       "                  Alpharetta              2.193103  4.252941    717.134615   \n",
       "                  Athens                  2.217391  4.133333      1.000000   \n",
       "                  Augusta                 2.074830  4.388000    333.566667   \n",
       "...                                            ...       ...           ...   \n",
       "Yorkshire         Wetherby                2.000000  4.400000     12.000000   \n",
       "                  Whitby                  2.384615  4.372727    186.545455   \n",
       "                  Woodlesford             4.000000  3.600000      6.000000   \n",
       "                  Yarm                    2.090909  4.409091    177.181818   \n",
       "                  York                    2.179688  4.164423    142.261261   \n",
       "\n",
       "                                          promoted  \n",
       "area              location                          \n",
       "Atlanta / Georgia Acworth                      0.0  \n",
       "                  Airport / College Park       0.0  \n",
       "                  Alpharetta                   0.0  \n",
       "                  Athens                       0.0  \n",
       "                  Augusta                      0.0  \n",
       "...                                            ...  \n",
       "Yorkshire         Wetherby                     0.0  \n",
       "                  Whitby                       0.0  \n",
       "                  Woodlesford                  0.0  \n",
       "                  Yarm                         0.0  \n",
       "                  York                         0.0  \n",
       "\n",
       "[4092 rows x 4 columns]"
      ]
     },
     "execution_count": 162,
     "metadata": {},
     "output_type": "execute_result"
    }
   ],
   "source": [
    "grouped_area_location.mean()"
   ]
  },
  {
   "cell_type": "markdown",
   "metadata": {},
   "source": [
    "## group by cuisine"
   ]
  },
  {
   "cell_type": "code",
   "execution_count": 187,
   "metadata": {},
   "outputs": [],
   "source": [
    "grouped_cuisine = ot.groupby('cuisine')"
   ]
  },
  {
   "cell_type": "code",
   "execution_count": 186,
   "metadata": {},
   "outputs": [],
   "source": [
    "grouped_cuisine_size = pd.DataFrame(ot.groupby('cuisine').size(),columns = ['restaurant_count']) > 50"
   ]
  },
  {
   "cell_type": "code",
   "execution_count": 192,
   "metadata": {},
   "outputs": [
    {
     "data": {
      "text/plain": [
       "cuisine\n",
       "Afghan           False\n",
       "African           True\n",
       "Afternoon Tea     True\n",
       "American          True\n",
       "Argentinean       True\n",
       "                 ...  \n",
       "Wine Bar          True\n",
       "Winery           False\n",
       "Yakiniku          True\n",
       "Yakitori         False\n",
       "Yoshoku          False\n",
       "Name: restaurant_count, Length: 237, dtype: bool"
      ]
     },
     "execution_count": 192,
     "metadata": {},
     "output_type": "execute_result"
    }
   ],
   "source": [
    "grouped_cuisine_size['restaurant_count']"
   ]
  },
  {
   "cell_type": "code",
   "execution_count": 232,
   "metadata": {
    "scrolled": true
   },
   "outputs": [],
   "source": [
    "cuisine_rating = grouped_cuisine.rating.agg(['count','mean'])\n",
    "cuisine_rating = cuisine_rating.sort_values('count',ascending = False)\n",
    "cuisine_rating = cuisine_rating['mean'].head(10)"
   ]
  },
  {
   "cell_type": "code",
   "execution_count": 233,
   "metadata": {},
   "outputs": [
    {
     "data": {
      "text/plain": [
       "<matplotlib.axes._subplots.AxesSubplot at 0x2845048f7b8>"
      ]
     },
     "execution_count": 233,
     "metadata": {},
     "output_type": "execute_result"
    },
    {
     "data": {
      "image/png": "[encoded data removed]",
      "text/plain": [
       "<Figure size 432x288 with 1 Axes>"
      ]
     },
     "metadata": {
      "needs_background": "light"
     },
     "output_type": "display_data"
    }
   ],
   "source": [
    "cuisine_rating.plot.bar()"
   ]
  },
  {
   "cell_type": "code",
   "execution_count": null,
   "metadata": {},
   "outputs": [],
   "source": []
  },
  {
   "cell_type": "markdown",
   "metadata": {},
   "source": [
    "# New York"
   ]
  },
  {
   "cell_type": "code",
   "execution_count": null,
   "metadata": {},
   "outputs": [],
   "source": []
  }
 ],
 "metadata": {
  "kernelspec": {
   "display_name": "Python 3",
   "language": "python",
   "name": "python3"
  },
  "language_info": {
   "codemirror_mode": {
    "name": "ipython",
    "version": 3
   },
   "file_extension": ".py",
   "mimetype": "text/x-python",
   "name": "python",
   "nbconvert_exporter": "python",
   "pygments_lexer": "ipython3",
   "version": "3.7.3"
  }
 },
 "nbformat": 4,
 "nbformat_minor": 2
}

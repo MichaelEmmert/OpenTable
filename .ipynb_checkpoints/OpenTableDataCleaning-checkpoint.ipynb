{
 "cells": [
  {
   "cell_type": "code",
   "execution_count": 53,
   "metadata": {},
   "outputs": [],
   "source": [
    "#librarys\n",
    "import pandas as pd\n",
    "import numpy as np"
   ]
  },
  {
   "cell_type": "code",
   "execution_count": 54,
   "metadata": {},
   "outputs": [],
   "source": [
    "opentable= pd.read_csv('opentable3.csv')"
   ]
  },
  {
   "cell_type": "code",
   "execution_count": 55,
   "metadata": {},
   "outputs": [],
   "source": [
    "# Cleaning review count\n",
    "opentable.review_count = opentable.review_count.str.replace('(','').str.replace(')','')\n",
    "opentable.review_count = pd.to_numeric(opentable.review_count)\n",
    "\n",
    "# Cleaning rating\n",
    "opentable.rating = opentable.rating.str.extract(r'(\\d.?\\d?) stars out of 5')\n",
    "opentable.rating = opentable.rating.apply(lambda row: ((float(row) - 3)/3)* 100,)\n",
    "\n",
    "#cleaning cost\n",
    "# where 1 = $30 and under 2 = $31-50 and 3 = $50 and over\n",
    "opentable.cost = opentable.cost.str.replace('[ \\t]','')\n",
    "opentable.cost = opentable.cost.apply(len)\n",
    "\n",
    "#cleaning promoted\n",
    "opentable.promoted = (opentable.promoted == 'Promoted')"
   ]
  },
  {
   "cell_type": "code",
   "execution_count": 56,
   "metadata": {
    "scrolled": false
   },
   "outputs": [
    {
     "data": {
      "text/html": [
       "<div>\n",
       "<style scoped>\n",
       "    .dataframe tbody tr th:only-of-type {\n",
       "        vertical-align: middle;\n",
       "    }\n",
       "\n",
       "    .dataframe tbody tr th {\n",
       "        vertical-align: top;\n",
       "    }\n",
       "\n",
       "    .dataframe thead th {\n",
       "        text-align: right;\n",
       "    }\n",
       "</style>\n",
       "<table border=\"1\" class=\"dataframe\">\n",
       "  <thead>\n",
       "    <tr style=\"text-align: right;\">\n",
       "      <th></th>\n",
       "      <th>area</th>\n",
       "      <th>cost</th>\n",
       "      <th>cuisine</th>\n",
       "      <th>link</th>\n",
       "      <th>location</th>\n",
       "      <th>location_on_page</th>\n",
       "      <th>name</th>\n",
       "      <th>promoted</th>\n",
       "      <th>rating</th>\n",
       "      <th>review_count</th>\n",
       "      <th>review_link</th>\n",
       "    </tr>\n",
       "  </thead>\n",
       "  <tbody>\n",
       "    <tr>\n",
       "      <th>0</th>\n",
       "      <td>Atlanta / Georgia</td>\n",
       "      <td>2</td>\n",
       "      <td>Caribbean</td>\n",
       "      <td>https://www.opentable.com/r/spice-house-on-cas...</td>\n",
       "      <td>Airport / College Park</td>\n",
       "      <td>[61, 0]</td>\n",
       "      <td>Spice House on Cascade</td>\n",
       "      <td>False</td>\n",
       "      <td>NaN</td>\n",
       "      <td>NaN</td>\n",
       "      <td>https://www.opentable.com/r/spice-house-on-cas...</td>\n",
       "    </tr>\n",
       "    <tr>\n",
       "      <th>1</th>\n",
       "      <td>Atlanta / Georgia</td>\n",
       "      <td>3</td>\n",
       "      <td>Italian</td>\n",
       "      <td>https://www.opentable.com/r/tbonz-steakhouse-a...</td>\n",
       "      <td>Augusta</td>\n",
       "      <td>[61, 1]</td>\n",
       "      <td>TBonz Steakhouse-Augusta</td>\n",
       "      <td>False</td>\n",
       "      <td>NaN</td>\n",
       "      <td>1.0</td>\n",
       "      <td>https://www.opentable.com/r/tbonz-steakhouse-a...</td>\n",
       "    </tr>\n",
       "    <tr>\n",
       "      <th>2</th>\n",
       "      <td>Atlanta / Georgia</td>\n",
       "      <td>3</td>\n",
       "      <td>Mediterranean</td>\n",
       "      <td>https://www.opentable.com/r/royal-restaurant-a...</td>\n",
       "      <td>Lilburn</td>\n",
       "      <td>[61, 2]</td>\n",
       "      <td>Royal Restaurant and Sweets</td>\n",
       "      <td>False</td>\n",
       "      <td>NaN</td>\n",
       "      <td>NaN</td>\n",
       "      <td>https://www.opentable.com/r/royal-restaurant-a...</td>\n",
       "    </tr>\n",
       "    <tr>\n",
       "      <th>3</th>\n",
       "      <td>Atlanta / Georgia</td>\n",
       "      <td>3</td>\n",
       "      <td>Italian</td>\n",
       "      <td>https://www.opentable.com/r/bollywood-zing-smy...</td>\n",
       "      <td>Smyrna</td>\n",
       "      <td>[61, 3]</td>\n",
       "      <td>Bollywood Zing</td>\n",
       "      <td>False</td>\n",
       "      <td>NaN</td>\n",
       "      <td>NaN</td>\n",
       "      <td>https://www.opentable.com/r/bollywood-zing-smy...</td>\n",
       "    </tr>\n",
       "    <tr>\n",
       "      <th>4</th>\n",
       "      <td>Atlanta / Georgia</td>\n",
       "      <td>3</td>\n",
       "      <td>Steakhouse</td>\n",
       "      <td>https://www.opentable.com/r/sushi-bar-yu-ka-at...</td>\n",
       "      <td>Buckhead</td>\n",
       "      <td>[61, 4]</td>\n",
       "      <td>Sushi Bar Yu-Ka</td>\n",
       "      <td>False</td>\n",
       "      <td>NaN</td>\n",
       "      <td>NaN</td>\n",
       "      <td>https://www.opentable.com/r/sushi-bar-yu-ka-at...</td>\n",
       "    </tr>\n",
       "  </tbody>\n",
       "</table>\n",
       "</div>"
      ],
      "text/plain": [
       "                area  cost        cuisine  \\\n",
       "0  Atlanta / Georgia     2      Caribbean   \n",
       "1  Atlanta / Georgia     3        Italian   \n",
       "2  Atlanta / Georgia     3  Mediterranean   \n",
       "3  Atlanta / Georgia     3        Italian   \n",
       "4  Atlanta / Georgia     3     Steakhouse   \n",
       "\n",
       "                                                link                location  \\\n",
       "0  https://www.opentable.com/r/spice-house-on-cas...  Airport / College Park   \n",
       "1  https://www.opentable.com/r/tbonz-steakhouse-a...                 Augusta   \n",
       "2  https://www.opentable.com/r/royal-restaurant-a...                 Lilburn   \n",
       "3  https://www.opentable.com/r/bollywood-zing-smy...                  Smyrna   \n",
       "4  https://www.opentable.com/r/sushi-bar-yu-ka-at...                Buckhead   \n",
       "\n",
       "  location_on_page                         name  promoted  rating  \\\n",
       "0          [61, 0]       Spice House on Cascade     False     NaN   \n",
       "1          [61, 1]     TBonz Steakhouse-Augusta     False     NaN   \n",
       "2          [61, 2]  Royal Restaurant and Sweets     False     NaN   \n",
       "3          [61, 3]               Bollywood Zing     False     NaN   \n",
       "4          [61, 4]              Sushi Bar Yu-Ka     False     NaN   \n",
       "\n",
       "   review_count                                        review_link  \n",
       "0           NaN  https://www.opentable.com/r/spice-house-on-cas...  \n",
       "1           1.0  https://www.opentable.com/r/tbonz-steakhouse-a...  \n",
       "2           NaN  https://www.opentable.com/r/royal-restaurant-a...  \n",
       "3           NaN  https://www.opentable.com/r/bollywood-zing-smy...  \n",
       "4           NaN  https://www.opentable.com/r/sushi-bar-yu-ka-at...  "
      ]
     },
     "execution_count": 56,
     "metadata": {},
     "output_type": "execute_result"
    }
   ],
   "source": [
    "opentable.head()"
   ]
  },
  {
   "cell_type": "code",
   "execution_count": 57,
   "metadata": {},
   "outputs": [],
   "source": [
    "opentable.to_csv('opentablecleaned.csv')"
   ]
  },
  {
   "cell_type": "code",
   "execution_count": null,
   "metadata": {},
   "outputs": [],
   "source": []
  }
 ],
 "metadata": {
  "kernelspec": {
   "display_name": "Python 3",
   "language": "python",
   "name": "python3"
  },
  "language_info": {
   "codemirror_mode": {
    "name": "ipython",
    "version": 3
   },
   "file_extension": ".py",
   "mimetype": "text/x-python",
   "name": "python",
   "nbconvert_exporter": "python",
   "pygments_lexer": "ipython3",
   "version": "3.7.3"
  }
 },
 "nbformat": 4,
 "nbformat_minor": 2
}

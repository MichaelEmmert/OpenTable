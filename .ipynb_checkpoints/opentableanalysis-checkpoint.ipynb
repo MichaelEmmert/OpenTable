{
 "cells": [
  {
   "cell_type": "code",
   "execution_count": 1,
   "metadata": {},
   "outputs": [],
   "source": [
    "import pandas as pd\n",
    "import numpy as np\n",
    "import seaborn as sns\n",
    "from matplotlib import pyplot as plt\n",
    "from pandas.plotting import table"
   ]
  },
  {
   "cell_type": "code",
   "execution_count": 2,
   "metadata": {},
   "outputs": [],
   "source": [
    "opentable= pd.read_csv('opentablecleaned.csv')"
   ]
  },
  {
   "cell_type": "code",
   "execution_count": 3,
   "metadata": {
    "scrolled": false
   },
   "outputs": [
    {
     "data": {
      "text/html": [
       "<div>\n",
       "<style scoped>\n",
       "    .dataframe tbody tr th:only-of-type {\n",
       "        vertical-align: middle;\n",
       "    }\n",
       "\n",
       "    .dataframe tbody tr th {\n",
       "        vertical-align: top;\n",
       "    }\n",
       "\n",
       "    .dataframe thead th {\n",
       "        text-align: right;\n",
       "    }\n",
       "</style>\n",
       "<table border=\"1\" class=\"dataframe\">\n",
       "  <thead>\n",
       "    <tr style=\"text-align: right;\">\n",
       "      <th></th>\n",
       "      <th>Unnamed: 0</th>\n",
       "      <th>area</th>\n",
       "      <th>cost</th>\n",
       "      <th>cuisine</th>\n",
       "      <th>link</th>\n",
       "      <th>location</th>\n",
       "      <th>location_on_page</th>\n",
       "      <th>name</th>\n",
       "      <th>promoted</th>\n",
       "      <th>rating</th>\n",
       "      <th>review_count</th>\n",
       "      <th>review_link</th>\n",
       "    </tr>\n",
       "  </thead>\n",
       "  <tbody>\n",
       "    <tr>\n",
       "      <th>98635</th>\n",
       "      <td>98635</td>\n",
       "      <td>washington, d.c. area</td>\n",
       "      <td>\\$30 and under</td>\n",
       "      <td>american</td>\n",
       "      <td>https://www.opentable.com/r/cheesetique-mosaic...</td>\n",
       "      <td>fairfax</td>\n",
       "      <td>[11, 0]</td>\n",
       "      <td>cheesetique - mosaic</td>\n",
       "      <td>True</td>\n",
       "      <td>75.0</td>\n",
       "      <td>195.0</td>\n",
       "      <td>https://www.opentable.com/r/cheesetique-mosaic...</td>\n",
       "    </tr>\n",
       "    <tr>\n",
       "      <th>127713</th>\n",
       "      <td>127713</td>\n",
       "      <td>dallas - fort worth</td>\n",
       "      <td>\\$31 to \\$50</td>\n",
       "      <td>american</td>\n",
       "      <td>https://www.opentable.com/r/table-13-addison?a...</td>\n",
       "      <td>north dallas / addison</td>\n",
       "      <td>[4, 0]</td>\n",
       "      <td>table 13</td>\n",
       "      <td>True</td>\n",
       "      <td>80.0</td>\n",
       "      <td>1943.0</td>\n",
       "      <td>https://www.opentable.com/r/table-13-addison?a...</td>\n",
       "    </tr>\n",
       "    <tr>\n",
       "      <th>58440</th>\n",
       "      <td>58440</td>\n",
       "      <td>new york / tri-state area</td>\n",
       "      <td>\\$31 to \\$50</td>\n",
       "      <td>american</td>\n",
       "      <td>https://www.opentable.com/r/perrine-new-york?a...</td>\n",
       "      <td>upper east side</td>\n",
       "      <td>[12, 5]</td>\n",
       "      <td>perrine</td>\n",
       "      <td>True</td>\n",
       "      <td>70.0</td>\n",
       "      <td>373.0</td>\n",
       "      <td>https://www.opentable.com/r/perrine-new-york?a...</td>\n",
       "    </tr>\n",
       "    <tr>\n",
       "      <th>58439</th>\n",
       "      <td>58439</td>\n",
       "      <td>new york / tri-state area</td>\n",
       "      <td>\\$50 and up</td>\n",
       "      <td>steakhouse</td>\n",
       "      <td>https://www.opentable.com/r/bobs-steak-and-cho...</td>\n",
       "      <td>midtown east</td>\n",
       "      <td>[12, 4]</td>\n",
       "      <td>bob's steak &amp; chop house - new york</td>\n",
       "      <td>True</td>\n",
       "      <td>75.0</td>\n",
       "      <td>250.0</td>\n",
       "      <td>https://www.opentable.com/r/bobs-steak-and-cho...</td>\n",
       "    </tr>\n",
       "    <tr>\n",
       "      <th>53641</th>\n",
       "      <td>53641</td>\n",
       "      <td>new york / tri-state area</td>\n",
       "      <td>\\$31 to \\$50</td>\n",
       "      <td>steakhouse</td>\n",
       "      <td>https://www.opentable.com/r/ruths-chris-steak-...</td>\n",
       "      <td>jersey city</td>\n",
       "      <td>[60, 6]</td>\n",
       "      <td>ruth's chris steak house - jersey city</td>\n",
       "      <td>True</td>\n",
       "      <td>75.0</td>\n",
       "      <td>260.0</td>\n",
       "      <td>https://www.opentable.com/r/ruths-chris-steak-...</td>\n",
       "    </tr>\n",
       "  </tbody>\n",
       "</table>\n",
       "</div>"
      ],
      "text/plain": [
       "        Unnamed: 0                       area            cost     cuisine  \\\n",
       "98635        98635      washington, d.c. area  \\$30 and under    american   \n",
       "127713      127713        dallas - fort worth    \\$31 to \\$50    american   \n",
       "58440        58440  new york / tri-state area    \\$31 to \\$50    american   \n",
       "58439        58439  new york / tri-state area     \\$50 and up  steakhouse   \n",
       "53641        53641  new york / tri-state area    \\$31 to \\$50  steakhouse   \n",
       "\n",
       "                                                     link  \\\n",
       "98635   https://www.opentable.com/r/cheesetique-mosaic...   \n",
       "127713  https://www.opentable.com/r/table-13-addison?a...   \n",
       "58440   https://www.opentable.com/r/perrine-new-york?a...   \n",
       "58439   https://www.opentable.com/r/bobs-steak-and-cho...   \n",
       "53641   https://www.opentable.com/r/ruths-chris-steak-...   \n",
       "\n",
       "                      location location_on_page  \\\n",
       "98635                  fairfax          [11, 0]   \n",
       "127713  north dallas / addison           [4, 0]   \n",
       "58440          upper east side          [12, 5]   \n",
       "58439             midtown east          [12, 4]   \n",
       "53641              jersey city          [60, 6]   \n",
       "\n",
       "                                          name  promoted  rating  \\\n",
       "98635                     cheesetique - mosaic      True    75.0   \n",
       "127713                                table 13      True    80.0   \n",
       "58440                                  perrine      True    70.0   \n",
       "58439      bob's steak & chop house - new york      True    75.0   \n",
       "53641   ruth's chris steak house - jersey city      True    75.0   \n",
       "\n",
       "        review_count                                        review_link  \n",
       "98635          195.0  https://www.opentable.com/r/cheesetique-mosaic...  \n",
       "127713        1943.0  https://www.opentable.com/r/table-13-addison?a...  \n",
       "58440          373.0  https://www.opentable.com/r/perrine-new-york?a...  \n",
       "58439          250.0  https://www.opentable.com/r/bobs-steak-and-cho...  \n",
       "53641          260.0  https://www.opentable.com/r/ruths-chris-steak-...  "
      ]
     },
     "execution_count": 3,
     "metadata": {},
     "output_type": "execute_result"
    }
   ],
   "source": [
    "opentable.sort_values('promoted',ascending = False).head()"
   ]
  },
  {
   "cell_type": "code",
   "execution_count": 4,
   "metadata": {},
   "outputs": [
    {
     "data": {
      "text/plain": [
       "Unnamed: 0               0\n",
       "area                   100\n",
       "cost                     0\n",
       "cuisine                  0\n",
       "link                     0\n",
       "location                 0\n",
       "location_on_page         0\n",
       "name                     0\n",
       "promoted                 0\n",
       "rating              121707\n",
       "review_count        120693\n",
       "review_link              0\n",
       "dtype: int64"
      ]
     },
     "execution_count": 4,
     "metadata": {},
     "output_type": "execute_result"
    }
   ],
   "source": [
    "opentable.isna().sum()"
   ]
  },
  {
   "cell_type": "code",
   "execution_count": 5,
   "metadata": {},
   "outputs": [
    {
     "data": {
      "text/html": [
       "<div>\n",
       "<style scoped>\n",
       "    .dataframe tbody tr th:only-of-type {\n",
       "        vertical-align: middle;\n",
       "    }\n",
       "\n",
       "    .dataframe tbody tr th {\n",
       "        vertical-align: top;\n",
       "    }\n",
       "\n",
       "    .dataframe thead th {\n",
       "        text-align: right;\n",
       "    }\n",
       "</style>\n",
       "<table border=\"1\" class=\"dataframe\">\n",
       "  <thead>\n",
       "    <tr style=\"text-align: right;\">\n",
       "      <th></th>\n",
       "      <th>area</th>\n",
       "      <th>location</th>\n",
       "      <th>name</th>\n",
       "      <th>cuisine</th>\n",
       "      <th>cost</th>\n",
       "      <th>rating</th>\n",
       "      <th>review_count</th>\n",
       "      <th>promoted</th>\n",
       "      <th>location_on_page</th>\n",
       "    </tr>\n",
       "  </thead>\n",
       "  <tbody>\n",
       "    <tr>\n",
       "      <th>163307</th>\n",
       "      <td>miami / southeast florida</td>\n",
       "      <td>miami</td>\n",
       "      <td>angloinfo (uk) limited</td>\n",
       "      <td>american</td>\n",
       "      <td>\\$30 and under</td>\n",
       "      <td>NaN</td>\n",
       "      <td>NaN</td>\n",
       "      <td>False</td>\n",
       "      <td>[6, 94]</td>\n",
       "    </tr>\n",
       "  </tbody>\n",
       "</table>\n",
       "</div>"
      ],
      "text/plain": [
       "                             area location                    name   cuisine  \\\n",
       "163307  miami / southeast florida    miami  angloinfo (uk) limited  american   \n",
       "\n",
       "                  cost  rating  review_count  promoted location_on_page  \n",
       "163307  \\$30 and under     NaN           NaN     False          [6, 94]  "
      ]
     },
     "execution_count": 5,
     "metadata": {},
     "output_type": "execute_result"
    }
   ],
   "source": [
    "#without links\n",
    "ot = opentable[['area','location','name','cuisine','cost','rating','review_count','promoted','location_on_page']]\n",
    "ot.sample()"
   ]
  },
  {
   "cell_type": "code",
   "execution_count": 6,
   "metadata": {
    "scrolled": true
   },
   "outputs": [
    {
     "data": {
      "text/plain": [
       "1014"
      ]
     },
     "execution_count": 6,
     "metadata": {},
     "output_type": "execute_result"
    }
   ],
   "source": [
    "rating_without_reviews = ot.rating.isna().sum() - ot.review_count.isna().sum()\n",
    "rating_without_reviews"
   ]
  },
  {
   "cell_type": "code",
   "execution_count": 7,
   "metadata": {
    "scrolled": true
   },
   "outputs": [
    {
     "data": {
      "text/plain": [
       "'74.3%'"
      ]
     },
     "execution_count": 7,
     "metadata": {},
     "output_type": "execute_result"
    }
   ],
   "source": [
    "percent_missing_rating = str(round(((ot.rating.isna().sum()/len(ot))*100),2)) +'%'\n",
    "percent_missing_rating "
   ]
  },
  {
   "cell_type": "markdown",
   "metadata": {},
   "source": [
    "# Scatter Plots"
   ]
  },
  {
   "cell_type": "code",
   "execution_count": 8,
   "metadata": {
    "scrolled": true
   },
   "outputs": [
    {
     "data": {
      "image/png": "[encoded data removed]",
      "text/plain": [
       "<Figure size 432x288 with 1 Axes>"
      ]
     },
     "metadata": {
      "needs_background": "light"
     },
     "output_type": "display_data"
    },
    {
     "data": {
      "text/plain": [
       "<Figure size 800x800 with 0 Axes>"
      ]
     },
     "metadata": {},
     "output_type": "display_data"
    }
   ],
   "source": [
    "plt.scatter(y = ot.review_count, x =ot.rating)\n",
    "plt.title('Rating ')\n",
    "plt.xlabel('Rating')\n",
    "plt.ylabel('Number of Reiews')\n",
    "plt.figure(num=None, figsize=(10, 10), dpi=80, facecolor='w', edgecolor='k')\n",
    "plt.show()"
   ]
  },
  {
   "cell_type": "code",
   "execution_count": 9,
   "metadata": {},
   "outputs": [
    {
     "name": "stderr",
     "output_type": "stream",
     "text": [
      "C:\\Users\\Micha\\Downloads\\Anaconda\\lib\\site-packages\\numpy\\lib\\histograms.py:839: RuntimeWarning: invalid value encountered in greater_equal\n",
      "  keep = (tmp_a >= first_edge)\n",
      "C:\\Users\\Micha\\Downloads\\Anaconda\\lib\\site-packages\\numpy\\lib\\histograms.py:840: RuntimeWarning: invalid value encountered in less_equal\n",
      "  keep &= (tmp_a <= last_edge)\n"
     ]
    },
    {
     "data": {
      "image/png": "[encoded data removed]",
      "text/plain": [
       "<Figure size 432x288 with 1 Axes>"
      ]
     },
     "metadata": {
      "needs_background": "light"
     },
     "output_type": "display_data"
    },
    {
     "data": {
      "text/plain": [
       "<Figure size 800x800 with 0 Axes>"
      ]
     },
     "metadata": {},
     "output_type": "display_data"
    }
   ],
   "source": [
    "plt.hist(x =ot.rating)\n",
    "plt.title('histogram of rating distribution ')\n",
    "plt.xlabel('Rating')\n",
    "plt.ylabel('Count')\n",
    "plt.figure(num=None, figsize=(10, 10), dpi=80, facecolor='w', edgecolor='k')\n",
    "plt.show()"
   ]
  },
  {
   "cell_type": "markdown",
   "metadata": {},
   "source": [
    "# Groupings\n",
    "## Grouped by area"
   ]
  },
  {
   "cell_type": "code",
   "execution_count": 10,
   "metadata": {
    "scrolled": true
   },
   "outputs": [],
   "source": [
    "grouped_area_size = pd.DataFrame(ot.groupby('area').size(),columns = ['restaurant_count'])"
   ]
  },
  {
   "cell_type": "code",
   "execution_count": 11,
   "metadata": {},
   "outputs": [
    {
     "data": {
      "text/html": [
       "<div>\n",
       "<style scoped>\n",
       "    .dataframe tbody tr th:only-of-type {\n",
       "        vertical-align: middle;\n",
       "    }\n",
       "\n",
       "    .dataframe tbody tr th {\n",
       "        vertical-align: top;\n",
       "    }\n",
       "\n",
       "    .dataframe thead th {\n",
       "        text-align: right;\n",
       "    }\n",
       "</style>\n",
       "<table border=\"1\" class=\"dataframe\">\n",
       "  <thead>\n",
       "    <tr style=\"text-align: right;\">\n",
       "      <th></th>\n",
       "      <th>restaurant_count</th>\n",
       "    </tr>\n",
       "    <tr>\n",
       "      <th>area</th>\n",
       "      <th></th>\n",
       "    </tr>\n",
       "  </thead>\n",
       "  <tbody>\n",
       "    <tr>\n",
       "      <th>atlanta / georgia</th>\n",
       "      <td>6105</td>\n",
       "    </tr>\n",
       "    <tr>\n",
       "      <th>atlantic canada</th>\n",
       "      <td>1069</td>\n",
       "    </tr>\n",
       "    <tr>\n",
       "      <th>baja california sur</th>\n",
       "      <td>167</td>\n",
       "    </tr>\n",
       "    <tr>\n",
       "      <th>barcelona</th>\n",
       "      <td>966</td>\n",
       "    </tr>\n",
       "    <tr>\n",
       "      <th>berlin</th>\n",
       "      <td>1698</td>\n",
       "    </tr>\n",
       "    <tr>\n",
       "      <th>boston / new england</th>\n",
       "      <td>10000</td>\n",
       "    </tr>\n",
       "    <tr>\n",
       "      <th>calgary / southern alberta</th>\n",
       "      <td>1459</td>\n",
       "    </tr>\n",
       "    <tr>\n",
       "      <th>cancun / riviera maya</th>\n",
       "      <td>364</td>\n",
       "    </tr>\n",
       "    <tr>\n",
       "      <th>chicago / illinois</th>\n",
       "      <td>10000</td>\n",
       "    </tr>\n",
       "    <tr>\n",
       "      <th>dallas - fort worth</th>\n",
       "      <td>5637</td>\n",
       "    </tr>\n",
       "    <tr>\n",
       "      <th>denver / colorado</th>\n",
       "      <td>4804</td>\n",
       "    </tr>\n",
       "    <tr>\n",
       "      <th>detroit / eastern michigan</th>\n",
       "      <td>4161</td>\n",
       "    </tr>\n",
       "    <tr>\n",
       "      <th>dublin</th>\n",
       "      <td>654</td>\n",
       "    </tr>\n",
       "    <tr>\n",
       "      <th>edinburgh/midlothian</th>\n",
       "      <td>757</td>\n",
       "    </tr>\n",
       "    <tr>\n",
       "      <th>edmonton / northern alberta</th>\n",
       "      <td>1075</td>\n",
       "    </tr>\n",
       "    <tr>\n",
       "      <th>essex</th>\n",
       "      <td>374</td>\n",
       "    </tr>\n",
       "    <tr>\n",
       "      <th>frankfurt / taunus</th>\n",
       "      <td>459</td>\n",
       "    </tr>\n",
       "    <tr>\n",
       "      <th>glasgow/lanarkshire</th>\n",
       "      <td>493</td>\n",
       "    </tr>\n",
       "    <tr>\n",
       "      <th>hamburg / hamburg area</th>\n",
       "      <td>620</td>\n",
       "    </tr>\n",
       "    <tr>\n",
       "      <th>houston</th>\n",
       "      <td>5638</td>\n",
       "    </tr>\n",
       "    <tr>\n",
       "      <th>indiana</th>\n",
       "      <td>3910</td>\n",
       "    </tr>\n",
       "    <tr>\n",
       "      <th>italy</th>\n",
       "      <td>1482</td>\n",
       "    </tr>\n",
       "    <tr>\n",
       "      <th>kanagawa</th>\n",
       "      <td>105</td>\n",
       "    </tr>\n",
       "    <tr>\n",
       "      <th>kent</th>\n",
       "      <td>593</td>\n",
       "    </tr>\n",
       "    <tr>\n",
       "      <th>las vegas</th>\n",
       "      <td>2142</td>\n",
       "    </tr>\n",
       "    <tr>\n",
       "      <th>london</th>\n",
       "      <td>5468</td>\n",
       "    </tr>\n",
       "    <tr>\n",
       "      <th>los angeles</th>\n",
       "      <td>10000</td>\n",
       "    </tr>\n",
       "    <tr>\n",
       "      <th>madrid</th>\n",
       "      <td>943</td>\n",
       "    </tr>\n",
       "    <tr>\n",
       "      <th>manchester/greater manchester</th>\n",
       "      <td>471</td>\n",
       "    </tr>\n",
       "    <tr>\n",
       "      <th>mexico city</th>\n",
       "      <td>1018</td>\n",
       "    </tr>\n",
       "    <tr>\n",
       "      <th>miami / southeast florida</th>\n",
       "      <td>5986</td>\n",
       "    </tr>\n",
       "    <tr>\n",
       "      <th>monterrey</th>\n",
       "      <td>182</td>\n",
       "    </tr>\n",
       "    <tr>\n",
       "      <th>montreal / quebec</th>\n",
       "      <td>3971</td>\n",
       "    </tr>\n",
       "    <tr>\n",
       "      <th>munich / lower bavaria / bavarian swabia</th>\n",
       "      <td>1306</td>\n",
       "    </tr>\n",
       "    <tr>\n",
       "      <th>new york / tri-state area</th>\n",
       "      <td>10000</td>\n",
       "    </tr>\n",
       "    <tr>\n",
       "      <th>orlando / central florida east</th>\n",
       "      <td>4328</td>\n",
       "    </tr>\n",
       "    <tr>\n",
       "      <th>philadelphia / new jersey suburbs</th>\n",
       "      <td>8682</td>\n",
       "    </tr>\n",
       "    <tr>\n",
       "      <th>portland / oregon</th>\n",
       "      <td>4241</td>\n",
       "    </tr>\n",
       "    <tr>\n",
       "      <th>san francisco bay area</th>\n",
       "      <td>8500</td>\n",
       "    </tr>\n",
       "    <tr>\n",
       "      <th>seattle / eastern washington</th>\n",
       "      <td>6247</td>\n",
       "    </tr>\n",
       "    <tr>\n",
       "      <th>stuttgart / east baden-württemberg</th>\n",
       "      <td>240</td>\n",
       "    </tr>\n",
       "    <tr>\n",
       "      <th>tokyo metropolitan area</th>\n",
       "      <td>1115</td>\n",
       "    </tr>\n",
       "    <tr>\n",
       "      <th>toronto / ontario</th>\n",
       "      <td>7414</td>\n",
       "    </tr>\n",
       "    <tr>\n",
       "      <th>vancouver / british columbia</th>\n",
       "      <td>4563</td>\n",
       "    </tr>\n",
       "    <tr>\n",
       "      <th>virginia</th>\n",
       "      <td>3923</td>\n",
       "    </tr>\n",
       "    <tr>\n",
       "      <th>washington, d.c. area</th>\n",
       "      <td>4623</td>\n",
       "    </tr>\n",
       "    <tr>\n",
       "      <th>wisconsin</th>\n",
       "      <td>4951</td>\n",
       "    </tr>\n",
       "    <tr>\n",
       "      <th>yorkshire</th>\n",
       "      <td>809</td>\n",
       "    </tr>\n",
       "  </tbody>\n",
       "</table>\n",
       "</div>"
      ],
      "text/plain": [
       "                                          restaurant_count\n",
       "area                                                      \n",
       "atlanta / georgia                                     6105\n",
       "atlantic canada                                       1069\n",
       "baja california sur                                    167\n",
       "barcelona                                              966\n",
       "berlin                                                1698\n",
       "boston / new england                                 10000\n",
       "calgary / southern alberta                            1459\n",
       "cancun / riviera maya                                  364\n",
       "chicago / illinois                                   10000\n",
       "dallas - fort worth                                   5637\n",
       "denver / colorado                                     4804\n",
       "detroit / eastern michigan                            4161\n",
       "dublin                                                 654\n",
       "edinburgh/midlothian                                   757\n",
       "edmonton / northern alberta                           1075\n",
       "essex                                                  374\n",
       "frankfurt / taunus                                     459\n",
       "glasgow/lanarkshire                                    493\n",
       "hamburg / hamburg area                                 620\n",
       "houston                                               5638\n",
       "indiana                                               3910\n",
       "italy                                                 1482\n",
       "kanagawa                                               105\n",
       "kent                                                   593\n",
       "las vegas                                             2142\n",
       "london                                                5468\n",
       "los angeles                                          10000\n",
       "madrid                                                 943\n",
       "manchester/greater manchester                          471\n",
       "mexico city                                           1018\n",
       "miami / southeast florida                             5986\n",
       "monterrey                                              182\n",
       "montreal / quebec                                     3971\n",
       "munich / lower bavaria / bavarian swabia              1306\n",
       "new york / tri-state area                            10000\n",
       "orlando / central florida east                        4328\n",
       "philadelphia / new jersey suburbs                     8682\n",
       "portland / oregon                                     4241\n",
       "san francisco bay area                                8500\n",
       "seattle / eastern washington                          6247\n",
       "stuttgart / east baden-württemberg                     240\n",
       "tokyo metropolitan area                               1115\n",
       "toronto / ontario                                     7414\n",
       "vancouver / british columbia                          4563\n",
       "virginia                                              3923\n",
       "washington, d.c. area                                 4623\n",
       "wisconsin                                             4951\n",
       "yorkshire                                              809"
      ]
     },
     "execution_count": 11,
     "metadata": {},
     "output_type": "execute_result"
    }
   ],
   "source": [
    "grouped_area_size"
   ]
  },
  {
   "cell_type": "code",
   "execution_count": 12,
   "metadata": {},
   "outputs": [
    {
     "data": {
      "text/html": [
       "<div>\n",
       "<style scoped>\n",
       "    .dataframe tbody tr th:only-of-type {\n",
       "        vertical-align: middle;\n",
       "    }\n",
       "\n",
       "    .dataframe tbody tr th {\n",
       "        vertical-align: top;\n",
       "    }\n",
       "\n",
       "    .dataframe thead th {\n",
       "        text-align: right;\n",
       "    }\n",
       "</style>\n",
       "<table border=\"1\" class=\"dataframe\">\n",
       "  <thead>\n",
       "    <tr style=\"text-align: right;\">\n",
       "      <th></th>\n",
       "      <th>restaurant_count</th>\n",
       "    </tr>\n",
       "    <tr>\n",
       "      <th>area</th>\n",
       "      <th></th>\n",
       "    </tr>\n",
       "  </thead>\n",
       "  <tbody>\n",
       "    <tr>\n",
       "      <th>los angeles</th>\n",
       "      <td>10000</td>\n",
       "    </tr>\n",
       "    <tr>\n",
       "      <th>chicago / illinois</th>\n",
       "      <td>10000</td>\n",
       "    </tr>\n",
       "    <tr>\n",
       "      <th>new york / tri-state area</th>\n",
       "      <td>10000</td>\n",
       "    </tr>\n",
       "    <tr>\n",
       "      <th>boston / new england</th>\n",
       "      <td>10000</td>\n",
       "    </tr>\n",
       "    <tr>\n",
       "      <th>philadelphia / new jersey suburbs</th>\n",
       "      <td>8682</td>\n",
       "    </tr>\n",
       "    <tr>\n",
       "      <th>san francisco bay area</th>\n",
       "      <td>8500</td>\n",
       "    </tr>\n",
       "    <tr>\n",
       "      <th>toronto / ontario</th>\n",
       "      <td>7414</td>\n",
       "    </tr>\n",
       "    <tr>\n",
       "      <th>seattle / eastern washington</th>\n",
       "      <td>6247</td>\n",
       "    </tr>\n",
       "    <tr>\n",
       "      <th>atlanta / georgia</th>\n",
       "      <td>6105</td>\n",
       "    </tr>\n",
       "    <tr>\n",
       "      <th>miami / southeast florida</th>\n",
       "      <td>5986</td>\n",
       "    </tr>\n",
       "  </tbody>\n",
       "</table>\n",
       "</div>"
      ],
      "text/plain": [
       "                                   restaurant_count\n",
       "area                                               \n",
       "los angeles                                   10000\n",
       "chicago / illinois                            10000\n",
       "new york / tri-state area                     10000\n",
       "boston / new england                          10000\n",
       "philadelphia / new jersey suburbs              8682\n",
       "san francisco bay area                         8500\n",
       "toronto / ontario                              7414\n",
       "seattle / eastern washington                   6247\n",
       "atlanta / georgia                              6105\n",
       "miami / southeast florida                      5986"
      ]
     },
     "execution_count": 12,
     "metadata": {},
     "output_type": "execute_result"
    }
   ],
   "source": [
    "area_size_table = grouped_area_size.sort_values('restaurant_count',ascending = False).head(10)\n",
    "area_size_table"
   ]
  },
  {
   "cell_type": "markdown",
   "metadata": {},
   "source": [
    "## Grouped by location"
   ]
  },
  {
   "cell_type": "code",
   "execution_count": 13,
   "metadata": {},
   "outputs": [],
   "source": [
    "grouped_location_size = pd.DataFrame(ot.groupby('location').size(),columns = ['restaurant_count'])"
   ]
  },
  {
   "cell_type": "code",
   "execution_count": 14,
   "metadata": {},
   "outputs": [
    {
     "data": {
      "text/plain": [
       "3833"
      ]
     },
     "execution_count": 14,
     "metadata": {},
     "output_type": "execute_result"
    }
   ],
   "source": [
    "len(grouped_location_size)"
   ]
  },
  {
   "cell_type": "code",
   "execution_count": 15,
   "metadata": {},
   "outputs": [
    {
     "data": {
      "text/html": [
       "<div>\n",
       "<style scoped>\n",
       "    .dataframe tbody tr th:only-of-type {\n",
       "        vertical-align: middle;\n",
       "    }\n",
       "\n",
       "    .dataframe tbody tr th {\n",
       "        vertical-align: top;\n",
       "    }\n",
       "\n",
       "    .dataframe thead th {\n",
       "        text-align: right;\n",
       "    }\n",
       "</style>\n",
       "<table border=\"1\" class=\"dataframe\">\n",
       "  <thead>\n",
       "    <tr style=\"text-align: right;\">\n",
       "      <th></th>\n",
       "      <th>restaurant_count</th>\n",
       "    </tr>\n",
       "    <tr>\n",
       "      <th>location</th>\n",
       "      <th></th>\n",
       "    </tr>\n",
       "  </thead>\n",
       "  <tbody>\n",
       "    <tr>\n",
       "      <th>downtown</th>\n",
       "      <td>2599</td>\n",
       "    </tr>\n",
       "    <tr>\n",
       "      <th>sooke</th>\n",
       "      <td>1211</td>\n",
       "    </tr>\n",
       "    <tr>\n",
       "      <th>detroit</th>\n",
       "      <td>1135</td>\n",
       "    </tr>\n",
       "    <tr>\n",
       "      <th>richmond</th>\n",
       "      <td>895</td>\n",
       "    </tr>\n",
       "    <tr>\n",
       "      <th>milwaukee</th>\n",
       "      <td>687</td>\n",
       "    </tr>\n",
       "    <tr>\n",
       "      <th>...</th>\n",
       "      <td>...</td>\n",
       "    </tr>\n",
       "    <tr>\n",
       "      <th>horton kirby</th>\n",
       "      <td>1</td>\n",
       "    </tr>\n",
       "    <tr>\n",
       "      <th>hooksett</th>\n",
       "      <td>1</td>\n",
       "    </tr>\n",
       "    <tr>\n",
       "      <th>holzkirchen</th>\n",
       "      <td>1</td>\n",
       "    </tr>\n",
       "    <tr>\n",
       "      <th>hollingbourne</th>\n",
       "      <td>1</td>\n",
       "    </tr>\n",
       "    <tr>\n",
       "      <th>abbey street</th>\n",
       "      <td>1</td>\n",
       "    </tr>\n",
       "  </tbody>\n",
       "</table>\n",
       "<p>3833 rows × 1 columns</p>\n",
       "</div>"
      ],
      "text/plain": [
       "               restaurant_count\n",
       "location                       \n",
       "downtown                   2599\n",
       "sooke                      1211\n",
       "detroit                    1135\n",
       "richmond                    895\n",
       "milwaukee                   687\n",
       "...                         ...\n",
       "horton kirby                  1\n",
       "hooksett                      1\n",
       "holzkirchen                   1\n",
       "hollingbourne                 1\n",
       "abbey street                  1\n",
       "\n",
       "[3833 rows x 1 columns]"
      ]
     },
     "execution_count": 15,
     "metadata": {},
     "output_type": "execute_result"
    }
   ],
   "source": [
    "grouped_location_size.sort_values('restaurant_count', ascending = False)"
   ]
  },
  {
   "cell_type": "markdown",
   "metadata": {},
   "source": [
    "## Grouped by cost"
   ]
  },
  {
   "cell_type": "code",
   "execution_count": 16,
   "metadata": {},
   "outputs": [
    {
     "data": {
      "text/plain": [
       "Text(0.5, 1.0, 'Restraunts at Each Price Point')"
      ]
     },
     "execution_count": 16,
     "metadata": {},
     "output_type": "execute_result"
    },
    {
     "data": {
      "image/png": "[encoded data removed]",
      "text/plain": [
       "<Figure size 432x288 with 1 Axes>"
      ]
     },
     "metadata": {},
     "output_type": "display_data"
    }
   ],
   "source": [
    "grouped_cost_size = pd.DataFrame(ot.groupby('cost').size(),columns = ['restaurant_count'])\n",
    "\n",
    "grouped_cost_size.plot(kind = 'pie', y = 'restaurant_count')\n",
    "plt.ylabel('')\n",
    "plt.title('Restraunts at Each Price Point')"
   ]
  },
  {
   "cell_type": "code",
   "execution_count": 17,
   "metadata": {},
   "outputs": [],
   "source": [
    "grouped_cost = ot.groupby('cost')"
   ]
  },
  {
   "cell_type": "code",
   "execution_count": 18,
   "metadata": {
    "scrolled": false
   },
   "outputs": [
    {
     "data": {
      "text/html": [
       "<div>\n",
       "<style scoped>\n",
       "    .dataframe tbody tr th:only-of-type {\n",
       "        vertical-align: middle;\n",
       "    }\n",
       "\n",
       "    .dataframe tbody tr th {\n",
       "        vertical-align: top;\n",
       "    }\n",
       "\n",
       "    .dataframe thead tr th {\n",
       "        text-align: left;\n",
       "    }\n",
       "\n",
       "    .dataframe thead tr:last-of-type th {\n",
       "        text-align: right;\n",
       "    }\n",
       "</style>\n",
       "<table border=\"1\" class=\"dataframe\">\n",
       "  <thead>\n",
       "    <tr>\n",
       "      <th></th>\n",
       "      <th colspan=\"3\" halign=\"left\">rating</th>\n",
       "      <th colspan=\"3\" halign=\"left\">review_count</th>\n",
       "      <th colspan=\"3\" halign=\"left\">promoted</th>\n",
       "    </tr>\n",
       "    <tr>\n",
       "      <th></th>\n",
       "      <th>mean</th>\n",
       "      <th>sum</th>\n",
       "      <th>count</th>\n",
       "      <th>mean</th>\n",
       "      <th>sum</th>\n",
       "      <th>count</th>\n",
       "      <th>mean</th>\n",
       "      <th>sum</th>\n",
       "      <th>count</th>\n",
       "    </tr>\n",
       "    <tr>\n",
       "      <th>cost</th>\n",
       "      <th></th>\n",
       "      <th></th>\n",
       "      <th></th>\n",
       "      <th></th>\n",
       "      <th></th>\n",
       "      <th></th>\n",
       "      <th></th>\n",
       "      <th></th>\n",
       "      <th></th>\n",
       "    </tr>\n",
       "  </thead>\n",
       "  <tbody>\n",
       "    <tr>\n",
       "      <th>\\$30 and under</th>\n",
       "      <td>62.549174</td>\n",
       "      <td>1783965.0</td>\n",
       "      <td>28521</td>\n",
       "      <td>276.190784</td>\n",
       "      <td>8109790.0</td>\n",
       "      <td>29363</td>\n",
       "      <td>0.001469</td>\n",
       "      <td>204.0</td>\n",
       "      <td>138848</td>\n",
       "    </tr>\n",
       "    <tr>\n",
       "      <th>\\$31 to \\$50</th>\n",
       "      <td>68.794039</td>\n",
       "      <td>722475.0</td>\n",
       "      <td>10502</td>\n",
       "      <td>681.710338</td>\n",
       "      <td>7253398.0</td>\n",
       "      <td>10640</td>\n",
       "      <td>0.009356</td>\n",
       "      <td>185.0</td>\n",
       "      <td>19773</td>\n",
       "    </tr>\n",
       "    <tr>\n",
       "      <th>\\$50 and up</th>\n",
       "      <td>74.774570</td>\n",
       "      <td>230530.0</td>\n",
       "      <td>3083</td>\n",
       "      <td>840.726981</td>\n",
       "      <td>2620546.0</td>\n",
       "      <td>3117</td>\n",
       "      <td>0.014253</td>\n",
       "      <td>74.0</td>\n",
       "      <td>5192</td>\n",
       "    </tr>\n",
       "  </tbody>\n",
       "</table>\n",
       "</div>"
      ],
      "text/plain": [
       "                   rating                   review_count                    \\\n",
       "                     mean        sum  count         mean        sum  count   \n",
       "cost                                                                         \n",
       "\\$30 and under  62.549174  1783965.0  28521   276.190784  8109790.0  29363   \n",
       "\\$31 to \\$50    68.794039   722475.0  10502   681.710338  7253398.0  10640   \n",
       "\\$50 and up     74.774570   230530.0   3083   840.726981  2620546.0   3117   \n",
       "\n",
       "                promoted                 \n",
       "                    mean    sum   count  \n",
       "cost                                     \n",
       "\\$30 and under  0.001469  204.0  138848  \n",
       "\\$31 to \\$50    0.009356  185.0   19773  \n",
       "\\$50 and up     0.014253   74.0    5192  "
      ]
     },
     "execution_count": 18,
     "metadata": {},
     "output_type": "execute_result"
    }
   ],
   "source": [
    "grouped_cost.agg(['mean','sum','count'])"
   ]
  },
  {
   "cell_type": "code",
   "execution_count": 19,
   "metadata": {},
   "outputs": [
    {
     "data": {
      "text/html": [
       "<div>\n",
       "<style scoped>\n",
       "    .dataframe tbody tr th:only-of-type {\n",
       "        vertical-align: middle;\n",
       "    }\n",
       "\n",
       "    .dataframe tbody tr th {\n",
       "        vertical-align: top;\n",
       "    }\n",
       "\n",
       "    .dataframe thead th {\n",
       "        text-align: right;\n",
       "    }\n",
       "</style>\n",
       "<table border=\"1\" class=\"dataframe\">\n",
       "  <thead>\n",
       "    <tr style=\"text-align: right;\">\n",
       "      <th></th>\n",
       "      <th>rating</th>\n",
       "      <th>review_count</th>\n",
       "      <th>promoted</th>\n",
       "    </tr>\n",
       "    <tr>\n",
       "      <th>cost</th>\n",
       "      <th></th>\n",
       "      <th></th>\n",
       "      <th></th>\n",
       "    </tr>\n",
       "  </thead>\n",
       "  <tbody>\n",
       "    <tr>\n",
       "      <th>\\$30 and under</th>\n",
       "      <td>62.549174</td>\n",
       "      <td>276.190784</td>\n",
       "      <td>0.001469</td>\n",
       "    </tr>\n",
       "    <tr>\n",
       "      <th>\\$31 to \\$50</th>\n",
       "      <td>68.794039</td>\n",
       "      <td>681.710338</td>\n",
       "      <td>0.009356</td>\n",
       "    </tr>\n",
       "    <tr>\n",
       "      <th>\\$50 and up</th>\n",
       "      <td>74.774570</td>\n",
       "      <td>840.726981</td>\n",
       "      <td>0.014253</td>\n",
       "    </tr>\n",
       "  </tbody>\n",
       "</table>\n",
       "</div>"
      ],
      "text/plain": [
       "                   rating  review_count  promoted\n",
       "cost                                             \n",
       "\\$30 and under  62.549174    276.190784  0.001469\n",
       "\\$31 to \\$50    68.794039    681.710338  0.009356\n",
       "\\$50 and up     74.774570    840.726981  0.014253"
      ]
     },
     "execution_count": 19,
     "metadata": {},
     "output_type": "execute_result"
    }
   ],
   "source": [
    "grouped_cost.mean()"
   ]
  },
  {
   "cell_type": "code",
   "execution_count": 20,
   "metadata": {
    "scrolled": false
   },
   "outputs": [
    {
     "data": {
      "text/plain": [
       "cost\n",
       "\\$30 and under    62.549174\n",
       "\\$31 to \\$50      68.794039\n",
       "\\$50 and up       74.774570\n",
       "Name: rating, dtype: float64"
      ]
     },
     "execution_count": 20,
     "metadata": {},
     "output_type": "execute_result"
    }
   ],
   "source": [
    "grouped_cost.rating.mean()"
   ]
  },
  {
   "cell_type": "code",
   "execution_count": 21,
   "metadata": {},
   "outputs": [
    {
     "data": {
      "image/png": "[encoded data removed]",
      "text/plain": [
       "<Figure size 432x288 with 1 Axes>"
      ]
     },
     "metadata": {
      "needs_background": "light"
     },
     "output_type": "display_data"
    },
    {
     "data": {
      "text/plain": [
       "<Figure size 720x720 with 0 Axes>"
      ]
     },
     "metadata": {},
     "output_type": "display_data"
    }
   ],
   "source": [
    "grouped_cost.review_count.mean().plot.bar(color = 'midnightblue')\n",
    "plt.xticks([0,1,2],labels= ['under \\$30','\\$31 through \\$50','\\$50 and above'],rotation = 0)\n",
    "plt.title('Average Review count based on price',fontsize = 15)\n",
    "plt.xlabel('Cost',fontsize = 15)\n",
    "plt.ylabel('Average Number of Reviews',fontsize = 15)\n",
    "plt.figure(figsize = (10,10))\n",
    "plt.show()"
   ]
  },
  {
   "cell_type": "code",
   "execution_count": 22,
   "metadata": {},
   "outputs": [
    {
     "data": {
      "text/plain": [
       "<matplotlib.axes._subplots.AxesSubplot at 0x18598628390>"
      ]
     },
     "execution_count": 22,
     "metadata": {},
     "output_type": "execute_result"
    },
    {
     "data": {
      "image/png": "[encoded data removed]",
      "text/plain": [
       "<Figure size 432x288 with 1 Axes>"
      ]
     },
     "metadata": {
      "needs_background": "light"
     },
     "output_type": "display_data"
    }
   ],
   "source": [
    "grouped_cost.rating.mean().plot.bar()"
   ]
  },
  {
   "cell_type": "markdown",
   "metadata": {},
   "source": [
    "## Group by promoted"
   ]
  },
  {
   "cell_type": "code",
   "execution_count": 23,
   "metadata": {},
   "outputs": [],
   "source": [
    "grouped_promoted_size = pd.DataFrame(ot.groupby('promoted').size(),columns = ['restaurant_count'])"
   ]
  },
  {
   "cell_type": "code",
   "execution_count": 24,
   "metadata": {},
   "outputs": [
    {
     "data": {
      "text/html": [
       "<div>\n",
       "<style scoped>\n",
       "    .dataframe tbody tr th:only-of-type {\n",
       "        vertical-align: middle;\n",
       "    }\n",
       "\n",
       "    .dataframe tbody tr th {\n",
       "        vertical-align: top;\n",
       "    }\n",
       "\n",
       "    .dataframe thead th {\n",
       "        text-align: right;\n",
       "    }\n",
       "</style>\n",
       "<table border=\"1\" class=\"dataframe\">\n",
       "  <thead>\n",
       "    <tr style=\"text-align: right;\">\n",
       "      <th></th>\n",
       "      <th>restaurant_count</th>\n",
       "    </tr>\n",
       "    <tr>\n",
       "      <th>promoted</th>\n",
       "      <th></th>\n",
       "    </tr>\n",
       "  </thead>\n",
       "  <tbody>\n",
       "    <tr>\n",
       "      <th>False</th>\n",
       "      <td>163350</td>\n",
       "    </tr>\n",
       "    <tr>\n",
       "      <th>True</th>\n",
       "      <td>463</td>\n",
       "    </tr>\n",
       "  </tbody>\n",
       "</table>\n",
       "</div>"
      ],
      "text/plain": [
       "          restaurant_count\n",
       "promoted                  \n",
       "False               163350\n",
       "True                   463"
      ]
     },
     "execution_count": 24,
     "metadata": {},
     "output_type": "execute_result"
    }
   ],
   "source": [
    "grouped_promoted_size"
   ]
  },
  {
   "cell_type": "code",
   "execution_count": 25,
   "metadata": {
    "scrolled": true
   },
   "outputs": [
    {
     "data": {
      "text/html": [
       "<div>\n",
       "<style scoped>\n",
       "    .dataframe tbody tr th:only-of-type {\n",
       "        vertical-align: middle;\n",
       "    }\n",
       "\n",
       "    .dataframe tbody tr th {\n",
       "        vertical-align: top;\n",
       "    }\n",
       "\n",
       "    .dataframe thead th {\n",
       "        text-align: right;\n",
       "    }\n",
       "</style>\n",
       "<table border=\"1\" class=\"dataframe\">\n",
       "  <thead>\n",
       "    <tr style=\"text-align: right;\">\n",
       "      <th></th>\n",
       "      <th>rating</th>\n",
       "      <th>review_count</th>\n",
       "    </tr>\n",
       "    <tr>\n",
       "      <th>promoted</th>\n",
       "      <th></th>\n",
       "      <th></th>\n",
       "    </tr>\n",
       "  </thead>\n",
       "  <tbody>\n",
       "    <tr>\n",
       "      <th>False</th>\n",
       "      <td>64.951138</td>\n",
       "      <td>413.423796</td>\n",
       "    </tr>\n",
       "    <tr>\n",
       "      <th>True</th>\n",
       "      <td>69.617904</td>\n",
       "      <td>756.000000</td>\n",
       "    </tr>\n",
       "  </tbody>\n",
       "</table>\n",
       "</div>"
      ],
      "text/plain": [
       "             rating  review_count\n",
       "promoted                         \n",
       "False     64.951138    413.423796\n",
       "True      69.617904    756.000000"
      ]
     },
     "execution_count": 25,
     "metadata": {},
     "output_type": "execute_result"
    }
   ],
   "source": [
    "promoted_grouped = ot.groupby('promoted')\n",
    "promoted_grouped.mean()"
   ]
  },
  {
   "cell_type": "code",
   "execution_count": 26,
   "metadata": {
    "scrolled": true
   },
   "outputs": [
    {
     "name": "stdout",
     "output_type": "stream",
     "text": [
      "False\n",
      "----------------------------------------------------------------------\n",
      "                             area                location  \\\n",
      "0               atlanta / georgia  airport / college park   \n",
      "1               atlanta / georgia                 augusta   \n",
      "2               atlanta / georgia                 lilburn   \n",
      "3               atlanta / georgia                  smyrna   \n",
      "4               atlanta / georgia                buckhead   \n",
      "...                           ...                     ...   \n",
      "163808  miami / southeast florida               hollywood   \n",
      "163809  miami / southeast florida        hallandale beach   \n",
      "163810  miami / southeast florida        hallandale beach   \n",
      "163811  miami / southeast florida               hollywood   \n",
      "163812  miami / southeast florida          pembroke pines   \n",
      "\n",
      "                                          name        cuisine            cost  \\\n",
      "0                       spice house on cascade      caribbean  \\$30 and under   \n",
      "1                     tbonz steakhouse-augusta        italian    \\$31 to \\$50   \n",
      "2                  royal restaurant and sweets  mediterranean    \\$31 to \\$50   \n",
      "3                               bollywood zing        italian    \\$31 to \\$50   \n",
      "4                              sushi bar yu-ka     steakhouse    \\$31 to \\$50   \n",
      "...                                        ...            ...             ...   \n",
      "163808                       pho vi vietnamese           café  \\$30 and under   \n",
      "163809   chez nous american haitian restaurant         french  \\$30 and under   \n",
      "163810                              don lolo's       american  \\$30 and under   \n",
      "163811  triumphant restaurant and banquet hall       american  \\$30 and under   \n",
      "163812                     vybestar restaurant       american  \\$30 and under   \n",
      "\n",
      "        rating  review_count  promoted location_on_page  \n",
      "0          NaN           NaN     False          [61, 0]  \n",
      "1          NaN           1.0     False          [61, 1]  \n",
      "2          NaN           NaN     False          [61, 2]  \n",
      "3          NaN           NaN     False          [61, 3]  \n",
      "4          NaN           NaN     False          [61, 4]  \n",
      "...        ...           ...       ...              ...  \n",
      "163808     NaN           NaN     False          [1, 95]  \n",
      "163809     NaN           NaN     False          [1, 96]  \n",
      "163810     NaN           NaN     False          [1, 97]  \n",
      "163811     NaN           NaN     False          [1, 98]  \n",
      "163812     NaN           NaN     False          [1, 99]  \n",
      "\n",
      "[163350 rows x 9 columns]\n",
      "\n",
      "\n",
      "True\n",
      "----------------------------------------------------------------------\n",
      "                             area            location  \\\n",
      "23                    mexico city             tlalpan   \n",
      "123                   mexico city  santa fe / bosques   \n",
      "126                   mexico city  santa fe / bosques   \n",
      "3402                       dublin           monkstown   \n",
      "3502                       dublin         ballsbridge   \n",
      "...                           ...                 ...   \n",
      "162816  miami / southeast florida         bal harbour   \n",
      "162819  miami / southeast florida     fort lauderdale   \n",
      "163313  miami / southeast florida          plantation   \n",
      "163315  miami / southeast florida     fort lauderdale   \n",
      "163321  miami / southeast florida   sunny isles beach   \n",
      "\n",
      "                                             name        cuisine  \\\n",
      "23                         la taberna del vikingo      fine cuts   \n",
      "123                 angus butcher house- santa fe      fine cuts   \n",
      "126                       urban spices - santa fe          asian   \n",
      "3402                                      lobstar        seafood   \n",
      "3502          the lobby lounge & the reading room  afternoon tea   \n",
      "...                                           ...            ...   \n",
      "162816                             the palm miami     steakhouse   \n",
      "162819                          the terrace grill       american   \n",
      "163313  kiko japanese, thai restaurant & sake bar          asian   \n",
      "163315                                  rivertail        seafood   \n",
      "163321                                kitchen 305       american   \n",
      "\n",
      "                  cost  rating  review_count  promoted location_on_page  \n",
      "23        \\$31 to \\$50    85.0           5.0      True           [9, 0]  \n",
      "123        \\$50 and up    55.0           6.0      True           [8, 0]  \n",
      "126     \\$30 and under     NaN           NaN      True           [8, 3]  \n",
      "3402    \\$30 and under    85.0         435.0      True           [4, 0]  \n",
      "3502      \\$31 to \\$50    65.0           9.0      True           [3, 0]  \n",
      "...                ...     ...           ...       ...              ...  \n",
      "162816     \\$50 and up    80.0        1776.0      True          [10, 3]  \n",
      "162819    \\$31 to \\$50    60.0         162.0      True          [10, 6]  \n",
      "163313  \\$30 and under    75.0         130.0      True           [5, 0]  \n",
      "163315  \\$30 and under    40.0          34.0      True           [5, 2]  \n",
      "163321    \\$31 to \\$50    55.0        1099.0      True           [5, 8]  \n",
      "\n",
      "[463 rows x 9 columns]\n",
      "\n",
      "\n"
     ]
    }
   ],
   "source": [
    "for key, values in promoted_grouped:\n",
    "    print(key) #this indicates the grouping\n",
    "    print('-'*70)\n",
    "    print(values) #this is a dataframe for that \n",
    "    print('\\n')"
   ]
  },
  {
   "cell_type": "code",
   "execution_count": 27,
   "metadata": {},
   "outputs": [
    {
     "data": {
      "text/plain": [
       "{False: Int64Index([     0,      1,      2,      3,      4,      5,      6,      7,\n",
       "                  8,      9,\n",
       "             ...\n",
       "             163803, 163804, 163805, 163806, 163807, 163808, 163809, 163810,\n",
       "             163811, 163812],\n",
       "            dtype='int64', length=163350),\n",
       " True: Int64Index([    23,    123,    126,   3402,   3502,   3505,   3702,   3704,\n",
       "               6102,   6104,\n",
       "             ...\n",
       "             158522, 158613, 158615, 158619, 162813, 162816, 162819, 163313,\n",
       "             163315, 163321],\n",
       "            dtype='int64', length=463)}"
      ]
     },
     "execution_count": 27,
     "metadata": {},
     "output_type": "execute_result"
    }
   ],
   "source": [
    "promoted_grouped.groups"
   ]
  },
  {
   "cell_type": "code",
   "execution_count": 28,
   "metadata": {
    "scrolled": true
   },
   "outputs": [
    {
     "data": {
      "text/html": [
       "<div>\n",
       "<style scoped>\n",
       "    .dataframe tbody tr th:only-of-type {\n",
       "        vertical-align: middle;\n",
       "    }\n",
       "\n",
       "    .dataframe tbody tr th {\n",
       "        vertical-align: top;\n",
       "    }\n",
       "\n",
       "    .dataframe thead th {\n",
       "        text-align: right;\n",
       "    }\n",
       "</style>\n",
       "<table border=\"1\" class=\"dataframe\">\n",
       "  <thead>\n",
       "    <tr style=\"text-align: right;\">\n",
       "      <th></th>\n",
       "      <th>rating</th>\n",
       "      <th>review_count</th>\n",
       "    </tr>\n",
       "    <tr>\n",
       "      <th>promoted</th>\n",
       "      <th></th>\n",
       "      <th></th>\n",
       "    </tr>\n",
       "  </thead>\n",
       "  <tbody>\n",
       "    <tr>\n",
       "      <th>False</th>\n",
       "      <td>64.951138</td>\n",
       "      <td>413.423796</td>\n",
       "    </tr>\n",
       "    <tr>\n",
       "      <th>True</th>\n",
       "      <td>69.617904</td>\n",
       "      <td>756.000000</td>\n",
       "    </tr>\n",
       "  </tbody>\n",
       "</table>\n",
       "</div>"
      ],
      "text/plain": [
       "             rating  review_count\n",
       "promoted                         \n",
       "False     64.951138    413.423796\n",
       "True      69.617904    756.000000"
      ]
     },
     "execution_count": 28,
     "metadata": {},
     "output_type": "execute_result"
    }
   ],
   "source": [
    "promoted_avg = promoted_grouped.mean()\n",
    "promoted_avg"
   ]
  },
  {
   "cell_type": "markdown",
   "metadata": {},
   "source": [
    "## Group by area and then location"
   ]
  },
  {
   "cell_type": "code",
   "execution_count": 29,
   "metadata": {},
   "outputs": [],
   "source": [
    "grouped_area_location = ot.groupby(['area','location'])"
   ]
  },
  {
   "cell_type": "code",
   "execution_count": 30,
   "metadata": {
    "scrolled": false
   },
   "outputs": [
    {
     "data": {
      "text/html": [
       "<div>\n",
       "<style scoped>\n",
       "    .dataframe tbody tr th:only-of-type {\n",
       "        vertical-align: middle;\n",
       "    }\n",
       "\n",
       "    .dataframe tbody tr th {\n",
       "        vertical-align: top;\n",
       "    }\n",
       "\n",
       "    .dataframe thead th {\n",
       "        text-align: right;\n",
       "    }\n",
       "</style>\n",
       "<table border=\"1\" class=\"dataframe\">\n",
       "  <thead>\n",
       "    <tr style=\"text-align: right;\">\n",
       "      <th></th>\n",
       "      <th></th>\n",
       "      <th>rating</th>\n",
       "      <th>review_count</th>\n",
       "    </tr>\n",
       "    <tr>\n",
       "      <th>area</th>\n",
       "      <th>location</th>\n",
       "      <th></th>\n",
       "      <th></th>\n",
       "    </tr>\n",
       "  </thead>\n",
       "  <tbody>\n",
       "    <tr>\n",
       "      <th rowspan=\"5\" valign=\"top\">atlanta / georgia</th>\n",
       "      <th>acworth</th>\n",
       "      <td>87.500000</td>\n",
       "      <td>567.000000</td>\n",
       "    </tr>\n",
       "    <tr>\n",
       "      <th>airport / college park</th>\n",
       "      <td>56.875000</td>\n",
       "      <td>216.812500</td>\n",
       "    </tr>\n",
       "    <tr>\n",
       "      <th>alpharetta</th>\n",
       "      <td>62.647059</td>\n",
       "      <td>717.269231</td>\n",
       "    </tr>\n",
       "    <tr>\n",
       "      <th>athens</th>\n",
       "      <td>56.666667</td>\n",
       "      <td>1.000000</td>\n",
       "    </tr>\n",
       "    <tr>\n",
       "      <th>augusta</th>\n",
       "      <td>69.400000</td>\n",
       "      <td>333.666667</td>\n",
       "    </tr>\n",
       "    <tr>\n",
       "      <th>...</th>\n",
       "      <th>...</th>\n",
       "      <td>...</td>\n",
       "      <td>...</td>\n",
       "    </tr>\n",
       "    <tr>\n",
       "      <th rowspan=\"5\" valign=\"top\">yorkshire</th>\n",
       "      <th>wetherby</th>\n",
       "      <td>70.000000</td>\n",
       "      <td>12.000000</td>\n",
       "    </tr>\n",
       "    <tr>\n",
       "      <th>whitby</th>\n",
       "      <td>68.636364</td>\n",
       "      <td>186.545455</td>\n",
       "    </tr>\n",
       "    <tr>\n",
       "      <th>woodlesford</th>\n",
       "      <td>30.000000</td>\n",
       "      <td>6.000000</td>\n",
       "    </tr>\n",
       "    <tr>\n",
       "      <th>yarm</th>\n",
       "      <td>70.454545</td>\n",
       "      <td>177.181818</td>\n",
       "    </tr>\n",
       "    <tr>\n",
       "      <th>york</th>\n",
       "      <td>58.221154</td>\n",
       "      <td>142.279279</td>\n",
       "    </tr>\n",
       "  </tbody>\n",
       "</table>\n",
       "<p>4095 rows × 2 columns</p>\n",
       "</div>"
      ],
      "text/plain": [
       "                                             rating  review_count\n",
       "area              location                                       \n",
       "atlanta / georgia acworth                 87.500000    567.000000\n",
       "                  airport / college park  56.875000    216.812500\n",
       "                  alpharetta              62.647059    717.269231\n",
       "                  athens                  56.666667      1.000000\n",
       "                  augusta                 69.400000    333.666667\n",
       "...                                             ...           ...\n",
       "yorkshire         wetherby                70.000000     12.000000\n",
       "                  whitby                  68.636364    186.545455\n",
       "                  woodlesford             30.000000      6.000000\n",
       "                  yarm                    70.454545    177.181818\n",
       "                  york                    58.221154    142.279279\n",
       "\n",
       "[4095 rows x 2 columns]"
      ]
     },
     "execution_count": 30,
     "metadata": {},
     "output_type": "execute_result"
    }
   ],
   "source": [
    "grouped_area_location[['cost','rating','review_count']].mean()"
   ]
  },
  {
   "cell_type": "markdown",
   "metadata": {},
   "source": [
    "## group by cuisine"
   ]
  },
  {
   "cell_type": "code",
   "execution_count": 31,
   "metadata": {},
   "outputs": [],
   "source": [
    "grouped_cuisine = ot.groupby('cuisine')"
   ]
  },
  {
   "cell_type": "code",
   "execution_count": 32,
   "metadata": {},
   "outputs": [],
   "source": [
    "grouped_cuisine_size = pd.DataFrame(ot.groupby('cuisine').size(),columns = ['restaurant_count']) > 50"
   ]
  },
  {
   "cell_type": "code",
   "execution_count": 33,
   "metadata": {},
   "outputs": [
    {
     "data": {
      "text/plain": [
       "cuisine\n",
       "afghan           False\n",
       "african           True\n",
       "afternoon tea     True\n",
       "american          True\n",
       "argentinean       True\n",
       "                 ...  \n",
       "wine bar          True\n",
       "winery           False\n",
       "yakiniku          True\n",
       "yakitori         False\n",
       "yoshoku          False\n",
       "Name: restaurant_count, Length: 237, dtype: bool"
      ]
     },
     "execution_count": 33,
     "metadata": {},
     "output_type": "execute_result"
    }
   ],
   "source": [
    "grouped_cuisine_size['restaurant_count']"
   ]
  },
  {
   "cell_type": "code",
   "execution_count": 34,
   "metadata": {
    "scrolled": true
   },
   "outputs": [],
   "source": [
    "cuisine_rating = grouped_cuisine.rating.agg(['count','mean'])\n",
    "cuisine_rating = cuisine_rating.sort_values('count',ascending = False)\n",
    "cuisine_rating = cuisine_rating['mean'].head(10)"
   ]
  },
  {
   "cell_type": "code",
   "execution_count": 35,
   "metadata": {},
   "outputs": [
    {
     "data": {
      "text/plain": [
       "<matplotlib.axes._subplots.AxesSubplot at 0x18599773208>"
      ]
     },
     "execution_count": 35,
     "metadata": {},
     "output_type": "execute_result"
    },
    {
     "data": {
      "image/png": "[encoded data removed]",
      "text/plain": [
       "<Figure size 432x288 with 1 Axes>"
      ]
     },
     "metadata": {
      "needs_background": "light"
     },
     "output_type": "display_data"
    }
   ],
   "source": [
    "cuisine_rating.plot.bar(rot = 90)"
   ]
  },
  {
   "cell_type": "code",
   "execution_count": 36,
   "metadata": {},
   "outputs": [
    {
     "data": {
      "text/plain": [
       "rating           71.351857\n",
       "review_count    775.344089\n",
       "dtype: float64"
      ]
     },
     "execution_count": 36,
     "metadata": {},
     "output_type": "execute_result"
    }
   ],
   "source": [
    "first_page_filter = [idx for idx, x in enumerate(ot.location_on_page) if eval(x)[0]==0]\n",
    "first_page_df = ot.iloc[first_page_filter]\n",
    "first_page_df[['cost','rating','review_count']].mean()"
   ]
  },
  {
   "cell_type": "markdown",
   "metadata": {},
   "source": [
    "# rated, highly and poorly rated grouping cuisine"
   ]
  },
  {
   "cell_type": "code",
   "execution_count": 37,
   "metadata": {},
   "outputs": [
    {
     "data": {
      "text/plain": [
       "205"
      ]
     },
     "execution_count": 37,
     "metadata": {},
     "output_type": "execute_result"
    }
   ],
   "source": [
    "ot_rating = ot.dropna(subset = ['rating','review_count'])\n",
    "ot_rating = ot_rating.loc[ot_rating.review_count >= 50]\n",
    "ot_rating.cuisine = ot_rating.cuisine.str.strip().str.lower()\n",
    "ot_rating = ot_rating[['cuisine','rating']].groupby('cuisine')\n",
    "len(ot_rating)"
   ]
  },
  {
   "cell_type": "code",
   "execution_count": 38,
   "metadata": {},
   "outputs": [
    {
     "data": {
      "image/png": "[encoded data removed]",
      "text/plain": [
       "<Figure size 432x288 with 1 Axes>"
      ]
     },
     "metadata": {
      "needs_background": "light"
     },
     "output_type": "display_data"
    }
   ],
   "source": [
    "ot_rating = ot.dropna(subset = ['rating','review_count'])\n",
    "ot_rating = ot_rating.loc[ot_rating.review_count >= 50]\n",
    "ot_rating.cuisine = ot_rating.cuisine.str.strip().str.lower()\n",
    "\n",
    "x_1,x_2,x_3,x_4 = list(ot_rating.groupby('cuisine').size().sort_values(ascending = False).head(4).index)\n",
    "\n",
    "x_1 = ot_rating.loc[(ot_rating.cuisine == x_1)][['cuisine','rating']]\n",
    "x_2 = ot_rating.loc[(ot_rating.cuisine == x_2)][['cuisine','rating']]\n",
    "x_3 = ot_rating.loc[(ot_rating.cuisine == x_3)][['cuisine','rating']]\n",
    "x_4 = ot_rating.loc[(ot_rating.cuisine == x_4)][['cuisine','rating']]\n",
    "x_total = pd.concat(objs = [x_1,x_2,x_3,x_4])\n",
    "ax = sns.boxplot(x=\"cuisine\", y=\"rating\", data=x_total)"
   ]
  },
  {
   "cell_type": "code",
   "execution_count": 39,
   "metadata": {},
   "outputs": [
    {
     "data": {
      "text/html": [
       "<div>\n",
       "<style scoped>\n",
       "    .dataframe tbody tr th:only-of-type {\n",
       "        vertical-align: middle;\n",
       "    }\n",
       "\n",
       "    .dataframe tbody tr th {\n",
       "        vertical-align: top;\n",
       "    }\n",
       "\n",
       "    .dataframe thead th {\n",
       "        text-align: right;\n",
       "    }\n",
       "</style>\n",
       "<table border=\"1\" class=\"dataframe\">\n",
       "  <thead>\n",
       "    <tr style=\"text-align: right;\">\n",
       "      <th></th>\n",
       "      <th>cuisine</th>\n",
       "      <th>rating</th>\n",
       "    </tr>\n",
       "  </thead>\n",
       "  <tbody>\n",
       "    <tr>\n",
       "      <th>211</th>\n",
       "      <td>contemporary american</td>\n",
       "      <td>45.0</td>\n",
       "    </tr>\n",
       "    <tr>\n",
       "      <th>244</th>\n",
       "      <td>yakiniku</td>\n",
       "      <td>30.0</td>\n",
       "    </tr>\n",
       "    <tr>\n",
       "      <th>287</th>\n",
       "      <td>yakiniku</td>\n",
       "      <td>45.0</td>\n",
       "    </tr>\n",
       "    <tr>\n",
       "      <th>324</th>\n",
       "      <td>yakiniku</td>\n",
       "      <td>45.0</td>\n",
       "    </tr>\n",
       "    <tr>\n",
       "      <th>354</th>\n",
       "      <td>spanish</td>\n",
       "      <td>30.0</td>\n",
       "    </tr>\n",
       "    <tr>\n",
       "      <th>...</th>\n",
       "      <td>...</td>\n",
       "      <td>...</td>\n",
       "    </tr>\n",
       "    <tr>\n",
       "      <th>158309</th>\n",
       "      <td>chinese (beijing)</td>\n",
       "      <td>45.0</td>\n",
       "    </tr>\n",
       "    <tr>\n",
       "      <th>158461</th>\n",
       "      <td>traditional spanish</td>\n",
       "      <td>30.0</td>\n",
       "    </tr>\n",
       "    <tr>\n",
       "      <th>160484</th>\n",
       "      <td>lounge</td>\n",
       "      <td>45.0</td>\n",
       "    </tr>\n",
       "    <tr>\n",
       "      <th>161069</th>\n",
       "      <td>breakfast</td>\n",
       "      <td>30.0</td>\n",
       "    </tr>\n",
       "    <tr>\n",
       "      <th>162898</th>\n",
       "      <td>contemporary asian</td>\n",
       "      <td>45.0</td>\n",
       "    </tr>\n",
       "  </tbody>\n",
       "</table>\n",
       "<p>335 rows × 2 columns</p>\n",
       "</div>"
      ],
      "text/plain": [
       "                      cuisine  rating\n",
       "211     contemporary american    45.0\n",
       "244                  yakiniku    30.0\n",
       "287                  yakiniku    45.0\n",
       "324                  yakiniku    45.0\n",
       "354                   spanish    30.0\n",
       "...                       ...     ...\n",
       "158309      chinese (beijing)    45.0\n",
       "158461    traditional spanish    30.0\n",
       "160484                 lounge    45.0\n",
       "161069              breakfast    30.0\n",
       "162898     contemporary asian    45.0\n",
       "\n",
       "[335 rows x 2 columns]"
      ]
     },
     "execution_count": 39,
     "metadata": {},
     "output_type": "execute_result"
    }
   ],
   "source": [
    "poorly_rated = ot_rating.loc[(ot_rating.rating < 50) & (ot_rating.review_count >= 20)]\n",
    "poorly_rated.sort_values(['rating','review_count'])\n",
    "poorly_rated_by_cuisine = poorly_rated.groupby('cuisine')[['cuisine','rating']].head(4)\n",
    "poorly_rated_by_cuisine"
   ]
  },
  {
   "cell_type": "code",
   "execution_count": 40,
   "metadata": {},
   "outputs": [
    {
     "data": {
      "text/plain": [
       "8.328065073544906"
      ]
     },
     "execution_count": 40,
     "metadata": {},
     "output_type": "execute_result"
    }
   ],
   "source": [
    "len(poorly_rated)/ len(ot_rating)*100"
   ]
  },
  {
   "cell_type": "code",
   "execution_count": 41,
   "metadata": {},
   "outputs": [],
   "source": [
    "poorly_rated_by_cuisine = poorly_rated.groupby('cuisine')[['rating']].head(4)"
   ]
  },
  {
   "cell_type": "code",
   "execution_count": 42,
   "metadata": {
    "scrolled": true
   },
   "outputs": [
    {
     "data": {
      "text/html": [
       "<div>\n",
       "<style scoped>\n",
       "    .dataframe tbody tr th:only-of-type {\n",
       "        vertical-align: middle;\n",
       "    }\n",
       "\n",
       "    .dataframe tbody tr th {\n",
       "        vertical-align: top;\n",
       "    }\n",
       "\n",
       "    .dataframe thead th {\n",
       "        text-align: right;\n",
       "    }\n",
       "</style>\n",
       "<table border=\"1\" class=\"dataframe\">\n",
       "  <thead>\n",
       "    <tr style=\"text-align: right;\">\n",
       "      <th></th>\n",
       "      <th>rating</th>\n",
       "    </tr>\n",
       "  </thead>\n",
       "  <tbody>\n",
       "    <tr>\n",
       "      <th>211</th>\n",
       "      <td>45.0</td>\n",
       "    </tr>\n",
       "    <tr>\n",
       "      <th>244</th>\n",
       "      <td>30.0</td>\n",
       "    </tr>\n",
       "    <tr>\n",
       "      <th>287</th>\n",
       "      <td>45.0</td>\n",
       "    </tr>\n",
       "    <tr>\n",
       "      <th>324</th>\n",
       "      <td>45.0</td>\n",
       "    </tr>\n",
       "    <tr>\n",
       "      <th>354</th>\n",
       "      <td>30.0</td>\n",
       "    </tr>\n",
       "    <tr>\n",
       "      <th>...</th>\n",
       "      <td>...</td>\n",
       "    </tr>\n",
       "    <tr>\n",
       "      <th>158309</th>\n",
       "      <td>45.0</td>\n",
       "    </tr>\n",
       "    <tr>\n",
       "      <th>158461</th>\n",
       "      <td>30.0</td>\n",
       "    </tr>\n",
       "    <tr>\n",
       "      <th>160484</th>\n",
       "      <td>45.0</td>\n",
       "    </tr>\n",
       "    <tr>\n",
       "      <th>161069</th>\n",
       "      <td>30.0</td>\n",
       "    </tr>\n",
       "    <tr>\n",
       "      <th>162898</th>\n",
       "      <td>45.0</td>\n",
       "    </tr>\n",
       "  </tbody>\n",
       "</table>\n",
       "<p>335 rows × 1 columns</p>\n",
       "</div>"
      ],
      "text/plain": [
       "        rating\n",
       "211       45.0\n",
       "244       30.0\n",
       "287       45.0\n",
       "324       45.0\n",
       "354       30.0\n",
       "...        ...\n",
       "158309    45.0\n",
       "158461    30.0\n",
       "160484    45.0\n",
       "161069    30.0\n",
       "162898    45.0\n",
       "\n",
       "[335 rows x 1 columns]"
      ]
     },
     "execution_count": 42,
     "metadata": {},
     "output_type": "execute_result"
    }
   ],
   "source": [
    "poorly_rated_by_cuisine"
   ]
  },
  {
   "cell_type": "code",
   "execution_count": null,
   "metadata": {},
   "outputs": [],
   "source": []
  },
  {
   "cell_type": "code",
   "execution_count": 43,
   "metadata": {},
   "outputs": [
    {
     "data": {
      "text/html": [
       "<div>\n",
       "<style scoped>\n",
       "    .dataframe tbody tr th:only-of-type {\n",
       "        vertical-align: middle;\n",
       "    }\n",
       "\n",
       "    .dataframe tbody tr th {\n",
       "        vertical-align: top;\n",
       "    }\n",
       "\n",
       "    .dataframe thead th {\n",
       "        text-align: right;\n",
       "    }\n",
       "</style>\n",
       "<table border=\"1\" class=\"dataframe\">\n",
       "  <thead>\n",
       "    <tr style=\"text-align: right;\">\n",
       "      <th></th>\n",
       "      <th>area</th>\n",
       "      <th>location</th>\n",
       "      <th>name</th>\n",
       "      <th>cuisine</th>\n",
       "      <th>cost</th>\n",
       "      <th>rating</th>\n",
       "      <th>review_count</th>\n",
       "      <th>promoted</th>\n",
       "      <th>location_on_page</th>\n",
       "    </tr>\n",
       "  </thead>\n",
       "  <tbody>\n",
       "    <tr>\n",
       "      <th>26</th>\n",
       "      <td>mexico city</td>\n",
       "      <td>metepec / toluca</td>\n",
       "      <td>mochomos - metepec</td>\n",
       "      <td>steakhouse</td>\n",
       "      <td>\\$50 and up</td>\n",
       "      <td>80.0</td>\n",
       "      <td>119.0</td>\n",
       "      <td>False</td>\n",
       "      <td>[9, 3]</td>\n",
       "    </tr>\n",
       "    <tr>\n",
       "      <th>33</th>\n",
       "      <td>mexico city</td>\n",
       "      <td>metepec / toluca</td>\n",
       "      <td>cambalache - toluca</td>\n",
       "      <td>argentinean</td>\n",
       "      <td>\\$50 and up</td>\n",
       "      <td>85.0</td>\n",
       "      <td>129.0</td>\n",
       "      <td>False</td>\n",
       "      <td>[9, 10]</td>\n",
       "    </tr>\n",
       "    <tr>\n",
       "      <th>40</th>\n",
       "      <td>mexico city</td>\n",
       "      <td>metepec / toluca</td>\n",
       "      <td>amaranta</td>\n",
       "      <td>contemporary mexican</td>\n",
       "      <td>\\$50 and up</td>\n",
       "      <td>85.0</td>\n",
       "      <td>58.0</td>\n",
       "      <td>False</td>\n",
       "      <td>[9, 17]</td>\n",
       "    </tr>\n",
       "    <tr>\n",
       "      <th>47</th>\n",
       "      <td>mexico city</td>\n",
       "      <td>metepec / toluca</td>\n",
       "      <td>sonora grill prime - metepec</td>\n",
       "      <td>steakhouse</td>\n",
       "      <td>\\$31 to \\$50</td>\n",
       "      <td>75.0</td>\n",
       "      <td>80.0</td>\n",
       "      <td>False</td>\n",
       "      <td>[9, 24]</td>\n",
       "    </tr>\n",
       "    <tr>\n",
       "      <th>75</th>\n",
       "      <td>mexico city</td>\n",
       "      <td>tlalpan</td>\n",
       "      <td>restaurante arroyo</td>\n",
       "      <td>traditional mexican</td>\n",
       "      <td>\\$31 to \\$50</td>\n",
       "      <td>80.0</td>\n",
       "      <td>226.0</td>\n",
       "      <td>False</td>\n",
       "      <td>[9, 52]</td>\n",
       "    </tr>\n",
       "    <tr>\n",
       "      <th>...</th>\n",
       "      <td>...</td>\n",
       "      <td>...</td>\n",
       "      <td>...</td>\n",
       "      <td>...</td>\n",
       "      <td>...</td>\n",
       "      <td>...</td>\n",
       "      <td>...</td>\n",
       "      <td>...</td>\n",
       "      <td>...</td>\n",
       "    </tr>\n",
       "    <tr>\n",
       "      <th>163511</th>\n",
       "      <td>miami / southeast florida</td>\n",
       "      <td>sunny isles beach</td>\n",
       "      <td>il mulino new york - miami</td>\n",
       "      <td>italian</td>\n",
       "      <td>\\$50 and up</td>\n",
       "      <td>85.0</td>\n",
       "      <td>835.0</td>\n",
       "      <td>False</td>\n",
       "      <td>[4, 98]</td>\n",
       "    </tr>\n",
       "    <tr>\n",
       "      <th>163512</th>\n",
       "      <td>miami / southeast florida</td>\n",
       "      <td>aventura</td>\n",
       "      <td>soho asian bar &amp; grill</td>\n",
       "      <td>kosher</td>\n",
       "      <td>\\$30 and under</td>\n",
       "      <td>75.0</td>\n",
       "      <td>219.0</td>\n",
       "      <td>False</td>\n",
       "      <td>[4, 99]</td>\n",
       "    </tr>\n",
       "    <tr>\n",
       "      <th>163621</th>\n",
       "      <td>miami / southeast florida</td>\n",
       "      <td>hollywood</td>\n",
       "      <td>southern spice</td>\n",
       "      <td>southern</td>\n",
       "      <td>\\$30 and under</td>\n",
       "      <td>75.0</td>\n",
       "      <td>84.0</td>\n",
       "      <td>False</td>\n",
       "      <td>[2, 8]</td>\n",
       "    </tr>\n",
       "    <tr>\n",
       "      <th>163713</th>\n",
       "      <td>miami / southeast florida</td>\n",
       "      <td>hollywood</td>\n",
       "      <td>shabo’s barbecue</td>\n",
       "      <td>mediterranean</td>\n",
       "      <td>\\$30 and under</td>\n",
       "      <td>75.0</td>\n",
       "      <td>67.0</td>\n",
       "      <td>False</td>\n",
       "      <td>[1, 0]</td>\n",
       "    </tr>\n",
       "    <tr>\n",
       "      <th>163770</th>\n",
       "      <td>miami / southeast florida</td>\n",
       "      <td>hollywood</td>\n",
       "      <td>la flambée</td>\n",
       "      <td>fondue</td>\n",
       "      <td>\\$31 to \\$50</td>\n",
       "      <td>80.0</td>\n",
       "      <td>69.0</td>\n",
       "      <td>False</td>\n",
       "      <td>[1, 57]</td>\n",
       "    </tr>\n",
       "  </tbody>\n",
       "</table>\n",
       "<p>14635 rows × 9 columns</p>\n",
       "</div>"
      ],
      "text/plain": [
       "                             area           location  \\\n",
       "26                    mexico city   metepec / toluca   \n",
       "33                    mexico city   metepec / toluca   \n",
       "40                    mexico city   metepec / toluca   \n",
       "47                    mexico city   metepec / toluca   \n",
       "75                    mexico city            tlalpan   \n",
       "...                           ...                ...   \n",
       "163511  miami / southeast florida  sunny isles beach   \n",
       "163512  miami / southeast florida           aventura   \n",
       "163621  miami / southeast florida          hollywood   \n",
       "163713  miami / southeast florida          hollywood   \n",
       "163770  miami / southeast florida          hollywood   \n",
       "\n",
       "                                name               cuisine            cost  \\\n",
       "26                mochomos - metepec            steakhouse     \\$50 and up   \n",
       "33               cambalache - toluca           argentinean     \\$50 and up   \n",
       "40                          amaranta  contemporary mexican     \\$50 and up   \n",
       "47      sonora grill prime - metepec            steakhouse    \\$31 to \\$50   \n",
       "75                restaurante arroyo   traditional mexican    \\$31 to \\$50   \n",
       "...                              ...                   ...             ...   \n",
       "163511    il mulino new york - miami               italian     \\$50 and up   \n",
       "163512        soho asian bar & grill                kosher  \\$30 and under   \n",
       "163621                southern spice              southern  \\$30 and under   \n",
       "163713              shabo’s barbecue         mediterranean  \\$30 and under   \n",
       "163770                    la flambée                fondue    \\$31 to \\$50   \n",
       "\n",
       "        rating  review_count  promoted location_on_page  \n",
       "26        80.0         119.0     False           [9, 3]  \n",
       "33        85.0         129.0     False          [9, 10]  \n",
       "40        85.0          58.0     False          [9, 17]  \n",
       "47        75.0          80.0     False          [9, 24]  \n",
       "75        80.0         226.0     False          [9, 52]  \n",
       "...        ...           ...       ...              ...  \n",
       "163511    85.0         835.0     False          [4, 98]  \n",
       "163512    75.0         219.0     False          [4, 99]  \n",
       "163621    75.0          84.0     False           [2, 8]  \n",
       "163713    75.0          67.0     False           [1, 0]  \n",
       "163770    80.0          69.0     False          [1, 57]  \n",
       "\n",
       "[14635 rows x 9 columns]"
      ]
     },
     "execution_count": 43,
     "metadata": {},
     "output_type": "execute_result"
    }
   ],
   "source": [
    "highly_rated = ot_rating.loc[(ot_rating.rating >= 70) & (ot_rating.review_count >= 10)]\n",
    "highly_rated"
   ]
  },
  {
   "cell_type": "code",
   "execution_count": 44,
   "metadata": {},
   "outputs": [
    {
     "data": {
      "image/png": "[encoded data removed]",
      "text/plain": [
       "<Figure size 432x288 with 1 Axes>"
      ]
     },
     "metadata": {
      "needs_background": "light"
     },
     "output_type": "display_data"
    }
   ],
   "source": [
    "x_1,x_2,x_3,x_4 = list(highly_rated.groupby('cuisine').size().sort_values(ascending = False).head(4).index)\n",
    "\n",
    "x_1 = highly_rated.loc[(highly_rated.cuisine == x_1)][['cuisine','rating']]\n",
    "x_2 = highly_rated.loc[(highly_rated.cuisine == x_2)][['cuisine','rating']]\n",
    "x_3 = highly_rated.loc[(highly_rated.cuisine == x_3)][['cuisine','rating']]\n",
    "x_4 = highly_rated.loc[(highly_rated.cuisine == x_4)][['cuisine','rating']]\n",
    "x_total = pd.concat(objs = [x_1,x_2,x_3,x_4])\n",
    "ax = sns.boxplot(x=\"cuisine\", y=\"rating\", data=x_total)"
   ]
  },
  {
   "cell_type": "code",
   "execution_count": 45,
   "metadata": {},
   "outputs": [
    {
     "data": {
      "image/png": "[encoded data removed]",
      "text/plain": [
       "<Figure size 432x288 with 1 Axes>"
      ]
     },
     "metadata": {
      "needs_background": "light"
     },
     "output_type": "display_data"
    }
   ],
   "source": [
    "poorly_rated = ot_rating.loc[(ot_rating.rating < 50) & (ot_rating.review_count >= 20)]\n",
    "\n",
    "x_1,x_2,x_3,x_4 = list(poorly_rated.groupby('cuisine').size().sort_values(ascending = False).head(4).index)\n",
    "\n",
    "x_1 = poorly_rated.loc[(poorly_rated.cuisine == x_1)][['cuisine','rating']]\n",
    "x_2 = poorly_rated.loc[(poorly_rated.cuisine == x_2)][['cuisine','rating']]\n",
    "x_3 = poorly_rated.loc[(poorly_rated.cuisine == x_3)][['cuisine','rating']]\n",
    "x_4 = poorly_rated.loc[(poorly_rated.cuisine == x_4)][['cuisine','rating']]\n",
    "x_total = pd.concat(objs = [x_1,x_2,x_3,x_4])\n",
    "\n",
    "ax = sns.boxplot(x=\"cuisine\", y=\"rating\", data=x_total)"
   ]
  },
  {
   "cell_type": "markdown",
   "metadata": {},
   "source": [
    "# Every used graph"
   ]
  },
  {
   "cell_type": "code",
   "execution_count": 46,
   "metadata": {},
   "outputs": [],
   "source": [
    "ot_rating = ot.dropna(subset = ['rating','review_count'])\n",
    "ot_rating = ot_rating.loc[ot_rating.review_count >= 100]\n",
    "ot_rating.cuisine = ot_rating.cuisine.str.strip().str.lower()"
   ]
  },
  {
   "cell_type": "code",
   "execution_count": 47,
   "metadata": {},
   "outputs": [
    {
     "data": {
      "text/plain": [
       "Text(0.5, 0, 'Rating')"
      ]
     },
     "execution_count": 47,
     "metadata": {},
     "output_type": "execute_result"
    },
    {
     "data": {
      "image/png": "[encoded data removed]",
      "text/plain": [
       "<Figure size 432x288 with 1 Axes>"
      ]
     },
     "metadata": {
      "needs_background": "light"
     },
     "output_type": "display_data"
    }
   ],
   "source": [
    "x_1,x_2,x_3,x_4 = list(ot_rating.groupby('cuisine').size().sort_values(ascending = False).head(4).index)\n",
    "\n",
    "x_1 = ot_rating.loc[(ot_rating.cuisine == x_1)][['cuisine','rating']]\n",
    "x_2 = ot_rating.loc[(ot_rating.cuisine == x_2)][['cuisine','rating']]\n",
    "x_3 = ot_rating.loc[(ot_rating.cuisine == x_3)][['cuisine','rating']]\n",
    "x_4 = ot_rating.loc[(ot_rating.cuisine == x_4)][['cuisine','rating']]\n",
    "x_total = pd.concat(objs = [x_1,x_2,x_3,x_4])\n",
    "ax = sns.boxplot(x=\"rating\", y=\"cuisine\",palette=\"Set3\", data=x_total, showfliers=False)\n",
    "plt.title(\"Rating of Top Cuisines\",fontsize = 15)\n",
    "plt.xlabel('Rating')"
   ]
  },
  {
   "cell_type": "code",
   "execution_count": 48,
   "metadata": {},
   "outputs": [
    {
     "data": {
      "text/plain": [
       "Text(0.5, 0, 'Review Count')"
      ]
     },
     "execution_count": 48,
     "metadata": {},
     "output_type": "execute_result"
    },
    {
     "data": {
      "image/png": "[encoded data removed]",
      "text/plain": [
       "<Figure size 432x288 with 1 Axes>"
      ]
     },
     "metadata": {
      "needs_background": "light"
     },
     "output_type": "display_data"
    }
   ],
   "source": [
    "x_1,x_2,x_3,x_4 = list(ot_rating.groupby('cuisine').size().sort_values(ascending = False).head(4).index)\n",
    "\n",
    "x_1 = ot_rating.loc[(ot_rating.cuisine == x_1)][['cuisine','review_count']]\n",
    "x_2 = ot_rating.loc[(ot_rating.cuisine == x_2)][['cuisine','review_count']]\n",
    "x_3 = ot_rating.loc[(ot_rating.cuisine == x_3)][['cuisine','review_count']]\n",
    "x_4 = ot_rating.loc[(ot_rating.cuisine == x_4)][['cuisine','review_count']]\n",
    "x_total = pd.concat(objs = [x_1,x_2,x_3,x_4])\n",
    "ax = sns.boxplot(x=\"review_count\", y=\"cuisine\", data=x_total, palette=\"Set3\",showfliers=False)\n",
    "plt.title(\"Review Count of Top Cuisines\",fontsize = 15)\n",
    "plt.xlabel('Review Count')"
   ]
  },
  {
   "cell_type": "code",
   "execution_count": 49,
   "metadata": {},
   "outputs": [
    {
     "data": {
      "text/plain": [
       "['new york / tri-state area',\n",
       " 'london',\n",
       " 'san francisco bay area',\n",
       " 'chicago / illinois',\n",
       " 'boston / new england',\n",
       " 'los angeles']"
      ]
     },
     "execution_count": 49,
     "metadata": {},
     "output_type": "execute_result"
    }
   ],
   "source": [
    "list(ot_rating.groupby('area').size().sort_values(ascending = False)[0:6].index)"
   ]
  },
  {
   "cell_type": "code",
   "execution_count": 50,
   "metadata": {},
   "outputs": [],
   "source": [
    "cities = list(ot_rating.groupby('area').size().sort_values(ascending = False)[:6].index)\n",
    "x_1,x_2,x_3,x_4,x_5,x_6 = cities\n",
    "cities_1 = [x_1,x_3,x_4,x_5]"
   ]
  },
  {
   "cell_type": "code",
   "execution_count": 51,
   "metadata": {
    "scrolled": true
   },
   "outputs": [
    {
     "data": {
      "text/plain": [
       "Text(0, 0.5, 'Area')"
      ]
     },
     "execution_count": 51,
     "metadata": {},
     "output_type": "execute_result"
    },
    {
     "data": {
      "image/png": "[encoded data removed]",
      "text/plain": [
       "<Figure size 432x288 with 1 Axes>"
      ]
     },
     "metadata": {
      "needs_background": "light"
     },
     "output_type": "display_data"
    }
   ],
   "source": [
    "x_1,x_2,x_3,x_4,x_5,x_6 = cities\n",
    "x1 = ot_rating.loc[(ot_rating.area == x_1)][['area','rating','cost']]\n",
    "x2 = ot_rating.loc[(ot_rating.area == x_2)][['area','rating','cost']]\n",
    "x3 = ot_rating.loc[(ot_rating.area == x_3)][['area','rating','cost']]\n",
    "x4 = ot_rating.loc[(ot_rating.area == x_4)][['area','rating','cost']]\n",
    "x5 = ot_rating.loc[(ot_rating.area == x_5)][['area','rating','cost']]\n",
    "x6 = ot_rating.loc[(ot_rating.area == x_6)][['area','rating','cost']]\n",
    "x_total = pd.concat(objs = [x1,x3,x4,x5])\n",
    "ax = sns.boxplot(x=\"rating\", y=\"area\", data=x_total, palette=\"Set3\",showfliers=False,order = [x_1,x_3,x_4,x_5])\n",
    "plt.title(\"Rating Based on Area\", fontsize = 15)\n",
    "plt.xlabel(\"Rating (%)\")\n",
    "plt.ylabel(\"Area\")"
   ]
  },
  {
   "cell_type": "code",
   "execution_count": 52,
   "metadata": {
    "scrolled": true
   },
   "outputs": [
    {
     "data": {
      "text/plain": [
       "Text(0, 0.5, 'Area')"
      ]
     },
     "execution_count": 52,
     "metadata": {},
     "output_type": "execute_result"
    },
    {
     "data": {
      "image/png": "[encoded data removed]",
      "text/plain": [
       "<Figure size 432x288 with 1 Axes>"
      ]
     },
     "metadata": {
      "needs_background": "light"
     },
     "output_type": "display_data"
    }
   ],
   "source": [
    "review_info = ot_rating.groupby('area')[['area','review_count']].mean().loc[cities_1]\n",
    "review_info.plot(kind = 'barh',color = ['b','r','o','g'])\n",
    "plt.title(\"Popularity by area\", fontsize = 15)\n",
    "plt.xlabel(\"Average Number of Reviews\")\n",
    "plt.ylabel(\"Area\")"
   ]
  },
  {
   "cell_type": "code",
   "execution_count": 53,
   "metadata": {},
   "outputs": [
    {
     "data": {
      "text/plain": [
       "<Figure size 720x720 with 0 Axes>"
      ]
     },
     "execution_count": 53,
     "metadata": {},
     "output_type": "execute_result"
    },
    {
     "data": {
      "text/plain": [
       "<Figure size 576x1080 with 0 Axes>"
      ]
     },
     "metadata": {},
     "output_type": "display_data"
    },
    {
     "data": {
      "image/png": "[encoded data removed]",
      "text/plain": [
       "<Figure size 432x288 with 1 Axes>"
      ]
     },
     "metadata": {
      "needs_background": "light"
     },
     "output_type": "display_data"
    },
    {
     "data": {
      "text/plain": [
       "<Figure size 720x720 with 0 Axes>"
      ]
     },
     "metadata": {},
     "output_type": "display_data"
    }
   ],
   "source": [
    "plt.figure(num=None, figsize=(8, 15), facecolor='w', edgecolor='k')\n",
    "review_info = ot_rating.groupby('area')[['area','review_count']].agg('sum').loc[cities_1]\n",
    "review_info.plot(kind = 'barh',color = 'b')\n",
    "plt.title(\"Total reveiws by area\", fontsize = 15)\n",
    "plt.xlabel(\"Total Reveiws\", labelpad = 2)\n",
    "plt.ylabel(\"Area\")\n",
    "plt.figure(figsize = (10,10))"
   ]
  },
  {
   "cell_type": "code",
   "execution_count": 54,
   "metadata": {},
   "outputs": [
    {
     "data": {
      "text/plain": [
       "Text(0, 0.5, 'Area')"
      ]
     },
     "execution_count": 54,
     "metadata": {},
     "output_type": "execute_result"
    },
    {
     "data": {
      "image/png": "[encoded data removed]",
      "text/plain": [
       "<Figure size 432x288 with 1 Axes>"
      ]
     },
     "metadata": {
      "needs_background": "light"
     },
     "output_type": "display_data"
    }
   ],
   "source": [
    "x_1,x_2,x_3,x_4,x_5,x_6 = list(ot_rating.groupby('area').size().sort_values(ascending = False)[:6].index)\n",
    "x1 = ot_rating.loc[(ot_rating.area == x_1)][['area','review_count','cost']]\n",
    "x2 = ot_rating.loc[(ot_rating.area == x_2)][['area','review_count','cost']]\n",
    "x3 = ot_rating.loc[(ot_rating.area == x_3)][['area','review_count','cost']]\n",
    "x4 = ot_rating.loc[(ot_rating.area == x_4)][['area','review_count','cost']]\n",
    "x5 = ot_rating.loc[(ot_rating.area == x_5)][['area','review_count','cost']]\n",
    "x6 = ot_rating.loc[(ot_rating.area == x_6)][['area','review_count','cost']]\n",
    "x_total = pd.concat(objs = [x1,x3,x4,x5])\n",
    "ax = sns.boxplot(x=\"review_count\", y=\"area\", data=x_total, palette=\"Set3\",showfliers=False,order = [x_1,x_3,x_4,x_5])\n",
    "plt.title(\"Popularity by area\", fontsize = 15)\n",
    "plt.xlabel(\"Number of Reviews\")\n",
    "plt.ylabel(\"Area\")"
   ]
  },
  {
   "cell_type": "code",
   "execution_count": 55,
   "metadata": {
    "scrolled": true
   },
   "outputs": [
    {
     "data": {
      "text/plain": [
       "Text(0, 0.5, 'Area')"
      ]
     },
     "execution_count": 55,
     "metadata": {},
     "output_type": "execute_result"
    },
    {
     "data": {
      "image/png": "[encoded data removed]",
      "text/plain": [
       "<Figure size 432x288 with 1 Axes>"
      ]
     },
     "metadata": {
      "needs_background": "light"
     },
     "output_type": "display_data"
    }
   ],
   "source": [
    "x_1,x_2,x_3,x_4,x_5,x_6 = list(ot_rating.groupby('area').size().sort_values(ascending = False)[:6].index)\n",
    "x1 = ot_rating.loc[(ot_rating.area == x_1)][['area','rating','cost']]\n",
    "x2 = ot_rating.loc[(ot_rating.area == x_2)][['area','rating','cost']]\n",
    "x3 = ot_rating.loc[(ot_rating.area == x_3)][['area','rating','cost']]\n",
    "x4 = ot_rating.loc[(ot_rating.area == x_4)][['area','rating','cost']]\n",
    "x5 = ot_rating.loc[(ot_rating.area == x_5)][['area','rating','cost']]\n",
    "x6 = ot_rating.loc[(ot_rating.area == x_6)][['area','rating','cost']]\n",
    "x_total = pd.concat(objs = [x1,x3,x4,x5])\n",
    "ax = sns.boxplot(x=\"rating\", y=\"area\", data=x_total, palette=\"Set3\",showfliers=False,order = [x_1,x_3,x_4,x_5])\n",
    "plt.title(\"Rating Based on Area\", fontsize = 15)\n",
    "plt.xlabel(\"Rating (%)\")\n",
    "plt.ylabel(\"Area\")"
   ]
  },
  {
   "cell_type": "code",
   "execution_count": 56,
   "metadata": {},
   "outputs": [
    {
     "data": {
      "text/plain": [
       "Text(0.5, 1.0, 'Rating based on area')"
      ]
     },
     "execution_count": 56,
     "metadata": {},
     "output_type": "execute_result"
    },
    {
     "data": {
      "image/png": "[encoded data removed]",
      "text/plain": [
       "<Figure size 432x288 with 1 Axes>"
      ]
     },
     "metadata": {
      "needs_background": "light"
     },
     "output_type": "display_data"
    }
   ],
   "source": [
    "x_1,x_2,x_3,x_4,x_5,x_6 = list(ot_rating.groupby('area').size().sort_values(ascending = False)[:6].index)\n",
    "x1 = ot_rating.loc[(ot_rating.area == x_1)][['area','rating','cost']]\n",
    "x2 = ot_rating.loc[(ot_rating.area == x_2)][['area','rating','cost']]\n",
    "x3 = ot_rating.loc[(ot_rating.area == x_3)][['area','rating','cost']]\n",
    "x4 = ot_rating.loc[(ot_rating.area == x_4)][['area','rating','cost']]\n",
    "x5 = ot_rating.loc[(ot_rating.area == x_5)][['area','rating','cost']]\n",
    "x6 = ot_rating.loc[(ot_rating.area == x_6)][['area','rating','cost']]\n",
    "x_total = pd.concat(objs = [x1,x3,x4,x5])\n",
    "ax = sns.boxplot(x=\"rating\", y=\"area\",hue = 'cost', data=x_total, palette=\"Set3\",showfliers=False)\n",
    "plt.title(\"Rating based on area\", fontsize = 15)"
   ]
  },
  {
   "cell_type": "code",
   "execution_count": 57,
   "metadata": {
    "scrolled": true
   },
   "outputs": [
    {
     "data": {
      "text/plain": [
       "Text(0, 0.5, 'Area')"
      ]
     },
     "execution_count": 57,
     "metadata": {},
     "output_type": "execute_result"
    },
    {
     "data": {
      "image/png": "[encoded data removed]",
      "text/plain": [
       "<Figure size 432x288 with 1 Axes>"
      ]
     },
     "metadata": {
      "needs_background": "light"
     },
     "output_type": "display_data"
    }
   ],
   "source": [
    "x_1,x_2,x_3,x_4,x_5,x_6 = list(ot_rating.groupby('area').size().sort_values(ascending = False)[:6].index)\n",
    "x1 = ot_rating.loc[(ot_rating.area == x_1)][['area','review_count']]\n",
    "x2 = ot_rating.loc[(ot_rating.area == x_2)][['area','review_count']]\n",
    "x3 = ot_rating.loc[(ot_rating.area == x_3)][['area','review_count']]\n",
    "x4 = ot_rating.loc[(ot_rating.area == x_4)][['area','review_count']]\n",
    "x5 = ot_rating.loc[(ot_rating.area == x_5)][['area','review_count']]\n",
    "x6 = ot_rating.loc[(ot_rating.area == x_6)][['area','review_count']]\n",
    "x_total = pd.concat(objs = [x1,x3,x4,x5,x6])\n",
    "ax = sns.boxplot(x=\"review_count\", y=\"area\", data=x_total, palette=\"Set3\",showfliers=False,order = [x_1,x_3,x_4,x_5,x_6])\n",
    "plt.title(\"Review Count Based on Area\")\n",
    "plt.xlabel(\"Review Count\")\n",
    "plt.ylabel(\"Area\")"
   ]
  },
  {
   "cell_type": "code",
   "execution_count": 58,
   "metadata": {
    "scrolled": true
   },
   "outputs": [
    {
     "data": {
      "text/plain": [
       "Text(0, 0.5, 'Area')"
      ]
     },
     "execution_count": 58,
     "metadata": {},
     "output_type": "execute_result"
    },
    {
     "data": {
      "image/png": "[encoded data removed]",
      "text/plain": [
       "<Figure size 432x288 with 1 Axes>"
      ]
     },
     "metadata": {
      "needs_background": "light"
     },
     "output_type": "display_data"
    }
   ],
   "source": [
    "x_1,x_2,x_3,x_4,x_5,x_6 = list(ot_rating.groupby('area').size().sort_values(ascending = False)[:6].index)\n",
    "x1 = ot_rating.loc[(ot_rating.area == x_1)][['area','review_count','rating']]\n",
    "x2 = ot_rating.loc[(ot_rating.area == x_2)][['area','review_count','rating']]\n",
    "x3 = ot_rating.loc[(ot_rating.area == x_3)][['area','review_count','rating']]\n",
    "x4 = ot_rating.loc[(ot_rating.area == x_4)][['area','review_count','rating']]\n",
    "x5 = ot_rating.loc[(ot_rating.area == x_5)][['area','review_count','rating']]\n",
    "x6 = ot_rating.loc[(ot_rating.area == x_6)][['area','review_count','rating']]\n",
    "x_total = pd.concat(objs = [x1,x3,x4,x5,x6])\n",
    "ax = sns.boxplot(x=\"review_count\", y=\"area\", data=x_total, palette=\"Set3\",showfliers=False,order = [x_1,x_3,x_4,x_5,x_6])\n",
    "plt.title(\"Review Count Based on Area\")\n",
    "plt.xlabel(\"Review Count\")\n",
    "plt.ylabel(\"Area\")\n"
   ]
  },
  {
   "cell_type": "markdown",
   "metadata": {},
   "source": [
    "## Chicago"
   ]
  },
  {
   "cell_type": "code",
   "execution_count": 59,
   "metadata": {},
   "outputs": [
    {
     "data": {
      "text/plain": [
       "location\n",
       "river north (chicago)         126\n",
       "gold coast / streeterville     88\n",
       "downtown / loop                73\n",
       "west loop                      72\n",
       "lincoln park                   51\n",
       "                             ... \n",
       "midlothian                      1\n",
       "mokena                          1\n",
       "morton grove                    1\n",
       "niles                           1\n",
       "lemont                          1\n",
       "Length: 146, dtype: int64"
      ]
     },
     "execution_count": 59,
     "metadata": {},
     "output_type": "execute_result"
    }
   ],
   "source": [
    "area = ot_rating.groupby('area')\n",
    "chicago = area.get_group('chicago / illinois')\n",
    "chicago.groupby('location').size().sort_values(ascending = False)"
   ]
  },
  {
   "cell_type": "code",
   "execution_count": 60,
   "metadata": {},
   "outputs": [],
   "source": [
    "chicago_names = list(chicago.groupby('location').size().sort_values(ascending = False)[:6].index)"
   ]
  },
  {
   "cell_type": "code",
   "execution_count": 61,
   "metadata": {
    "scrolled": false
   },
   "outputs": [
    {
     "data": {
      "text/plain": [
       "Text(0, 0.5, 'Location')"
      ]
     },
     "execution_count": 61,
     "metadata": {},
     "output_type": "execute_result"
    },
    {
     "data": {
      "image/png": "[encoded data removed]",
      "text/plain": [
       "<Figure size 432x288 with 1 Axes>"
      ]
     },
     "metadata": {
      "needs_background": "light"
     },
     "output_type": "display_data"
    }
   ],
   "source": [
    "x_1,x_2,x_3,x_4,x_5,x_6 = chicago_names\n",
    "x1 = chicago.loc[(chicago.location == x_1)][['location','review_count']]\n",
    "x2 = chicago.loc[(chicago.location == x_2)][['location','review_count']]\n",
    "x3 = chicago.loc[(chicago.location == x_3)][['location','review_count']]\n",
    "x4 = chicago.loc[(chicago.location == x_4)][['location','review_count']]\n",
    "x5 = chicago.loc[(chicago.location == x_5)][['location','review_count']]\n",
    "x6 = chicago.loc[(chicago.location == x_6)][['location','review_count']]\n",
    "x_total = pd.concat(objs = [x1,x2,x3,x4,x5,x6])\n",
    "ax = sns.boxplot(x=\"review_count\", y=\"location\", data=x_total, palette=\"Set3\",showfliers=False)\n",
    "plt.title(\"Chicago Restaurant Popularity\", fontsize = 15)\n",
    "plt.xlabel(\"Review Count\")\n",
    "plt.ylabel(\"Location\")"
   ]
  },
  {
   "cell_type": "code",
   "execution_count": 62,
   "metadata": {},
   "outputs": [
    {
     "data": {
      "text/plain": [
       "Text(0, 0.5, 'Location')"
      ]
     },
     "execution_count": 62,
     "metadata": {},
     "output_type": "execute_result"
    },
    {
     "data": {
      "image/png": "[encoded data removed]",
      "text/plain": [
       "<Figure size 432x288 with 1 Axes>"
      ]
     },
     "metadata": {
      "needs_background": "light"
     },
     "output_type": "display_data"
    }
   ],
   "source": [
    "x_1,x_2,x_3,x_4,x_5,x_6 = chicago_names\n",
    "x1 = chicago.loc[(chicago.location == x_1)][['location','review_count','cost']]\n",
    "x2 = chicago.loc[(chicago.location == x_2)][['location','review_count','cost']]\n",
    "x3 = chicago.loc[(chicago.location == x_3)][['location','review_count','cost']]\n",
    "x4 = chicago.loc[(chicago.location == x_4)][['location','review_count','cost']]\n",
    "x5 = chicago.loc[(chicago.location == x_5)][['location','review_count','cost']]\n",
    "x6 = chicago.loc[(chicago.location == x_6)][['location','review_count','cost']]\n",
    "x_total = pd.concat(objs = [x1,x2])\n",
    "ax = sns.boxplot(x=\"review_count\", y=\"location\",hue = 'cost', data=x_total, palette=\"Set3\",showfliers=False)\n",
    "plt.title(\"Chicago Restaurant Popularity\", fontsize = 15)\n",
    "plt.xlabel(\"Review Count\")\n",
    "plt.ylabel(\"Location\")"
   ]
  },
  {
   "cell_type": "code",
   "execution_count": 63,
   "metadata": {},
   "outputs": [
    {
     "data": {
      "text/plain": [
       "Text(0, 0.5, 'Location')"
      ]
     },
     "execution_count": 63,
     "metadata": {},
     "output_type": "execute_result"
    },
    {
     "data": {
      "image/png": "[encoded data removed]",
      "text/plain": [
       "<Figure size 432x288 with 1 Axes>"
      ]
     },
     "metadata": {
      "needs_background": "light"
     },
     "output_type": "display_data"
    }
   ],
   "source": [
    "x_1,x_2,x_3,x_4,x_5,x_6 = chicago_names\n",
    "x1 = chicago.loc[(chicago.location == x_1)][['location','rating','cost']]\n",
    "x2 = chicago.loc[(chicago.location == x_2)][['location','rating','cost']]\n",
    "x3 = chicago.loc[(chicago.location == x_3)][['location','rating','cost']]\n",
    "x4 = chicago.loc[(chicago.location == x_4)][['location','rating','cost']]\n",
    "x5 = chicago.loc[(chicago.location == x_5)][['location','rating','cost']]\n",
    "x6 = chicago.loc[(chicago.location == x_6)][['location','rating','cost']]\n",
    "x_total = pd.concat(objs = [x1,x2])\n",
    "ax = sns.boxplot(x=\"rating\", y=\"location\",hue = 'cost', data=x_total, palette=\"Set3\",showfliers=False)\n",
    "plt.title(\"Chicago Restaurant Rating\", fontsize = 15)\n",
    "plt.xlabel(\"Rating\")\n",
    "plt.ylabel(\"Location\")"
   ]
  },
  {
   "cell_type": "code",
   "execution_count": 64,
   "metadata": {
    "scrolled": true
   },
   "outputs": [
    {
     "data": {
      "text/plain": [
       "112613    \\$30 and under\n",
       "112614    \\$30 and under\n",
       "112690    \\$30 and under\n",
       "112723    \\$30 and under\n",
       "112790    \\$30 and under\n",
       "               ...      \n",
       "122547      \\$31 to \\$50\n",
       "122548    \\$30 and under\n",
       "122549    \\$30 and under\n",
       "122550    \\$30 and under\n",
       "122551    \\$30 and under\n",
       "Name: cost, Length: 1210, dtype: object"
      ]
     },
     "execution_count": 64,
     "metadata": {},
     "output_type": "execute_result"
    }
   ],
   "source": [
    "chicago.cost"
   ]
  },
  {
   "cell_type": "code",
   "execution_count": 65,
   "metadata": {
    "scrolled": true
   },
   "outputs": [
    {
     "data": {
      "text/plain": [
       "Text(0.5, 1.0, 'Chicago Restraunts at Each Price Point')"
      ]
     },
     "execution_count": 65,
     "metadata": {},
     "output_type": "execute_result"
    },
    {
     "data": {
      "image/png": "[encoded data removed]",
      "text/plain": [
       "<Figure size 432x288 with 1 Axes>"
      ]
     },
     "metadata": {},
     "output_type": "display_data"
    }
   ],
   "source": [
    "chicago_cost_size = pd.DataFrame(chicago.groupby('cost').size(),columns = ['restaurant_count'])\n",
    "chicago_cost_size.plot(kind = 'pie', y = 'restaurant_count')\n",
    "plt.ylabel('')\n",
    "plt.title('Chicago Restraunts at Each Price Point')"
   ]
  },
  {
   "cell_type": "code",
   "execution_count": 66,
   "metadata": {},
   "outputs": [
    {
     "data": {
      "text/plain": [
       "cuisine     cost          \n",
       "steakhouse  \\$30 and under    18\n",
       "            \\$31 to \\$50      44\n",
       "            \\$50 and up       22\n",
       "dtype: int64"
      ]
     },
     "execution_count": 66,
     "metadata": {},
     "output_type": "execute_result"
    }
   ],
   "source": [
    "chicago_cost_size = chicago.loc[chicago.cuisine == 'steakhouse'].groupby(['cuisine','cost'])\n",
    "chicago_cost_size.size()"
   ]
  },
  {
   "cell_type": "code",
   "execution_count": 67,
   "metadata": {},
   "outputs": [
    {
     "data": {
      "text/plain": [
       "Text(0.5, 1.0, 'Chicago Steakhouses at Each Price Point')"
      ]
     },
     "execution_count": 67,
     "metadata": {},
     "output_type": "execute_result"
    },
    {
     "data": {
      "image/png": "[encoded data removed]",
      "text/plain": [
       "<Figure size 432x288 with 1 Axes>"
      ]
     },
     "metadata": {},
     "output_type": "display_data"
    }
   ],
   "source": [
    "chicago_cost_size = pd.DataFrame(chicago.loc[chicago.cuisine == 'steakhouse'].groupby(['cuisine','cost']).size(),columns = ['restaurant_count'])\n",
    "chicago_cost_size.plot(kind = 'pie', y = 'restaurant_count',legend = False)\n",
    "plt.ylabel('')\n",
    "plt.title('Chicago Steakhouses at Each Price Point',fontsize = 15)"
   ]
  },
  {
   "cell_type": "code",
   "execution_count": 68,
   "metadata": {},
   "outputs": [
    {
     "data": {
      "text/plain": [
       "Text(0.5, 0, 'Review Count')"
      ]
     },
     "execution_count": 68,
     "metadata": {},
     "output_type": "execute_result"
    },
    {
     "data": {
      "image/png": "[encoded data removed]",
      "text/plain": [
       "<Figure size 432x288 with 1 Axes>"
      ]
     },
     "metadata": {
      "needs_background": "light"
     },
     "output_type": "display_data"
    }
   ],
   "source": [
    "x_1,x_2,x_3,x_4,x_5 = list(chicago.groupby('cuisine').size().sort_values(ascending = False).head(5).index)\n",
    "\n",
    "x_1 = chicago.loc[(chicago.cuisine == x_1)][['cuisine','review_count']]\n",
    "x_2 = chicago.loc[(chicago.cuisine == x_2)][['cuisine','review_count']]\n",
    "x_3 = chicago.loc[(chicago.cuisine == x_3)][['cuisine','review_count']]\n",
    "x_4 = chicago.loc[(chicago.cuisine == x_4)][['cuisine','review_count']]\n",
    "x_5 = chicago.loc[(chicago.cuisine == x_5)][['cuisine','review_count']]\n",
    "x_total = pd.concat(objs = [x_1,x_2,x_4,x_5])\n",
    "ax = sns.boxplot(x=\"review_count\", y=\"cuisine\", data=x_total, palette=\"Set3\",showfliers=False)\n",
    "plt.title(\"Review Count of Top Cuisines in Chicago\",fontsize = 15)\n",
    "plt.xlabel('Review Count')"
   ]
  },
  {
   "cell_type": "code",
   "execution_count": 69,
   "metadata": {},
   "outputs": [
    {
     "data": {
      "text/plain": [
       "Text(0.5, 0, 'Rating')"
      ]
     },
     "execution_count": 69,
     "metadata": {},
     "output_type": "execute_result"
    },
    {
     "data": {
      "image/png": "[encoded data removed]",
      "text/plain": [
       "<Figure size 432x288 with 1 Axes>"
      ]
     },
     "metadata": {
      "needs_background": "light"
     },
     "output_type": "display_data"
    }
   ],
   "source": [
    "x_1,x_2,x_3,x_4,x_5 = list(chicago.groupby('cuisine').size().sort_values(ascending = False).head(5).index)\n",
    "\n",
    "x_1 = chicago.loc[(chicago.cuisine == x_1)][['cuisine','rating']]\n",
    "x_2 = chicago.loc[(chicago.cuisine == x_2)][['cuisine','rating']]\n",
    "x_3 = chicago.loc[(chicago.cuisine == x_3)][['cuisine','rating']]\n",
    "x_4 = chicago.loc[(chicago.cuisine == x_4)][['cuisine','rating']]\n",
    "x_5 = chicago.loc[(chicago.cuisine == x_5)][['cuisine','rating']]\n",
    "x_total = pd.concat(objs = [x_1,x_2,x_4,x_5])\n",
    "ax = sns.boxplot(x=\"rating\", y=\"cuisine\", data=x_total, palette=\"Set3\",showfliers=False)\n",
    "plt.title(\"Rating of Top Cuisines in Chicago\",fontsize = 15)\n",
    "plt.xlabel('Rating')"
   ]
  },
  {
   "cell_type": "code",
   "execution_count": 70,
   "metadata": {},
   "outputs": [
    {
     "data": {
      "text/plain": [
       "Text(0.5, 0, 'Cuisine')"
      ]
     },
     "execution_count": 70,
     "metadata": {},
     "output_type": "execute_result"
    },
    {
     "data": {
      "image/png": "[encoded data removed]",
      "text/plain": [
       "<Figure size 432x720 with 1 Axes>"
      ]
     },
     "metadata": {
      "needs_background": "light"
     },
     "output_type": "display_data"
    }
   ],
   "source": [
    "x_1,x_2,x_3,x_4,x_5 = list(chicago.groupby('cuisine').size().sort_values(ascending = False).head(5).index)\n",
    "\n",
    "x_1 = chicago.loc[(chicago.cuisine == x_1)][['cuisine','rating','cost']]\n",
    "x_2 = chicago.loc[(chicago.cuisine == x_2)][['cuisine','rating']]\n",
    "x_3 = chicago.loc[(chicago.cuisine == x_3)][['cuisine','rating']]\n",
    "x_4 = chicago.loc[(chicago.cuisine == x_4)][['cuisine','rating','cost']]\n",
    "x_5 = chicago.loc[(chicago.cuisine == x_5)][['cuisine','rating']]\n",
    "x_total = pd.concat(objs = [x_1,x_4])\n",
    "plt.figure(figsize=(6, 10))\n",
    "ax = sns.boxplot(x=\"cuisine\", y=\"rating\",hue = 'cost', data=x_total, palette=\"Set3\",showfliers=False)\n",
    "plt.title(\"Rating of Top Cuisines in Chicago\",fontsize = 15)\n",
    "plt.xlabel('Cuisine')"
   ]
  },
  {
   "cell_type": "code",
   "execution_count": 71,
   "metadata": {},
   "outputs": [
    {
     "name": "stdout",
     "output_type": "stream",
     "text": [
      "rating            76.071429\n",
      "review_count    1769.452381\n",
      "dtype: float64 \n",
      " rating            71.151866\n",
      "review_count    1075.891497\n",
      "dtype: float64 \n",
      " rating           65.001900\n",
      "review_count    417.062477\n",
      "dtype: float64\n"
     ]
    },
    {
     "data": {
      "text/plain": [
       "Text(0, 0.5, 'Rating (%)')"
      ]
     },
     "execution_count": 71,
     "metadata": {},
     "output_type": "execute_result"
    },
    {
     "data": {
      "image/png": "[encoded data removed]",
      "text/plain": [
       "<Figure size 432x288 with 1 Axes>"
      ]
     },
     "metadata": {
      "needs_background": "light"
     },
     "output_type": "display_data"
    }
   ],
   "source": [
    "x1 =chicago.loc[chicago.cuisine == 'steakhouse'][['rating','review_count']].mean()\n",
    "x2 = ot.loc[ot.cuisine == 'steakhouse'][['rating','review_count']].mean()\n",
    "x3 = ot[['rating','review_count']].mean()\n",
    "print(x1,'\\n',x2,'\\n',x3)\n",
    "\n",
    "D = {\n",
    "    'All Restaurants': 65.001900,\n",
    "    'All Steakhouses': 71.151866,\n",
    "    'Chicago Steakhouses': 76.071429     \n",
    "}\n",
    "\n",
    "plt.bar(range(len(D)), list(D.values()), align='center',color = 'b')\n",
    "plt.xticks(range(len(D)), list(D.keys()))\n",
    "plt.title('Average Rating of varying restraunts')\n",
    "plt.ylabel('Rating (%)')"
   ]
  },
  {
   "cell_type": "code",
   "execution_count": 72,
   "metadata": {},
   "outputs": [
    {
     "data": {
      "text/plain": [
       "Text(0, 0.5, 'Number of Reviews')"
      ]
     },
     "execution_count": 72,
     "metadata": {},
     "output_type": "execute_result"
    },
    {
     "data": {
      "image/png": "[encoded data removed]",
      "text/plain": [
       "<Figure size 432x288 with 1 Axes>"
      ]
     },
     "metadata": {
      "needs_background": "light"
     },
     "output_type": "display_data"
    }
   ],
   "source": [
    "D = {\n",
    "    'All Restaurants': 417.062477,\n",
    "    'All Steakhouses': 1075.891497,\n",
    "    'Chicago Steakhouses': 1769.452381     \n",
    "}\n",
    "\n",
    "plt.bar(range(len(D)), list(D.values()), align='center',color = 'b')\n",
    "plt.xticks(range(len(D)), list(D.keys()))\n",
    "plt.title('Average Review Count of Varying Restraunts')\n",
    "plt.ylabel('Number of Reviews')"
   ]
  },
  {
   "cell_type": "code",
   "execution_count": 74,
   "metadata": {},
   "outputs": [
    {
     "data": {
      "text/plain": [
       "cost\n",
       "\\$30 and under    1489\n",
       "\\$31 to \\$50       433\n",
       "\\$50 and up         54\n",
       "dtype: int64"
      ]
     },
     "execution_count": 74,
     "metadata": {},
     "output_type": "execute_result"
    }
   ],
   "source": [
    "poorly_rated.groupby('cost').size()"
   ]
  },
  {
   "cell_type": "code",
   "execution_count": 84,
   "metadata": {},
   "outputs": [
    {
     "data": {
      "text/plain": [
       "Text(0.5, 1.0, 'Poorly Rated Restaurants')"
      ]
     },
     "execution_count": 84,
     "metadata": {},
     "output_type": "execute_result"
    },
    {
     "data": {
      "image/png": "[encoded data removed]",
      "text/plain": [
       "<Figure size 432x288 with 1 Axes>"
      ]
     },
     "metadata": {
      "needs_background": "light"
     },
     "output_type": "display_data"
    }
   ],
   "source": [
    "grouped_cost_size = pd.DataFrame(poorly_rated.groupby('cost').size(),columns = ['restaurant_count'])\n",
    "\n",
    "grouped_cost_size.plot(kind = 'barh', y = 'restaurant_count', color = 'b',legend = False)\n",
    "plt.xlabel('Total Restaurants')\n",
    "plt.title('Poorly Rated Restaurants', fontsize = 15)"
   ]
  },
  {
   "cell_type": "code",
   "execution_count": null,
   "metadata": {},
   "outputs": [],
   "source": []
  }
 ],
 "metadata": {
  "kernelspec": {
   "display_name": "Python 3",
   "language": "python",
   "name": "python3"
  },
  "language_info": {
   "codemirror_mode": {
    "name": "ipython",
    "version": 3
   },
   "file_extension": ".py",
   "mimetype": "text/x-python",
   "name": "python",
   "nbconvert_exporter": "python",
   "pygments_lexer": "ipython3",
   "version": "3.7.3"
  }
 },
 "nbformat": 4,
 "nbformat_minor": 2
}

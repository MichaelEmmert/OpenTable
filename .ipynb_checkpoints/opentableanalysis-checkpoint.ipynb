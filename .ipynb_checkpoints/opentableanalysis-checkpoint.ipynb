{
 "cells": [
  {
   "cell_type": "code",
   "execution_count": 1,
   "metadata": {},
   "outputs": [],
   "source": [
    "import pandas as pd\n",
    "import numpy as np\n",
    "import seaborn as sns\n",
    "from matplotlib import pyplot as plt\n",
    "from pandas.plotting import table"
   ]
  },
  {
   "cell_type": "code",
   "execution_count": 2,
   "metadata": {},
   "outputs": [],
   "source": [
    "opentable= pd.read_csv('opentablecleaned.csv')"
   ]
  },
  {
   "cell_type": "code",
   "execution_count": 3,
   "metadata": {
    "scrolled": false
   },
   "outputs": [
    {
     "data": {
      "text/html": [
       "<div>\n",
       "<style scoped>\n",
       "    .dataframe tbody tr th:only-of-type {\n",
       "        vertical-align: middle;\n",
       "    }\n",
       "\n",
       "    .dataframe tbody tr th {\n",
       "        vertical-align: top;\n",
       "    }\n",
       "\n",
       "    .dataframe thead th {\n",
       "        text-align: right;\n",
       "    }\n",
       "</style>\n",
       "<table border=\"1\" class=\"dataframe\">\n",
       "  <thead>\n",
       "    <tr style=\"text-align: right;\">\n",
       "      <th></th>\n",
       "      <th>Unnamed: 0</th>\n",
       "      <th>area</th>\n",
       "      <th>cost</th>\n",
       "      <th>cuisine</th>\n",
       "      <th>link</th>\n",
       "      <th>location</th>\n",
       "      <th>location_on_page</th>\n",
       "      <th>name</th>\n",
       "      <th>promoted</th>\n",
       "      <th>rating</th>\n",
       "      <th>review_count</th>\n",
       "      <th>review_link</th>\n",
       "    </tr>\n",
       "  </thead>\n",
       "  <tbody>\n",
       "    <tr>\n",
       "      <th>98635</th>\n",
       "      <td>98635</td>\n",
       "      <td>Washington, D.C. Area</td>\n",
       "      <td>2</td>\n",
       "      <td>American</td>\n",
       "      <td>https://www.opentable.com/r/cheesetique-mosaic...</td>\n",
       "      <td>Fairfax</td>\n",
       "      <td>[11, 0]</td>\n",
       "      <td>Cheesetique - Mosaic</td>\n",
       "      <td>True</td>\n",
       "      <td>75.0</td>\n",
       "      <td>195.0</td>\n",
       "      <td>https://www.opentable.com/r/cheesetique-mosaic...</td>\n",
       "    </tr>\n",
       "    <tr>\n",
       "      <th>127713</th>\n",
       "      <td>127713</td>\n",
       "      <td>Dallas - Fort Worth</td>\n",
       "      <td>3</td>\n",
       "      <td>American</td>\n",
       "      <td>https://www.opentable.com/r/table-13-addison?a...</td>\n",
       "      <td>North Dallas / Addison</td>\n",
       "      <td>[4, 0]</td>\n",
       "      <td>Table 13</td>\n",
       "      <td>True</td>\n",
       "      <td>80.0</td>\n",
       "      <td>1943.0</td>\n",
       "      <td>https://www.opentable.com/r/table-13-addison?a...</td>\n",
       "    </tr>\n",
       "    <tr>\n",
       "      <th>58440</th>\n",
       "      <td>58440</td>\n",
       "      <td>New York / Tri-State Area</td>\n",
       "      <td>3</td>\n",
       "      <td>American</td>\n",
       "      <td>https://www.opentable.com/r/perrine-new-york?a...</td>\n",
       "      <td>Upper East Side</td>\n",
       "      <td>[12, 5]</td>\n",
       "      <td>Perrine</td>\n",
       "      <td>True</td>\n",
       "      <td>70.0</td>\n",
       "      <td>373.0</td>\n",
       "      <td>https://www.opentable.com/r/perrine-new-york?a...</td>\n",
       "    </tr>\n",
       "    <tr>\n",
       "      <th>58439</th>\n",
       "      <td>58439</td>\n",
       "      <td>New York / Tri-State Area</td>\n",
       "      <td>4</td>\n",
       "      <td>Steakhouse</td>\n",
       "      <td>https://www.opentable.com/r/bobs-steak-and-cho...</td>\n",
       "      <td>Midtown East</td>\n",
       "      <td>[12, 4]</td>\n",
       "      <td>Bob's Steak &amp; Chop House - New York</td>\n",
       "      <td>True</td>\n",
       "      <td>75.0</td>\n",
       "      <td>250.0</td>\n",
       "      <td>https://www.opentable.com/r/bobs-steak-and-cho...</td>\n",
       "    </tr>\n",
       "    <tr>\n",
       "      <th>53641</th>\n",
       "      <td>53641</td>\n",
       "      <td>New York / Tri-State Area</td>\n",
       "      <td>3</td>\n",
       "      <td>Steakhouse</td>\n",
       "      <td>https://www.opentable.com/r/ruths-chris-steak-...</td>\n",
       "      <td>Jersey City</td>\n",
       "      <td>[60, 6]</td>\n",
       "      <td>Ruth's Chris Steak House - Jersey City</td>\n",
       "      <td>True</td>\n",
       "      <td>75.0</td>\n",
       "      <td>260.0</td>\n",
       "      <td>https://www.opentable.com/r/ruths-chris-steak-...</td>\n",
       "    </tr>\n",
       "  </tbody>\n",
       "</table>\n",
       "</div>"
      ],
      "text/plain": [
       "        Unnamed: 0                       area  cost     cuisine  \\\n",
       "98635        98635      Washington, D.C. Area     2    American   \n",
       "127713      127713        Dallas - Fort Worth     3    American   \n",
       "58440        58440  New York / Tri-State Area     3    American   \n",
       "58439        58439  New York / Tri-State Area     4  Steakhouse   \n",
       "53641        53641  New York / Tri-State Area     3  Steakhouse   \n",
       "\n",
       "                                                     link  \\\n",
       "98635   https://www.opentable.com/r/cheesetique-mosaic...   \n",
       "127713  https://www.opentable.com/r/table-13-addison?a...   \n",
       "58440   https://www.opentable.com/r/perrine-new-york?a...   \n",
       "58439   https://www.opentable.com/r/bobs-steak-and-cho...   \n",
       "53641   https://www.opentable.com/r/ruths-chris-steak-...   \n",
       "\n",
       "                      location location_on_page  \\\n",
       "98635                  Fairfax          [11, 0]   \n",
       "127713  North Dallas / Addison           [4, 0]   \n",
       "58440          Upper East Side          [12, 5]   \n",
       "58439             Midtown East          [12, 4]   \n",
       "53641              Jersey City          [60, 6]   \n",
       "\n",
       "                                          name  promoted  rating  \\\n",
       "98635                     Cheesetique - Mosaic      True    75.0   \n",
       "127713                                Table 13      True    80.0   \n",
       "58440                                  Perrine      True    70.0   \n",
       "58439      Bob's Steak & Chop House - New York      True    75.0   \n",
       "53641   Ruth's Chris Steak House - Jersey City      True    75.0   \n",
       "\n",
       "        review_count                                        review_link  \n",
       "98635          195.0  https://www.opentable.com/r/cheesetique-mosaic...  \n",
       "127713        1943.0  https://www.opentable.com/r/table-13-addison?a...  \n",
       "58440          373.0  https://www.opentable.com/r/perrine-new-york?a...  \n",
       "58439          250.0  https://www.opentable.com/r/bobs-steak-and-cho...  \n",
       "53641          260.0  https://www.opentable.com/r/ruths-chris-steak-...  "
      ]
     },
     "execution_count": 3,
     "metadata": {},
     "output_type": "execute_result"
    }
   ],
   "source": [
    "opentable.sort_values('promoted',ascending = False).head()"
   ]
  },
  {
   "cell_type": "code",
   "execution_count": 4,
   "metadata": {},
   "outputs": [
    {
     "data": {
      "text/plain": [
       "Unnamed: 0               0\n",
       "area                   100\n",
       "cost                     0\n",
       "cuisine                  0\n",
       "link                     0\n",
       "location                 0\n",
       "location_on_page         0\n",
       "name                     0\n",
       "promoted                 0\n",
       "rating              121707\n",
       "review_count        120693\n",
       "review_link              0\n",
       "dtype: int64"
      ]
     },
     "execution_count": 4,
     "metadata": {},
     "output_type": "execute_result"
    }
   ],
   "source": [
    "opentable.isna().sum()"
   ]
  },
  {
   "cell_type": "code",
   "execution_count": 5,
   "metadata": {},
   "outputs": [
    {
     "data": {
      "text/html": [
       "<div>\n",
       "<style scoped>\n",
       "    .dataframe tbody tr th:only-of-type {\n",
       "        vertical-align: middle;\n",
       "    }\n",
       "\n",
       "    .dataframe tbody tr th {\n",
       "        vertical-align: top;\n",
       "    }\n",
       "\n",
       "    .dataframe thead th {\n",
       "        text-align: right;\n",
       "    }\n",
       "</style>\n",
       "<table border=\"1\" class=\"dataframe\">\n",
       "  <thead>\n",
       "    <tr style=\"text-align: right;\">\n",
       "      <th></th>\n",
       "      <th>area</th>\n",
       "      <th>location</th>\n",
       "      <th>name</th>\n",
       "      <th>cuisine</th>\n",
       "      <th>cost</th>\n",
       "      <th>rating</th>\n",
       "      <th>review_count</th>\n",
       "      <th>promoted</th>\n",
       "      <th>location_on_page</th>\n",
       "    </tr>\n",
       "  </thead>\n",
       "  <tbody>\n",
       "    <tr>\n",
       "      <th>3571</th>\n",
       "      <td>Dublin</td>\n",
       "      <td>Islandbridge</td>\n",
       "      <td>Chesterfields Restaurant at the Ashling Hotel</td>\n",
       "      <td>Irish</td>\n",
       "      <td>2</td>\n",
       "      <td>NaN</td>\n",
       "      <td>NaN</td>\n",
       "      <td>False</td>\n",
       "      <td>[3, 69]</td>\n",
       "    </tr>\n",
       "    <tr>\n",
       "      <th>128055</th>\n",
       "      <td>Dallas - Fort Worth</td>\n",
       "      <td>Park Cities</td>\n",
       "      <td>Asian Mint | Inwood Village</td>\n",
       "      <td>Asian</td>\n",
       "      <td>2</td>\n",
       "      <td>80.0</td>\n",
       "      <td>45.0</td>\n",
       "      <td>False</td>\n",
       "      <td>[1, 42]</td>\n",
       "    </tr>\n",
       "    <tr>\n",
       "      <th>21001</th>\n",
       "      <td>Atlantic Canada</td>\n",
       "      <td>Wolfville</td>\n",
       "      <td>Annapolis Royal Golf &amp; Country Club</td>\n",
       "      <td>European</td>\n",
       "      <td>2</td>\n",
       "      <td>NaN</td>\n",
       "      <td>NaN</td>\n",
       "      <td>False</td>\n",
       "      <td>[2, 38]</td>\n",
       "    </tr>\n",
       "    <tr>\n",
       "      <th>21354</th>\n",
       "      <td>Berlin</td>\n",
       "      <td>Friedrichshain</td>\n",
       "      <td>Fatoush</td>\n",
       "      <td>East African</td>\n",
       "      <td>2</td>\n",
       "      <td>NaN</td>\n",
       "      <td>NaN</td>\n",
       "      <td>False</td>\n",
       "      <td>[15, 91]</td>\n",
       "    </tr>\n",
       "    <tr>\n",
       "      <th>45129</th>\n",
       "      <td>Boston / New England</td>\n",
       "      <td>Merrimack</td>\n",
       "      <td>North Side Grille (the)</td>\n",
       "      <td>American</td>\n",
       "      <td>2</td>\n",
       "      <td>NaN</td>\n",
       "      <td>NaN</td>\n",
       "      <td>False</td>\n",
       "      <td>[47, 94]</td>\n",
       "    </tr>\n",
       "    <tr>\n",
       "      <th>18773</th>\n",
       "      <td>Calgary / Southern Alberta</td>\n",
       "      <td>Calgary</td>\n",
       "      <td>Moxie's Grill &amp; Bar - Barlow</td>\n",
       "      <td>Contemporary American</td>\n",
       "      <td>2</td>\n",
       "      <td>70.0</td>\n",
       "      <td>140.0</td>\n",
       "      <td>False</td>\n",
       "      <td>[4, 10]</td>\n",
       "    </tr>\n",
       "    <tr>\n",
       "      <th>74660</th>\n",
       "      <td>Portland / Oregon</td>\n",
       "      <td>Hillsboro</td>\n",
       "      <td>One Horse Tavern</td>\n",
       "      <td>Grill</td>\n",
       "      <td>2</td>\n",
       "      <td>NaN</td>\n",
       "      <td>NaN</td>\n",
       "      <td>False</td>\n",
       "      <td>[21, 25]</td>\n",
       "    </tr>\n",
       "    <tr>\n",
       "      <th>143923</th>\n",
       "      <td>Indiana</td>\n",
       "      <td>Fort Wayne</td>\n",
       "      <td>Klemms Kafe</td>\n",
       "      <td>American</td>\n",
       "      <td>2</td>\n",
       "      <td>NaN</td>\n",
       "      <td>NaN</td>\n",
       "      <td>False</td>\n",
       "      <td>[27, 10]</td>\n",
       "    </tr>\n",
       "    <tr>\n",
       "      <th>6279</th>\n",
       "      <td>Mexico City</td>\n",
       "      <td>Santa Fe / Bosques</td>\n",
       "      <td>Debbie &amp; Peponne - Duraznos</td>\n",
       "      <td>International</td>\n",
       "      <td>2</td>\n",
       "      <td>75.0</td>\n",
       "      <td>3.0</td>\n",
       "      <td>False</td>\n",
       "      <td>[6, 77]</td>\n",
       "    </tr>\n",
       "    <tr>\n",
       "      <th>33477</th>\n",
       "      <td>Glasgow/Lanarkshire</td>\n",
       "      <td>Uddingston</td>\n",
       "      <td>Boh Cucina</td>\n",
       "      <td>Italian</td>\n",
       "      <td>2</td>\n",
       "      <td>90.0</td>\n",
       "      <td>51.0</td>\n",
       "      <td>False</td>\n",
       "      <td>[3, 14]</td>\n",
       "    </tr>\n",
       "  </tbody>\n",
       "</table>\n",
       "</div>"
      ],
      "text/plain": [
       "                              area            location  \\\n",
       "3571                        Dublin        Islandbridge   \n",
       "128055         Dallas - Fort Worth         Park Cities   \n",
       "21001              Atlantic Canada           Wolfville   \n",
       "21354                       Berlin      Friedrichshain   \n",
       "45129         Boston / New England           Merrimack   \n",
       "18773   Calgary / Southern Alberta             Calgary   \n",
       "74660            Portland / Oregon           Hillsboro   \n",
       "143923                     Indiana          Fort Wayne   \n",
       "6279                   Mexico City  Santa Fe / Bosques   \n",
       "33477          Glasgow/Lanarkshire          Uddingston   \n",
       "\n",
       "                                                 name                cuisine  \\\n",
       "3571    Chesterfields Restaurant at the Ashling Hotel                  Irish   \n",
       "128055                    Asian Mint | Inwood Village                  Asian   \n",
       "21001             Annapolis Royal Golf & Country Club               European   \n",
       "21354                                         Fatoush           East African   \n",
       "45129                         North Side Grille (the)               American   \n",
       "18773                    Moxie's Grill & Bar - Barlow  Contemporary American   \n",
       "74660                                One Horse Tavern                  Grill   \n",
       "143923                                    Klemms Kafe               American   \n",
       "6279                      Debbie & Peponne - Duraznos          International   \n",
       "33477                                      Boh Cucina                Italian   \n",
       "\n",
       "        cost  rating  review_count  promoted location_on_page  \n",
       "3571       2     NaN           NaN     False          [3, 69]  \n",
       "128055     2    80.0          45.0     False          [1, 42]  \n",
       "21001      2     NaN           NaN     False          [2, 38]  \n",
       "21354      2     NaN           NaN     False         [15, 91]  \n",
       "45129      2     NaN           NaN     False         [47, 94]  \n",
       "18773      2    70.0         140.0     False          [4, 10]  \n",
       "74660      2     NaN           NaN     False         [21, 25]  \n",
       "143923     2     NaN           NaN     False         [27, 10]  \n",
       "6279       2    75.0           3.0     False          [6, 77]  \n",
       "33477      2    90.0          51.0     False          [3, 14]  "
      ]
     },
     "execution_count": 5,
     "metadata": {},
     "output_type": "execute_result"
    }
   ],
   "source": [
    "#without links\n",
    "ot = opentable[['area','location','name','cuisine','cost','rating','review_count','promoted','location_on_page']]\n",
    "ot.sample(10)"
   ]
  },
  {
   "cell_type": "code",
   "execution_count": 6,
   "metadata": {
    "scrolled": true
   },
   "outputs": [
    {
     "data": {
      "text/plain": [
       "163813"
      ]
     },
     "execution_count": 6,
     "metadata": {},
     "output_type": "execute_result"
    }
   ],
   "source": [
    "len(ot)"
   ]
  },
  {
   "cell_type": "code",
   "execution_count": 7,
   "metadata": {},
   "outputs": [
    {
     "data": {
      "text/plain": [
       "1014"
      ]
     },
     "execution_count": 7,
     "metadata": {},
     "output_type": "execute_result"
    }
   ],
   "source": [
    "rating_without_reviews = ot.rating.isna().sum() - ot.review_count.isna().sum()\n",
    "rating_without_reviews"
   ]
  },
  {
   "cell_type": "code",
   "execution_count": 8,
   "metadata": {
    "scrolled": true
   },
   "outputs": [
    {
     "data": {
      "text/plain": [
       "'74.3%'"
      ]
     },
     "execution_count": 8,
     "metadata": {},
     "output_type": "execute_result"
    }
   ],
   "source": [
    "percent_missing_rating = str(round(((ot.rating.isna().sum()/len(ot))*100),2)) +'%'\n",
    "percent_missing_rating "
   ]
  },
  {
   "cell_type": "markdown",
   "metadata": {},
   "source": [
    "# Scatter Plots"
   ]
  },
  {
   "cell_type": "code",
   "execution_count": 9,
   "metadata": {},
   "outputs": [
    {
     "data": {
      "image/png": "[encoded data removed]",
      "text/plain": [
       "<Figure size 432x288 with 1 Axes>"
      ]
     },
     "metadata": {
      "needs_background": "light"
     },
     "output_type": "display_data"
    },
    {
     "data": {
      "text/plain": [
       "<Figure size 800x800 with 0 Axes>"
      ]
     },
     "metadata": {},
     "output_type": "display_data"
    }
   ],
   "source": [
    "plt.scatter(y = ot.review_count, x =ot.rating)\n",
    "plt.title('Rating ')\n",
    "plt.xlabel('Rating')\n",
    "plt.ylabel('Number of Reiews')\n",
    "plt.figure(num=None, figsize=(10, 10), dpi=80, facecolor='w', edgecolor='k')\n",
    "plt.show()"
   ]
  },
  {
   "cell_type": "markdown",
   "metadata": {},
   "source": [
    "# Groupings\n",
    "## Grouped by area"
   ]
  },
  {
   "cell_type": "code",
   "execution_count": 10,
   "metadata": {
    "scrolled": true
   },
   "outputs": [],
   "source": [
    "grouped_area_size = pd.DataFrame(ot.groupby('area').size(),columns = ['restaurant_count'])"
   ]
  },
  {
   "cell_type": "code",
   "execution_count": 11,
   "metadata": {},
   "outputs": [
    {
     "data": {
      "text/html": [
       "<div>\n",
       "<style scoped>\n",
       "    .dataframe tbody tr th:only-of-type {\n",
       "        vertical-align: middle;\n",
       "    }\n",
       "\n",
       "    .dataframe tbody tr th {\n",
       "        vertical-align: top;\n",
       "    }\n",
       "\n",
       "    .dataframe thead th {\n",
       "        text-align: right;\n",
       "    }\n",
       "</style>\n",
       "<table border=\"1\" class=\"dataframe\">\n",
       "  <thead>\n",
       "    <tr style=\"text-align: right;\">\n",
       "      <th></th>\n",
       "      <th>restaurant_count</th>\n",
       "    </tr>\n",
       "    <tr>\n",
       "      <th>area</th>\n",
       "      <th></th>\n",
       "    </tr>\n",
       "  </thead>\n",
       "  <tbody>\n",
       "    <tr>\n",
       "      <th>Atlanta / Georgia</th>\n",
       "      <td>6105</td>\n",
       "    </tr>\n",
       "    <tr>\n",
       "      <th>Atlantic Canada</th>\n",
       "      <td>1069</td>\n",
       "    </tr>\n",
       "    <tr>\n",
       "      <th>Baja California Sur</th>\n",
       "      <td>167</td>\n",
       "    </tr>\n",
       "    <tr>\n",
       "      <th>Barcelona</th>\n",
       "      <td>966</td>\n",
       "    </tr>\n",
       "    <tr>\n",
       "      <th>Berlin</th>\n",
       "      <td>1698</td>\n",
       "    </tr>\n",
       "    <tr>\n",
       "      <th>Boston / New England</th>\n",
       "      <td>10000</td>\n",
       "    </tr>\n",
       "    <tr>\n",
       "      <th>Calgary / Southern Alberta</th>\n",
       "      <td>1459</td>\n",
       "    </tr>\n",
       "    <tr>\n",
       "      <th>Cancun / Riviera Maya</th>\n",
       "      <td>364</td>\n",
       "    </tr>\n",
       "    <tr>\n",
       "      <th>Chicago / Illinois</th>\n",
       "      <td>10000</td>\n",
       "    </tr>\n",
       "    <tr>\n",
       "      <th>Dallas - Fort Worth</th>\n",
       "      <td>5637</td>\n",
       "    </tr>\n",
       "    <tr>\n",
       "      <th>Denver / Colorado</th>\n",
       "      <td>4804</td>\n",
       "    </tr>\n",
       "    <tr>\n",
       "      <th>Detroit / Eastern Michigan</th>\n",
       "      <td>4161</td>\n",
       "    </tr>\n",
       "    <tr>\n",
       "      <th>Dublin</th>\n",
       "      <td>654</td>\n",
       "    </tr>\n",
       "    <tr>\n",
       "      <th>Edinburgh/Midlothian</th>\n",
       "      <td>757</td>\n",
       "    </tr>\n",
       "    <tr>\n",
       "      <th>Edmonton / Northern Alberta</th>\n",
       "      <td>1075</td>\n",
       "    </tr>\n",
       "    <tr>\n",
       "      <th>Essex</th>\n",
       "      <td>374</td>\n",
       "    </tr>\n",
       "    <tr>\n",
       "      <th>Frankfurt / Taunus</th>\n",
       "      <td>459</td>\n",
       "    </tr>\n",
       "    <tr>\n",
       "      <th>Glasgow/Lanarkshire</th>\n",
       "      <td>493</td>\n",
       "    </tr>\n",
       "    <tr>\n",
       "      <th>Hamburg / Hamburg Area</th>\n",
       "      <td>620</td>\n",
       "    </tr>\n",
       "    <tr>\n",
       "      <th>Houston</th>\n",
       "      <td>5638</td>\n",
       "    </tr>\n",
       "    <tr>\n",
       "      <th>Indiana</th>\n",
       "      <td>3910</td>\n",
       "    </tr>\n",
       "    <tr>\n",
       "      <th>Italy</th>\n",
       "      <td>1482</td>\n",
       "    </tr>\n",
       "    <tr>\n",
       "      <th>Kanagawa</th>\n",
       "      <td>105</td>\n",
       "    </tr>\n",
       "    <tr>\n",
       "      <th>Kent</th>\n",
       "      <td>593</td>\n",
       "    </tr>\n",
       "    <tr>\n",
       "      <th>Las Vegas</th>\n",
       "      <td>2142</td>\n",
       "    </tr>\n",
       "    <tr>\n",
       "      <th>London</th>\n",
       "      <td>5468</td>\n",
       "    </tr>\n",
       "    <tr>\n",
       "      <th>Los Angeles</th>\n",
       "      <td>10000</td>\n",
       "    </tr>\n",
       "    <tr>\n",
       "      <th>Madrid</th>\n",
       "      <td>943</td>\n",
       "    </tr>\n",
       "    <tr>\n",
       "      <th>Manchester/Greater Manchester</th>\n",
       "      <td>471</td>\n",
       "    </tr>\n",
       "    <tr>\n",
       "      <th>Mexico City</th>\n",
       "      <td>1018</td>\n",
       "    </tr>\n",
       "    <tr>\n",
       "      <th>Miami / Southeast Florida</th>\n",
       "      <td>5986</td>\n",
       "    </tr>\n",
       "    <tr>\n",
       "      <th>Monterrey</th>\n",
       "      <td>182</td>\n",
       "    </tr>\n",
       "    <tr>\n",
       "      <th>Montreal / Quebec</th>\n",
       "      <td>3971</td>\n",
       "    </tr>\n",
       "    <tr>\n",
       "      <th>Munich / Lower Bavaria / Bavarian Swabia</th>\n",
       "      <td>1306</td>\n",
       "    </tr>\n",
       "    <tr>\n",
       "      <th>New York / Tri-State Area</th>\n",
       "      <td>10000</td>\n",
       "    </tr>\n",
       "    <tr>\n",
       "      <th>Orlando / Central Florida East</th>\n",
       "      <td>4328</td>\n",
       "    </tr>\n",
       "    <tr>\n",
       "      <th>Philadelphia / New Jersey Suburbs</th>\n",
       "      <td>8682</td>\n",
       "    </tr>\n",
       "    <tr>\n",
       "      <th>Portland / Oregon</th>\n",
       "      <td>4241</td>\n",
       "    </tr>\n",
       "    <tr>\n",
       "      <th>San Francisco Bay Area</th>\n",
       "      <td>8500</td>\n",
       "    </tr>\n",
       "    <tr>\n",
       "      <th>Seattle / Eastern Washington</th>\n",
       "      <td>6247</td>\n",
       "    </tr>\n",
       "    <tr>\n",
       "      <th>Stuttgart / East Baden-Württemberg</th>\n",
       "      <td>240</td>\n",
       "    </tr>\n",
       "    <tr>\n",
       "      <th>Tokyo Metropolitan Area</th>\n",
       "      <td>1115</td>\n",
       "    </tr>\n",
       "    <tr>\n",
       "      <th>Toronto / Ontario</th>\n",
       "      <td>7414</td>\n",
       "    </tr>\n",
       "    <tr>\n",
       "      <th>Vancouver / British Columbia</th>\n",
       "      <td>4563</td>\n",
       "    </tr>\n",
       "    <tr>\n",
       "      <th>Virginia</th>\n",
       "      <td>3923</td>\n",
       "    </tr>\n",
       "    <tr>\n",
       "      <th>Washington, D.C. Area</th>\n",
       "      <td>4623</td>\n",
       "    </tr>\n",
       "    <tr>\n",
       "      <th>Wisconsin</th>\n",
       "      <td>4951</td>\n",
       "    </tr>\n",
       "    <tr>\n",
       "      <th>Yorkshire</th>\n",
       "      <td>809</td>\n",
       "    </tr>\n",
       "  </tbody>\n",
       "</table>\n",
       "</div>"
      ],
      "text/plain": [
       "                                          restaurant_count\n",
       "area                                                      \n",
       "Atlanta / Georgia                                     6105\n",
       "Atlantic Canada                                       1069\n",
       "Baja California Sur                                    167\n",
       "Barcelona                                              966\n",
       "Berlin                                                1698\n",
       "Boston / New England                                 10000\n",
       "Calgary / Southern Alberta                            1459\n",
       "Cancun / Riviera Maya                                  364\n",
       "Chicago / Illinois                                   10000\n",
       "Dallas - Fort Worth                                   5637\n",
       "Denver / Colorado                                     4804\n",
       "Detroit / Eastern Michigan                            4161\n",
       "Dublin                                                 654\n",
       "Edinburgh/Midlothian                                   757\n",
       "Edmonton / Northern Alberta                           1075\n",
       "Essex                                                  374\n",
       "Frankfurt / Taunus                                     459\n",
       "Glasgow/Lanarkshire                                    493\n",
       "Hamburg / Hamburg Area                                 620\n",
       "Houston                                               5638\n",
       "Indiana                                               3910\n",
       "Italy                                                 1482\n",
       "Kanagawa                                               105\n",
       "Kent                                                   593\n",
       "Las Vegas                                             2142\n",
       "London                                                5468\n",
       "Los Angeles                                          10000\n",
       "Madrid                                                 943\n",
       "Manchester/Greater Manchester                          471\n",
       "Mexico City                                           1018\n",
       "Miami / Southeast Florida                             5986\n",
       "Monterrey                                              182\n",
       "Montreal / Quebec                                     3971\n",
       "Munich / Lower Bavaria / Bavarian Swabia              1306\n",
       "New York / Tri-State Area                            10000\n",
       "Orlando / Central Florida East                        4328\n",
       "Philadelphia / New Jersey Suburbs                     8682\n",
       "Portland / Oregon                                     4241\n",
       "San Francisco Bay Area                                8500\n",
       "Seattle / Eastern Washington                          6247\n",
       "Stuttgart / East Baden-Württemberg                     240\n",
       "Tokyo Metropolitan Area                               1115\n",
       "Toronto / Ontario                                     7414\n",
       "Vancouver / British Columbia                          4563\n",
       "Virginia                                              3923\n",
       "Washington, D.C. Area                                 4623\n",
       "Wisconsin                                             4951\n",
       "Yorkshire                                              809"
      ]
     },
     "execution_count": 11,
     "metadata": {},
     "output_type": "execute_result"
    }
   ],
   "source": [
    "grouped_area_size"
   ]
  },
  {
   "cell_type": "code",
   "execution_count": 12,
   "metadata": {},
   "outputs": [
    {
     "data": {
      "text/html": [
       "<div>\n",
       "<style scoped>\n",
       "    .dataframe tbody tr th:only-of-type {\n",
       "        vertical-align: middle;\n",
       "    }\n",
       "\n",
       "    .dataframe tbody tr th {\n",
       "        vertical-align: top;\n",
       "    }\n",
       "\n",
       "    .dataframe thead th {\n",
       "        text-align: right;\n",
       "    }\n",
       "</style>\n",
       "<table border=\"1\" class=\"dataframe\">\n",
       "  <thead>\n",
       "    <tr style=\"text-align: right;\">\n",
       "      <th></th>\n",
       "      <th>restaurant_count</th>\n",
       "    </tr>\n",
       "    <tr>\n",
       "      <th>area</th>\n",
       "      <th></th>\n",
       "    </tr>\n",
       "  </thead>\n",
       "  <tbody>\n",
       "    <tr>\n",
       "      <th>Los Angeles</th>\n",
       "      <td>10000</td>\n",
       "    </tr>\n",
       "    <tr>\n",
       "      <th>Chicago / Illinois</th>\n",
       "      <td>10000</td>\n",
       "    </tr>\n",
       "    <tr>\n",
       "      <th>New York / Tri-State Area</th>\n",
       "      <td>10000</td>\n",
       "    </tr>\n",
       "    <tr>\n",
       "      <th>Boston / New England</th>\n",
       "      <td>10000</td>\n",
       "    </tr>\n",
       "    <tr>\n",
       "      <th>Philadelphia / New Jersey Suburbs</th>\n",
       "      <td>8682</td>\n",
       "    </tr>\n",
       "    <tr>\n",
       "      <th>San Francisco Bay Area</th>\n",
       "      <td>8500</td>\n",
       "    </tr>\n",
       "    <tr>\n",
       "      <th>Toronto / Ontario</th>\n",
       "      <td>7414</td>\n",
       "    </tr>\n",
       "    <tr>\n",
       "      <th>Seattle / Eastern Washington</th>\n",
       "      <td>6247</td>\n",
       "    </tr>\n",
       "    <tr>\n",
       "      <th>Atlanta / Georgia</th>\n",
       "      <td>6105</td>\n",
       "    </tr>\n",
       "    <tr>\n",
       "      <th>Miami / Southeast Florida</th>\n",
       "      <td>5986</td>\n",
       "    </tr>\n",
       "  </tbody>\n",
       "</table>\n",
       "</div>"
      ],
      "text/plain": [
       "                                   restaurant_count\n",
       "area                                               \n",
       "Los Angeles                                   10000\n",
       "Chicago / Illinois                            10000\n",
       "New York / Tri-State Area                     10000\n",
       "Boston / New England                          10000\n",
       "Philadelphia / New Jersey Suburbs              8682\n",
       "San Francisco Bay Area                         8500\n",
       "Toronto / Ontario                              7414\n",
       "Seattle / Eastern Washington                   6247\n",
       "Atlanta / Georgia                              6105\n",
       "Miami / Southeast Florida                      5986"
      ]
     },
     "execution_count": 12,
     "metadata": {},
     "output_type": "execute_result"
    }
   ],
   "source": [
    "area_size_table = grouped_area_size.sort_values('restaurant_count',ascending = False).head(10)\n",
    "area_size_table"
   ]
  },
  {
   "cell_type": "markdown",
   "metadata": {},
   "source": [
    "## Grouped by location"
   ]
  },
  {
   "cell_type": "code",
   "execution_count": 13,
   "metadata": {},
   "outputs": [],
   "source": [
    "grouped_location_size = pd.DataFrame(ot.groupby('location').size(),columns = ['restaurant_count'])"
   ]
  },
  {
   "cell_type": "code",
   "execution_count": 14,
   "metadata": {},
   "outputs": [
    {
     "data": {
      "text/plain": [
       "3834"
      ]
     },
     "execution_count": 14,
     "metadata": {},
     "output_type": "execute_result"
    }
   ],
   "source": [
    "len(grouped_location_size)"
   ]
  },
  {
   "cell_type": "code",
   "execution_count": 15,
   "metadata": {},
   "outputs": [
    {
     "data": {
      "text/html": [
       "<div>\n",
       "<style scoped>\n",
       "    .dataframe tbody tr th:only-of-type {\n",
       "        vertical-align: middle;\n",
       "    }\n",
       "\n",
       "    .dataframe tbody tr th {\n",
       "        vertical-align: top;\n",
       "    }\n",
       "\n",
       "    .dataframe thead th {\n",
       "        text-align: right;\n",
       "    }\n",
       "</style>\n",
       "<table border=\"1\" class=\"dataframe\">\n",
       "  <thead>\n",
       "    <tr style=\"text-align: right;\">\n",
       "      <th></th>\n",
       "      <th>restaurant_count</th>\n",
       "    </tr>\n",
       "    <tr>\n",
       "      <th>location</th>\n",
       "      <th></th>\n",
       "    </tr>\n",
       "  </thead>\n",
       "  <tbody>\n",
       "    <tr>\n",
       "      <th>Downtown</th>\n",
       "      <td>2599</td>\n",
       "    </tr>\n",
       "    <tr>\n",
       "      <th>Sooke</th>\n",
       "      <td>1211</td>\n",
       "    </tr>\n",
       "    <tr>\n",
       "      <th>Detroit</th>\n",
       "      <td>1135</td>\n",
       "    </tr>\n",
       "    <tr>\n",
       "      <th>Richmond</th>\n",
       "      <td>895</td>\n",
       "    </tr>\n",
       "    <tr>\n",
       "      <th>Milwaukee</th>\n",
       "      <td>687</td>\n",
       "    </tr>\n",
       "    <tr>\n",
       "      <th>...</th>\n",
       "      <td>...</td>\n",
       "    </tr>\n",
       "    <tr>\n",
       "      <th>Sandyford (D16)</th>\n",
       "      <td>1</td>\n",
       "    </tr>\n",
       "    <tr>\n",
       "      <th>East Elmhurst</th>\n",
       "      <td>1</td>\n",
       "    </tr>\n",
       "    <tr>\n",
       "      <th>Tottenham Hale</th>\n",
       "      <td>1</td>\n",
       "    </tr>\n",
       "    <tr>\n",
       "      <th>Tortoreto</th>\n",
       "      <td>1</td>\n",
       "    </tr>\n",
       "    <tr>\n",
       "      <th>Abbey Street</th>\n",
       "      <td>1</td>\n",
       "    </tr>\n",
       "  </tbody>\n",
       "</table>\n",
       "<p>3834 rows × 1 columns</p>\n",
       "</div>"
      ],
      "text/plain": [
       "                 restaurant_count\n",
       "location                         \n",
       "Downtown                     2599\n",
       "Sooke                        1211\n",
       "Detroit                      1135\n",
       "Richmond                      895\n",
       "Milwaukee                     687\n",
       "...                           ...\n",
       "Sandyford (D16)                 1\n",
       "East Elmhurst                   1\n",
       "Tottenham Hale                  1\n",
       "Tortoreto                       1\n",
       "Abbey Street                    1\n",
       "\n",
       "[3834 rows x 1 columns]"
      ]
     },
     "execution_count": 15,
     "metadata": {},
     "output_type": "execute_result"
    }
   ],
   "source": [
    "grouped_location_size.sort_values('restaurant_count', ascending = False)"
   ]
  },
  {
   "cell_type": "markdown",
   "metadata": {},
   "source": [
    "## Grouped by cost"
   ]
  },
  {
   "cell_type": "code",
   "execution_count": 16,
   "metadata": {},
   "outputs": [],
   "source": [
    "grouped_cost_size = pd.DataFrame(ot.groupby('cost').size(),columns = ['restaurant_count'])"
   ]
  },
  {
   "cell_type": "code",
   "execution_count": 17,
   "metadata": {
    "scrolled": true
   },
   "outputs": [
    {
     "data": {
      "text/html": [
       "<div>\n",
       "<style scoped>\n",
       "    .dataframe tbody tr th:only-of-type {\n",
       "        vertical-align: middle;\n",
       "    }\n",
       "\n",
       "    .dataframe tbody tr th {\n",
       "        vertical-align: top;\n",
       "    }\n",
       "\n",
       "    .dataframe thead th {\n",
       "        text-align: right;\n",
       "    }\n",
       "</style>\n",
       "<table border=\"1\" class=\"dataframe\">\n",
       "  <thead>\n",
       "    <tr style=\"text-align: right;\">\n",
       "      <th></th>\n",
       "      <th>restaurant_count</th>\n",
       "    </tr>\n",
       "    <tr>\n",
       "      <th>cost</th>\n",
       "      <th></th>\n",
       "    </tr>\n",
       "  </thead>\n",
       "  <tbody>\n",
       "    <tr>\n",
       "      <th>2</th>\n",
       "      <td>138848</td>\n",
       "    </tr>\n",
       "    <tr>\n",
       "      <th>3</th>\n",
       "      <td>19773</td>\n",
       "    </tr>\n",
       "    <tr>\n",
       "      <th>4</th>\n",
       "      <td>5192</td>\n",
       "    </tr>\n",
       "  </tbody>\n",
       "</table>\n",
       "</div>"
      ],
      "text/plain": [
       "      restaurant_count\n",
       "cost                  \n",
       "2               138848\n",
       "3                19773\n",
       "4                 5192"
      ]
     },
     "execution_count": 17,
     "metadata": {},
     "output_type": "execute_result"
    }
   ],
   "source": [
    "grouped_cost_size"
   ]
  },
  {
   "cell_type": "code",
   "execution_count": 18,
   "metadata": {},
   "outputs": [],
   "source": [
    "grouped_cost = ot.groupby('cost')"
   ]
  },
  {
   "cell_type": "code",
   "execution_count": 19,
   "metadata": {
    "scrolled": false
   },
   "outputs": [
    {
     "data": {
      "text/html": [
       "<div>\n",
       "<style scoped>\n",
       "    .dataframe tbody tr th:only-of-type {\n",
       "        vertical-align: middle;\n",
       "    }\n",
       "\n",
       "    .dataframe tbody tr th {\n",
       "        vertical-align: top;\n",
       "    }\n",
       "\n",
       "    .dataframe thead tr th {\n",
       "        text-align: left;\n",
       "    }\n",
       "\n",
       "    .dataframe thead tr:last-of-type th {\n",
       "        text-align: right;\n",
       "    }\n",
       "</style>\n",
       "<table border=\"1\" class=\"dataframe\">\n",
       "  <thead>\n",
       "    <tr>\n",
       "      <th></th>\n",
       "      <th colspan=\"3\" halign=\"left\">rating</th>\n",
       "      <th colspan=\"3\" halign=\"left\">review_count</th>\n",
       "      <th colspan=\"3\" halign=\"left\">promoted</th>\n",
       "    </tr>\n",
       "    <tr>\n",
       "      <th></th>\n",
       "      <th>mean</th>\n",
       "      <th>sum</th>\n",
       "      <th>count</th>\n",
       "      <th>mean</th>\n",
       "      <th>sum</th>\n",
       "      <th>count</th>\n",
       "      <th>mean</th>\n",
       "      <th>sum</th>\n",
       "      <th>count</th>\n",
       "    </tr>\n",
       "    <tr>\n",
       "      <th>cost</th>\n",
       "      <th></th>\n",
       "      <th></th>\n",
       "      <th></th>\n",
       "      <th></th>\n",
       "      <th></th>\n",
       "      <th></th>\n",
       "      <th></th>\n",
       "      <th></th>\n",
       "      <th></th>\n",
       "    </tr>\n",
       "  </thead>\n",
       "  <tbody>\n",
       "    <tr>\n",
       "      <th>2</th>\n",
       "      <td>62.549174</td>\n",
       "      <td>1783965.0</td>\n",
       "      <td>28521</td>\n",
       "      <td>276.190784</td>\n",
       "      <td>8109790.0</td>\n",
       "      <td>29363</td>\n",
       "      <td>0.001469</td>\n",
       "      <td>204.0</td>\n",
       "      <td>138848</td>\n",
       "    </tr>\n",
       "    <tr>\n",
       "      <th>3</th>\n",
       "      <td>68.794039</td>\n",
       "      <td>722475.0</td>\n",
       "      <td>10502</td>\n",
       "      <td>681.710338</td>\n",
       "      <td>7253398.0</td>\n",
       "      <td>10640</td>\n",
       "      <td>0.009356</td>\n",
       "      <td>185.0</td>\n",
       "      <td>19773</td>\n",
       "    </tr>\n",
       "    <tr>\n",
       "      <th>4</th>\n",
       "      <td>74.774570</td>\n",
       "      <td>230530.0</td>\n",
       "      <td>3083</td>\n",
       "      <td>840.726981</td>\n",
       "      <td>2620546.0</td>\n",
       "      <td>3117</td>\n",
       "      <td>0.014253</td>\n",
       "      <td>74.0</td>\n",
       "      <td>5192</td>\n",
       "    </tr>\n",
       "  </tbody>\n",
       "</table>\n",
       "</div>"
      ],
      "text/plain": [
       "         rating                   review_count                    promoted  \\\n",
       "           mean        sum  count         mean        sum  count      mean   \n",
       "cost                                                                         \n",
       "2     62.549174  1783965.0  28521   276.190784  8109790.0  29363  0.001469   \n",
       "3     68.794039   722475.0  10502   681.710338  7253398.0  10640  0.009356   \n",
       "4     74.774570   230530.0   3083   840.726981  2620546.0   3117  0.014253   \n",
       "\n",
       "                     \n",
       "        sum   count  \n",
       "cost                 \n",
       "2     204.0  138848  \n",
       "3     185.0   19773  \n",
       "4      74.0    5192  "
      ]
     },
     "execution_count": 19,
     "metadata": {},
     "output_type": "execute_result"
    }
   ],
   "source": [
    "grouped_cost.agg(['mean','sum','count'])"
   ]
  },
  {
   "cell_type": "code",
   "execution_count": 20,
   "metadata": {},
   "outputs": [
    {
     "data": {
      "text/html": [
       "<div>\n",
       "<style scoped>\n",
       "    .dataframe tbody tr th:only-of-type {\n",
       "        vertical-align: middle;\n",
       "    }\n",
       "\n",
       "    .dataframe tbody tr th {\n",
       "        vertical-align: top;\n",
       "    }\n",
       "\n",
       "    .dataframe thead th {\n",
       "        text-align: right;\n",
       "    }\n",
       "</style>\n",
       "<table border=\"1\" class=\"dataframe\">\n",
       "  <thead>\n",
       "    <tr style=\"text-align: right;\">\n",
       "      <th></th>\n",
       "      <th>rating</th>\n",
       "      <th>review_count</th>\n",
       "      <th>promoted</th>\n",
       "    </tr>\n",
       "    <tr>\n",
       "      <th>cost</th>\n",
       "      <th></th>\n",
       "      <th></th>\n",
       "      <th></th>\n",
       "    </tr>\n",
       "  </thead>\n",
       "  <tbody>\n",
       "    <tr>\n",
       "      <th>2</th>\n",
       "      <td>62.549174</td>\n",
       "      <td>276.190784</td>\n",
       "      <td>0.001469</td>\n",
       "    </tr>\n",
       "    <tr>\n",
       "      <th>3</th>\n",
       "      <td>68.794039</td>\n",
       "      <td>681.710338</td>\n",
       "      <td>0.009356</td>\n",
       "    </tr>\n",
       "    <tr>\n",
       "      <th>4</th>\n",
       "      <td>74.774570</td>\n",
       "      <td>840.726981</td>\n",
       "      <td>0.014253</td>\n",
       "    </tr>\n",
       "  </tbody>\n",
       "</table>\n",
       "</div>"
      ],
      "text/plain": [
       "         rating  review_count  promoted\n",
       "cost                                   \n",
       "2     62.549174    276.190784  0.001469\n",
       "3     68.794039    681.710338  0.009356\n",
       "4     74.774570    840.726981  0.014253"
      ]
     },
     "execution_count": 20,
     "metadata": {},
     "output_type": "execute_result"
    }
   ],
   "source": [
    "grouped_cost.mean()"
   ]
  },
  {
   "cell_type": "code",
   "execution_count": 21,
   "metadata": {
    "scrolled": false
   },
   "outputs": [
    {
     "data": {
      "text/plain": [
       "cost\n",
       "2    62.549174\n",
       "3    68.794039\n",
       "4    74.774570\n",
       "Name: rating, dtype: float64"
      ]
     },
     "execution_count": 21,
     "metadata": {},
     "output_type": "execute_result"
    }
   ],
   "source": [
    "grouped_cost.rating.mean()"
   ]
  },
  {
   "cell_type": "code",
   "execution_count": 22,
   "metadata": {},
   "outputs": [
    {
     "data": {
      "image/png": "[encoded data removed]",
      "text/plain": [
       "<Figure size 432x288 with 1 Axes>"
      ]
     },
     "metadata": {
      "needs_background": "light"
     },
     "output_type": "display_data"
    },
    {
     "data": {
      "text/plain": [
       "<Figure size 720x720 with 0 Axes>"
      ]
     },
     "metadata": {},
     "output_type": "display_data"
    }
   ],
   "source": [
    "grouped_cost.review_count.mean().plot.bar(color = 'midnightblue')\n",
    "plt.xticks([0,1,2],labels= ['under \\$30','\\$31 through \\$50','\\$50 and above'],rotation = 0)\n",
    "plt.title('Average Review count based on price',fontsize = 15)\n",
    "plt.xlabel('Cost',fontsize = 15)\n",
    "plt.ylabel('Average Number of Reviews',fontsize = 15)\n",
    "plt.figure(figsize = (10,10))\n",
    "plt.show()"
   ]
  },
  {
   "cell_type": "code",
   "execution_count": 23,
   "metadata": {},
   "outputs": [
    {
     "data": {
      "text/plain": [
       "<matplotlib.axes._subplots.AxesSubplot at 0x23f677f2d68>"
      ]
     },
     "execution_count": 23,
     "metadata": {},
     "output_type": "execute_result"
    },
    {
     "data": {
      "image/png": "[encoded data removed]",
      "text/plain": [
       "<Figure size 432x288 with 1 Axes>"
      ]
     },
     "metadata": {
      "needs_background": "light"
     },
     "output_type": "display_data"
    }
   ],
   "source": [
    "grouped_cost.rating.mean().plot.bar()"
   ]
  },
  {
   "cell_type": "code",
   "execution_count": 24,
   "metadata": {},
   "outputs": [
    {
     "ename": "SyntaxError",
     "evalue": "invalid syntax (<ipython-input-24-2736e9e66761>, line 1)",
     "output_type": "error",
     "traceback": [
      "\u001b[1;36m  File \u001b[1;32m\"<ipython-input-24-2736e9e66761>\"\u001b[1;36m, line \u001b[1;32m1\u001b[0m\n\u001b[1;33m    plt.bar(x = grouped_cost.rating.mean(), height = )\u001b[0m\n\u001b[1;37m                                                     ^\u001b[0m\n\u001b[1;31mSyntaxError\u001b[0m\u001b[1;31m:\u001b[0m invalid syntax\n"
     ]
    }
   ],
   "source": [
    "plt.bar(x = grouped_cost.rating.mean(), height = )"
   ]
  },
  {
   "cell_type": "markdown",
   "metadata": {},
   "source": [
    "## Group by promoted"
   ]
  },
  {
   "cell_type": "code",
   "execution_count": 25,
   "metadata": {},
   "outputs": [],
   "source": [
    "grouped_promoted_size = pd.DataFrame(ot.groupby('promoted').size(),columns = ['restaurant_count'])"
   ]
  },
  {
   "cell_type": "code",
   "execution_count": 26,
   "metadata": {},
   "outputs": [
    {
     "data": {
      "text/html": [
       "<div>\n",
       "<style scoped>\n",
       "    .dataframe tbody tr th:only-of-type {\n",
       "        vertical-align: middle;\n",
       "    }\n",
       "\n",
       "    .dataframe tbody tr th {\n",
       "        vertical-align: top;\n",
       "    }\n",
       "\n",
       "    .dataframe thead th {\n",
       "        text-align: right;\n",
       "    }\n",
       "</style>\n",
       "<table border=\"1\" class=\"dataframe\">\n",
       "  <thead>\n",
       "    <tr style=\"text-align: right;\">\n",
       "      <th></th>\n",
       "      <th>restaurant_count</th>\n",
       "    </tr>\n",
       "    <tr>\n",
       "      <th>promoted</th>\n",
       "      <th></th>\n",
       "    </tr>\n",
       "  </thead>\n",
       "  <tbody>\n",
       "    <tr>\n",
       "      <th>False</th>\n",
       "      <td>163350</td>\n",
       "    </tr>\n",
       "    <tr>\n",
       "      <th>True</th>\n",
       "      <td>463</td>\n",
       "    </tr>\n",
       "  </tbody>\n",
       "</table>\n",
       "</div>"
      ],
      "text/plain": [
       "          restaurant_count\n",
       "promoted                  \n",
       "False               163350\n",
       "True                   463"
      ]
     },
     "execution_count": 26,
     "metadata": {},
     "output_type": "execute_result"
    }
   ],
   "source": [
    "grouped_promoted_size"
   ]
  },
  {
   "cell_type": "code",
   "execution_count": 27,
   "metadata": {
    "scrolled": true
   },
   "outputs": [
    {
     "data": {
      "text/html": [
       "<div>\n",
       "<style scoped>\n",
       "    .dataframe tbody tr th:only-of-type {\n",
       "        vertical-align: middle;\n",
       "    }\n",
       "\n",
       "    .dataframe tbody tr th {\n",
       "        vertical-align: top;\n",
       "    }\n",
       "\n",
       "    .dataframe thead th {\n",
       "        text-align: right;\n",
       "    }\n",
       "</style>\n",
       "<table border=\"1\" class=\"dataframe\">\n",
       "  <thead>\n",
       "    <tr style=\"text-align: right;\">\n",
       "      <th></th>\n",
       "      <th>cost</th>\n",
       "      <th>rating</th>\n",
       "      <th>review_count</th>\n",
       "    </tr>\n",
       "    <tr>\n",
       "      <th>promoted</th>\n",
       "      <th></th>\n",
       "      <th></th>\n",
       "      <th></th>\n",
       "    </tr>\n",
       "  </thead>\n",
       "  <tbody>\n",
       "    <tr>\n",
       "      <th>False</th>\n",
       "      <td>2.182577</td>\n",
       "      <td>64.951138</td>\n",
       "      <td>413.423796</td>\n",
       "    </tr>\n",
       "    <tr>\n",
       "      <th>True</th>\n",
       "      <td>2.719222</td>\n",
       "      <td>69.617904</td>\n",
       "      <td>756.000000</td>\n",
       "    </tr>\n",
       "  </tbody>\n",
       "</table>\n",
       "</div>"
      ],
      "text/plain": [
       "              cost     rating  review_count\n",
       "promoted                                   \n",
       "False     2.182577  64.951138    413.423796\n",
       "True      2.719222  69.617904    756.000000"
      ]
     },
     "execution_count": 27,
     "metadata": {},
     "output_type": "execute_result"
    }
   ],
   "source": [
    "promoted_grouped = ot.groupby('promoted')\n",
    "promoted_grouped.mean()"
   ]
  },
  {
   "cell_type": "code",
   "execution_count": 28,
   "metadata": {
    "scrolled": true
   },
   "outputs": [
    {
     "name": "stdout",
     "output_type": "stream",
     "text": [
      "False\n",
      "----------------------------------------------------------------------\n",
      "                             area                location  \\\n",
      "0               Atlanta / Georgia  Airport / College Park   \n",
      "1               Atlanta / Georgia                 Augusta   \n",
      "2               Atlanta / Georgia                 Lilburn   \n",
      "3               Atlanta / Georgia                  Smyrna   \n",
      "4               Atlanta / Georgia                Buckhead   \n",
      "...                           ...                     ...   \n",
      "163808  Miami / Southeast Florida               Hollywood   \n",
      "163809  Miami / Southeast Florida        Hallandale Beach   \n",
      "163810  Miami / Southeast Florida        Hallandale Beach   \n",
      "163811  Miami / Southeast Florida               Hollywood   \n",
      "163812  Miami / Southeast Florida          Pembroke Pines   \n",
      "\n",
      "                                          name        cuisine  cost  rating  \\\n",
      "0                       Spice House on Cascade      Caribbean     2     NaN   \n",
      "1                     TBonz Steakhouse-Augusta        Italian     3     NaN   \n",
      "2                  Royal Restaurant and Sweets  Mediterranean     3     NaN   \n",
      "3                               Bollywood Zing        Italian     3     NaN   \n",
      "4                              Sushi Bar Yu-Ka     Steakhouse     3     NaN   \n",
      "...                                        ...            ...   ...     ...   \n",
      "163808                       Pho Vi Vietnamese           Café     2     NaN   \n",
      "163809   Chez Nous American Haitian Restaurant         French     2     NaN   \n",
      "163810                              Don Lolo's       American     2     NaN   \n",
      "163811  Triumphant Restaurant And Banquet Hall       American     2     NaN   \n",
      "163812                     Vybestar Restaurant       American     2     NaN   \n",
      "\n",
      "        review_count  promoted location_on_page  \n",
      "0                NaN     False          [61, 0]  \n",
      "1                1.0     False          [61, 1]  \n",
      "2                NaN     False          [61, 2]  \n",
      "3                NaN     False          [61, 3]  \n",
      "4                NaN     False          [61, 4]  \n",
      "...              ...       ...              ...  \n",
      "163808           NaN     False          [1, 95]  \n",
      "163809           NaN     False          [1, 96]  \n",
      "163810           NaN     False          [1, 97]  \n",
      "163811           NaN     False          [1, 98]  \n",
      "163812           NaN     False          [1, 99]  \n",
      "\n",
      "[163350 rows x 9 columns]\n",
      "\n",
      "\n",
      "True\n",
      "----------------------------------------------------------------------\n",
      "                             area            location  \\\n",
      "23                    Mexico City             Tlalpan   \n",
      "123                   Mexico City  Santa Fe / Bosques   \n",
      "126                   Mexico City  Santa Fe / Bosques   \n",
      "3402                       Dublin           Monkstown   \n",
      "3502                       Dublin         Ballsbridge   \n",
      "...                           ...                 ...   \n",
      "162816  Miami / Southeast Florida         Bal Harbour   \n",
      "162819  Miami / Southeast Florida     Fort Lauderdale   \n",
      "163313  Miami / Southeast Florida          Plantation   \n",
      "163315  Miami / Southeast Florida     Fort Lauderdale   \n",
      "163321  Miami / Southeast Florida   Sunny Isles Beach   \n",
      "\n",
      "                                             name        cuisine  cost  \\\n",
      "23                         La Taberna del Vikingo      Fine cuts     3   \n",
      "123                 Angus Butcher House- Santa Fe      Fine cuts     4   \n",
      "126                       Urban Spices - Santa Fe          Asian     2   \n",
      "3402                                      Lobstar        Seafood     2   \n",
      "3502          The Lobby Lounge & The Reading Room  Afternoon Tea     3   \n",
      "...                                           ...            ...   ...   \n",
      "162816                             The Palm Miami     Steakhouse     4   \n",
      "162819                          The Terrace Grill       American     3   \n",
      "163313  Kiko Japanese, Thai Restaurant & Sake Bar          Asian     2   \n",
      "163315                                  Rivertail        Seafood     2   \n",
      "163321                                Kitchen 305       American     3   \n",
      "\n",
      "        rating  review_count  promoted location_on_page  \n",
      "23        85.0           5.0      True           [9, 0]  \n",
      "123       55.0           6.0      True           [8, 0]  \n",
      "126        NaN           NaN      True           [8, 3]  \n",
      "3402      85.0         435.0      True           [4, 0]  \n",
      "3502      65.0           9.0      True           [3, 0]  \n",
      "...        ...           ...       ...              ...  \n",
      "162816    80.0        1776.0      True          [10, 3]  \n",
      "162819    60.0         162.0      True          [10, 6]  \n",
      "163313    75.0         130.0      True           [5, 0]  \n",
      "163315    40.0          34.0      True           [5, 2]  \n",
      "163321    55.0        1099.0      True           [5, 8]  \n",
      "\n",
      "[463 rows x 9 columns]\n",
      "\n",
      "\n"
     ]
    }
   ],
   "source": [
    "for key, values in promoted_grouped:\n",
    "    print(key) #this indicates the grouping\n",
    "    print('-'*70)\n",
    "    print(values) #this is a dataframe for that \n",
    "    print('\\n')"
   ]
  },
  {
   "cell_type": "code",
   "execution_count": 29,
   "metadata": {},
   "outputs": [
    {
     "data": {
      "text/plain": [
       "{False: Int64Index([     0,      1,      2,      3,      4,      5,      6,      7,\n",
       "                  8,      9,\n",
       "             ...\n",
       "             163803, 163804, 163805, 163806, 163807, 163808, 163809, 163810,\n",
       "             163811, 163812],\n",
       "            dtype='int64', length=163350),\n",
       " True: Int64Index([    23,    123,    126,   3402,   3502,   3505,   3702,   3704,\n",
       "               6102,   6104,\n",
       "             ...\n",
       "             158522, 158613, 158615, 158619, 162813, 162816, 162819, 163313,\n",
       "             163315, 163321],\n",
       "            dtype='int64', length=463)}"
      ]
     },
     "execution_count": 29,
     "metadata": {},
     "output_type": "execute_result"
    }
   ],
   "source": [
    "promoted_grouped.groups"
   ]
  },
  {
   "cell_type": "code",
   "execution_count": 30,
   "metadata": {},
   "outputs": [
    {
     "ename": "AttributeError",
     "evalue": "Cannot access callable attribute 'loc' of 'DataFrameGroupBy' objects, try using the 'apply' method",
     "output_type": "error",
     "traceback": [
      "\u001b[1;31m---------------------------------------------------------------------------\u001b[0m",
      "\u001b[1;31mAttributeError\u001b[0m                            Traceback (most recent call last)",
      "\u001b[1;32m<ipython-input-30-18edcb5b568d>\u001b[0m in \u001b[0;36m<module>\u001b[1;34m\u001b[0m\n\u001b[0;32m      1\u001b[0m \u001b[0midx\u001b[0m \u001b[1;33m=\u001b[0m \u001b[0mpd\u001b[0m\u001b[1;33m.\u001b[0m\u001b[0mIndexSlice\u001b[0m\u001b[1;33m\u001b[0m\u001b[1;33m\u001b[0m\u001b[0m\n\u001b[1;32m----> 2\u001b[1;33m \u001b[0mpromoted_grouped\u001b[0m\u001b[1;33m.\u001b[0m\u001b[0mloc\u001b[0m\u001b[1;33m[\u001b[0m\u001b[0midx\u001b[0m\u001b[1;33m[\u001b[0m\u001b[1;34m'True'\u001b[0m\u001b[1;33m]\u001b[0m\u001b[1;33m,\u001b[0m \u001b[1;33m:\u001b[0m\u001b[1;33m]\u001b[0m\u001b[1;33m\u001b[0m\u001b[1;33m\u001b[0m\u001b[0m\n\u001b[0m",
      "\u001b[1;32m~\\Downloads\\Anaconda\\lib\\site-packages\\pandas\\core\\groupby\\groupby.py\u001b[0m in \u001b[0;36m__getattr__\u001b[1;34m(self, attr)\u001b[0m\n\u001b[0;32m    561\u001b[0m             \u001b[1;32mreturn\u001b[0m \u001b[0mself\u001b[0m\u001b[1;33m[\u001b[0m\u001b[0mattr\u001b[0m\u001b[1;33m]\u001b[0m\u001b[1;33m\u001b[0m\u001b[1;33m\u001b[0m\u001b[0m\n\u001b[0;32m    562\u001b[0m         \u001b[1;32mif\u001b[0m \u001b[0mhasattr\u001b[0m\u001b[1;33m(\u001b[0m\u001b[0mself\u001b[0m\u001b[1;33m.\u001b[0m\u001b[0mobj\u001b[0m\u001b[1;33m,\u001b[0m \u001b[0mattr\u001b[0m\u001b[1;33m)\u001b[0m\u001b[1;33m:\u001b[0m\u001b[1;33m\u001b[0m\u001b[1;33m\u001b[0m\u001b[0m\n\u001b[1;32m--> 563\u001b[1;33m             \u001b[1;32mreturn\u001b[0m \u001b[0mself\u001b[0m\u001b[1;33m.\u001b[0m\u001b[0m_make_wrapper\u001b[0m\u001b[1;33m(\u001b[0m\u001b[0mattr\u001b[0m\u001b[1;33m)\u001b[0m\u001b[1;33m\u001b[0m\u001b[1;33m\u001b[0m\u001b[0m\n\u001b[0m\u001b[0;32m    564\u001b[0m \u001b[1;33m\u001b[0m\u001b[0m\n\u001b[0;32m    565\u001b[0m         raise AttributeError(\n",
      "\u001b[1;32m~\\Downloads\\Anaconda\\lib\\site-packages\\pandas\\core\\groupby\\groupby.py\u001b[0m in \u001b[0;36m_make_wrapper\u001b[1;34m(self, name)\u001b[0m\n\u001b[0;32m    602\u001b[0m                 \u001b[1;34m\"using the 'apply' method\"\u001b[0m\u001b[1;33m.\u001b[0m\u001b[0mformat\u001b[0m\u001b[1;33m(\u001b[0m\u001b[0mkind\u001b[0m\u001b[1;33m,\u001b[0m \u001b[0mname\u001b[0m\u001b[1;33m,\u001b[0m \u001b[0mtype\u001b[0m\u001b[1;33m(\u001b[0m\u001b[0mself\u001b[0m\u001b[1;33m)\u001b[0m\u001b[1;33m.\u001b[0m\u001b[0m__name__\u001b[0m\u001b[1;33m)\u001b[0m\u001b[1;33m\u001b[0m\u001b[1;33m\u001b[0m\u001b[0m\n\u001b[0;32m    603\u001b[0m             )\n\u001b[1;32m--> 604\u001b[1;33m             \u001b[1;32mraise\u001b[0m \u001b[0mAttributeError\u001b[0m\u001b[1;33m(\u001b[0m\u001b[0mmsg\u001b[0m\u001b[1;33m)\u001b[0m\u001b[1;33m\u001b[0m\u001b[1;33m\u001b[0m\u001b[0m\n\u001b[0m\u001b[0;32m    605\u001b[0m \u001b[1;33m\u001b[0m\u001b[0m\n\u001b[0;32m    606\u001b[0m         \u001b[0mself\u001b[0m\u001b[1;33m.\u001b[0m\u001b[0m_set_group_selection\u001b[0m\u001b[1;33m(\u001b[0m\u001b[1;33m)\u001b[0m\u001b[1;33m\u001b[0m\u001b[1;33m\u001b[0m\u001b[0m\n",
      "\u001b[1;31mAttributeError\u001b[0m: Cannot access callable attribute 'loc' of 'DataFrameGroupBy' objects, try using the 'apply' method"
     ]
    }
   ],
   "source": [
    "idx = pd.IndexSlice\n",
    "promoted_grouped.loc[idx['True'], :]"
   ]
  },
  {
   "cell_type": "code",
   "execution_count": 31,
   "metadata": {
    "scrolled": true
   },
   "outputs": [
    {
     "ename": "NameError",
     "evalue": "name 'grouped_promoted' is not defined",
     "output_type": "error",
     "traceback": [
      "\u001b[1;31m---------------------------------------------------------------------------\u001b[0m",
      "\u001b[1;31mNameError\u001b[0m                                 Traceback (most recent call last)",
      "\u001b[1;32m<ipython-input-31-e267c8d6b082>\u001b[0m in \u001b[0;36m<module>\u001b[1;34m\u001b[0m\n\u001b[1;32m----> 1\u001b[1;33m \u001b[0mpromoted_avg\u001b[0m \u001b[1;33m=\u001b[0m \u001b[0mgrouped_promoted\u001b[0m\u001b[1;33m.\u001b[0m\u001b[0mmean\u001b[0m\u001b[1;33m(\u001b[0m\u001b[1;33m)\u001b[0m\u001b[1;33m\u001b[0m\u001b[1;33m\u001b[0m\u001b[0m\n\u001b[0m\u001b[0;32m      2\u001b[0m \u001b[0mpromoted_avg\u001b[0m\u001b[1;33m\u001b[0m\u001b[1;33m\u001b[0m\u001b[0m\n",
      "\u001b[1;31mNameError\u001b[0m: name 'grouped_promoted' is not defined"
     ]
    }
   ],
   "source": [
    "promoted_avg = grouped_promoted.mean()\n",
    "promoted_avg"
   ]
  },
  {
   "cell_type": "code",
   "execution_count": 32,
   "metadata": {},
   "outputs": [
    {
     "ename": "SyntaxError",
     "evalue": "invalid syntax (<ipython-input-32-c2adbdb5efc0>, line 1)",
     "output_type": "error",
     "traceback": [
      "\u001b[1;36m  File \u001b[1;32m\"<ipython-input-32-c2adbdb5efc0>\"\u001b[1;36m, line \u001b[1;32m1\u001b[0m\n\u001b[1;33m    promoted_avg.plot.bar(x= ,y = 'cost', rot=0)\u001b[0m\n\u001b[1;37m                             ^\u001b[0m\n\u001b[1;31mSyntaxError\u001b[0m\u001b[1;31m:\u001b[0m invalid syntax\n"
     ]
    }
   ],
   "source": [
    "promoted_avg.plot.bar(x= ,y = 'cost', rot=0)"
   ]
  },
  {
   "cell_type": "markdown",
   "metadata": {},
   "source": [
    "## Group by area and then location"
   ]
  },
  {
   "cell_type": "code",
   "execution_count": 33,
   "metadata": {},
   "outputs": [],
   "source": [
    "grouped_area_location = ot.groupby(['area','location'])"
   ]
  },
  {
   "cell_type": "code",
   "execution_count": 34,
   "metadata": {
    "scrolled": true
   },
   "outputs": [
    {
     "data": {
      "text/html": [
       "<div>\n",
       "<style scoped>\n",
       "    .dataframe tbody tr th:only-of-type {\n",
       "        vertical-align: middle;\n",
       "    }\n",
       "\n",
       "    .dataframe tbody tr th {\n",
       "        vertical-align: top;\n",
       "    }\n",
       "\n",
       "    .dataframe thead th {\n",
       "        text-align: right;\n",
       "    }\n",
       "</style>\n",
       "<table border=\"1\" class=\"dataframe\">\n",
       "  <thead>\n",
       "    <tr style=\"text-align: right;\">\n",
       "      <th></th>\n",
       "      <th></th>\n",
       "      <th>cost</th>\n",
       "      <th>rating</th>\n",
       "      <th>review_count</th>\n",
       "      <th>promoted</th>\n",
       "    </tr>\n",
       "    <tr>\n",
       "      <th>area</th>\n",
       "      <th>location</th>\n",
       "      <th></th>\n",
       "      <th></th>\n",
       "      <th></th>\n",
       "      <th></th>\n",
       "    </tr>\n",
       "  </thead>\n",
       "  <tbody>\n",
       "    <tr>\n",
       "      <th rowspan=\"5\" valign=\"top\">Atlanta / Georgia</th>\n",
       "      <th>Acworth</th>\n",
       "      <td>2.046296</td>\n",
       "      <td>87.500000</td>\n",
       "      <td>567.000000</td>\n",
       "      <td>0.0</td>\n",
       "    </tr>\n",
       "    <tr>\n",
       "      <th>Airport / College Park</th>\n",
       "      <td>2.088235</td>\n",
       "      <td>56.875000</td>\n",
       "      <td>216.812500</td>\n",
       "      <td>0.0</td>\n",
       "    </tr>\n",
       "    <tr>\n",
       "      <th>Alpharetta</th>\n",
       "      <td>2.191781</td>\n",
       "      <td>62.647059</td>\n",
       "      <td>717.269231</td>\n",
       "      <td>0.0</td>\n",
       "    </tr>\n",
       "    <tr>\n",
       "      <th>Athens</th>\n",
       "      <td>2.217391</td>\n",
       "      <td>56.666667</td>\n",
       "      <td>1.000000</td>\n",
       "      <td>0.0</td>\n",
       "    </tr>\n",
       "    <tr>\n",
       "      <th>Augusta</th>\n",
       "      <td>2.074830</td>\n",
       "      <td>69.400000</td>\n",
       "      <td>333.666667</td>\n",
       "      <td>0.0</td>\n",
       "    </tr>\n",
       "    <tr>\n",
       "      <th>...</th>\n",
       "      <th>...</th>\n",
       "      <td>...</td>\n",
       "      <td>...</td>\n",
       "      <td>...</td>\n",
       "      <td>...</td>\n",
       "    </tr>\n",
       "    <tr>\n",
       "      <th rowspan=\"5\" valign=\"top\">Yorkshire</th>\n",
       "      <th>Wetherby</th>\n",
       "      <td>2.000000</td>\n",
       "      <td>70.000000</td>\n",
       "      <td>12.000000</td>\n",
       "      <td>0.0</td>\n",
       "    </tr>\n",
       "    <tr>\n",
       "      <th>Whitby</th>\n",
       "      <td>2.384615</td>\n",
       "      <td>68.636364</td>\n",
       "      <td>186.545455</td>\n",
       "      <td>0.0</td>\n",
       "    </tr>\n",
       "    <tr>\n",
       "      <th>Woodlesford</th>\n",
       "      <td>4.000000</td>\n",
       "      <td>30.000000</td>\n",
       "      <td>6.000000</td>\n",
       "      <td>0.0</td>\n",
       "    </tr>\n",
       "    <tr>\n",
       "      <th>Yarm</th>\n",
       "      <td>2.090909</td>\n",
       "      <td>70.454545</td>\n",
       "      <td>177.181818</td>\n",
       "      <td>0.0</td>\n",
       "    </tr>\n",
       "    <tr>\n",
       "      <th>York</th>\n",
       "      <td>2.179688</td>\n",
       "      <td>58.221154</td>\n",
       "      <td>142.279279</td>\n",
       "      <td>0.0</td>\n",
       "    </tr>\n",
       "  </tbody>\n",
       "</table>\n",
       "<p>4095 rows × 4 columns</p>\n",
       "</div>"
      ],
      "text/plain": [
       "                                              cost     rating  review_count  \\\n",
       "area              location                                                    \n",
       "Atlanta / Georgia Acworth                 2.046296  87.500000    567.000000   \n",
       "                  Airport / College Park  2.088235  56.875000    216.812500   \n",
       "                  Alpharetta              2.191781  62.647059    717.269231   \n",
       "                  Athens                  2.217391  56.666667      1.000000   \n",
       "                  Augusta                 2.074830  69.400000    333.666667   \n",
       "...                                            ...        ...           ...   \n",
       "Yorkshire         Wetherby                2.000000  70.000000     12.000000   \n",
       "                  Whitby                  2.384615  68.636364    186.545455   \n",
       "                  Woodlesford             4.000000  30.000000      6.000000   \n",
       "                  Yarm                    2.090909  70.454545    177.181818   \n",
       "                  York                    2.179688  58.221154    142.279279   \n",
       "\n",
       "                                          promoted  \n",
       "area              location                          \n",
       "Atlanta / Georgia Acworth                      0.0  \n",
       "                  Airport / College Park       0.0  \n",
       "                  Alpharetta                   0.0  \n",
       "                  Athens                       0.0  \n",
       "                  Augusta                      0.0  \n",
       "...                                            ...  \n",
       "Yorkshire         Wetherby                     0.0  \n",
       "                  Whitby                       0.0  \n",
       "                  Woodlesford                  0.0  \n",
       "                  Yarm                         0.0  \n",
       "                  York                         0.0  \n",
       "\n",
       "[4095 rows x 4 columns]"
      ]
     },
     "execution_count": 34,
     "metadata": {},
     "output_type": "execute_result"
    }
   ],
   "source": [
    "grouped_area_location.mean()"
   ]
  },
  {
   "cell_type": "markdown",
   "metadata": {},
   "source": [
    "## group by cuisine"
   ]
  },
  {
   "cell_type": "code",
   "execution_count": 35,
   "metadata": {},
   "outputs": [],
   "source": [
    "grouped_cuisine = ot.groupby('cuisine')"
   ]
  },
  {
   "cell_type": "code",
   "execution_count": 36,
   "metadata": {},
   "outputs": [],
   "source": [
    "grouped_cuisine_size = pd.DataFrame(ot.groupby('cuisine').size(),columns = ['restaurant_count']) > 50"
   ]
  },
  {
   "cell_type": "code",
   "execution_count": 37,
   "metadata": {},
   "outputs": [
    {
     "data": {
      "text/plain": [
       "cuisine\n",
       "Afghan           False\n",
       "African           True\n",
       "Afternoon Tea     True\n",
       "American          True\n",
       "Argentinean       True\n",
       "                 ...  \n",
       "Wine Bar          True\n",
       "Winery           False\n",
       "Yakiniku          True\n",
       "Yakitori         False\n",
       "Yoshoku          False\n",
       "Name: restaurant_count, Length: 237, dtype: bool"
      ]
     },
     "execution_count": 37,
     "metadata": {},
     "output_type": "execute_result"
    }
   ],
   "source": [
    "grouped_cuisine_size['restaurant_count']"
   ]
  },
  {
   "cell_type": "code",
   "execution_count": 38,
   "metadata": {
    "scrolled": true
   },
   "outputs": [],
   "source": [
    "cuisine_rating = grouped_cuisine.rating.agg(['count','mean'])\n",
    "cuisine_rating = cuisine_rating.sort_values('count',ascending = False)\n",
    "cuisine_rating = cuisine_rating['mean'].head(10)"
   ]
  },
  {
   "cell_type": "code",
   "execution_count": 55,
   "metadata": {},
   "outputs": [
    {
     "data": {
      "text/plain": [
       "<matplotlib.axes._subplots.AxesSubplot at 0x23f6dfa8780>"
      ]
     },
     "execution_count": 55,
     "metadata": {},
     "output_type": "execute_result"
    },
    {
     "data": {
      "image/png": "[encoded data removed]",
      "text/plain": [
       "<Figure size 432x288 with 1 Axes>"
      ]
     },
     "metadata": {
      "needs_background": "light"
     },
     "output_type": "display_data"
    }
   ],
   "source": [
    "cuisine_rating.plot.bar(rot = 90)"
   ]
  },
  {
   "cell_type": "code",
   "execution_count": null,
   "metadata": {},
   "outputs": [],
   "source": []
  },
  {
   "cell_type": "markdown",
   "metadata": {},
   "source": [
    "# New York"
   ]
  },
  {
   "cell_type": "code",
   "execution_count": 69,
   "metadata": {},
   "outputs": [
    {
     "data": {
      "text/plain": [
       "cost              2.497500\n",
       "rating           71.351857\n",
       "review_count    775.344089\n",
       "dtype: float64"
      ]
     },
     "execution_count": 69,
     "metadata": {},
     "output_type": "execute_result"
    }
   ],
   "source": [
    "first_page_filter = [idx for idx, x in enumerate(ot.location_on_page) if eval(x)[0]==0 ]\n",
    "first_page_df = ot.iloc[first_page_filter]\n",
    "first_page_df[['cost','rating','review_count']].mean()"
   ]
  },
  {
   "cell_type": "code",
   "execution_count": 70,
   "metadata": {},
   "outputs": [
    {
     "data": {
      "text/html": [
       "<div>\n",
       "<style scoped>\n",
       "    .dataframe tbody tr th:only-of-type {\n",
       "        vertical-align: middle;\n",
       "    }\n",
       "\n",
       "    .dataframe tbody tr th {\n",
       "        vertical-align: top;\n",
       "    }\n",
       "\n",
       "    .dataframe thead th {\n",
       "        text-align: right;\n",
       "    }\n",
       "</style>\n",
       "<table border=\"1\" class=\"dataframe\">\n",
       "  <thead>\n",
       "    <tr style=\"text-align: right;\">\n",
       "      <th></th>\n",
       "      <th>area</th>\n",
       "      <th>location</th>\n",
       "      <th>name</th>\n",
       "      <th>cuisine</th>\n",
       "      <th>cost</th>\n",
       "      <th>rating</th>\n",
       "      <th>review_count</th>\n",
       "      <th>promoted</th>\n",
       "      <th>location_on_page</th>\n",
       "    </tr>\n",
       "  </thead>\n",
       "  <tbody>\n",
       "    <tr>\n",
       "      <th>6387</th>\n",
       "      <td>Mexico City</td>\n",
       "      <td>Del Valle / Nápoles / Narvarte</td>\n",
       "      <td>La Tavola - Del Valle</td>\n",
       "      <td>Italian</td>\n",
       "      <td>3</td>\n",
       "      <td>0.0</td>\n",
       "      <td>10.0</td>\n",
       "      <td>False</td>\n",
       "      <td>[5, 85]</td>\n",
       "    </tr>\n",
       "    <tr>\n",
       "      <th>157647</th>\n",
       "      <td>Los Angeles</td>\n",
       "      <td>Hollywood</td>\n",
       "      <td>Harold's Chicken &amp; Bar</td>\n",
       "      <td>American</td>\n",
       "      <td>2</td>\n",
       "      <td>0.0</td>\n",
       "      <td>10.0</td>\n",
       "      <td>False</td>\n",
       "      <td>[10, 34]</td>\n",
       "    </tr>\n",
       "    <tr>\n",
       "      <th>117968</th>\n",
       "      <td>Chicago / Illinois</td>\n",
       "      <td>Bloomingdale</td>\n",
       "      <td>Strada Italia Ristorante and Wine Bar</td>\n",
       "      <td>Italian</td>\n",
       "      <td>2</td>\n",
       "      <td>0.0</td>\n",
       "      <td>11.0</td>\n",
       "      <td>False</td>\n",
       "      <td>[46, 55]</td>\n",
       "    </tr>\n",
       "    <tr>\n",
       "      <th>5266</th>\n",
       "      <td>Tokyo Metropolitan Area</td>\n",
       "      <td>Shinjuku</td>\n",
       "      <td>Mango Tree Cafe Shinjuku</td>\n",
       "      <td>Thai</td>\n",
       "      <td>2</td>\n",
       "      <td>0.0</td>\n",
       "      <td>12.0</td>\n",
       "      <td>False</td>\n",
       "      <td>[7, 64]</td>\n",
       "    </tr>\n",
       "    <tr>\n",
       "      <th>37425</th>\n",
       "      <td>Wisconsin</td>\n",
       "      <td>Wisconsin Dells</td>\n",
       "      <td>The Tavern Restaurant</td>\n",
       "      <td>American</td>\n",
       "      <td>2</td>\n",
       "      <td>0.0</td>\n",
       "      <td>12.0</td>\n",
       "      <td>False</td>\n",
       "      <td>[25, 90]</td>\n",
       "    </tr>\n",
       "    <tr>\n",
       "      <th>...</th>\n",
       "      <td>...</td>\n",
       "      <td>...</td>\n",
       "      <td>...</td>\n",
       "      <td>...</td>\n",
       "      <td>...</td>\n",
       "      <td>...</td>\n",
       "      <td>...</td>\n",
       "      <td>...</td>\n",
       "      <td>...</td>\n",
       "    </tr>\n",
       "    <tr>\n",
       "      <th>56304</th>\n",
       "      <td>New York / Tri-State Area</td>\n",
       "      <td>Gramercy / Flatiron</td>\n",
       "      <td>Les Halles Park Avenue - Permanently Closed</td>\n",
       "      <td>French</td>\n",
       "      <td>2</td>\n",
       "      <td>45.0</td>\n",
       "      <td>4201.0</td>\n",
       "      <td>False</td>\n",
       "      <td>[34, 69]</td>\n",
       "    </tr>\n",
       "    <tr>\n",
       "      <th>30533</th>\n",
       "      <td>London</td>\n",
       "      <td>Covent Garden</td>\n",
       "      <td>Fire &amp; Stone Covent Garden</td>\n",
       "      <td>International</td>\n",
       "      <td>2</td>\n",
       "      <td>45.0</td>\n",
       "      <td>4254.0</td>\n",
       "      <td>False</td>\n",
       "      <td>[5, 70]</td>\n",
       "    </tr>\n",
       "    <tr>\n",
       "      <th>31009</th>\n",
       "      <td>London</td>\n",
       "      <td>Soho</td>\n",
       "      <td>Inamo - Soho</td>\n",
       "      <td>Japanese</td>\n",
       "      <td>3</td>\n",
       "      <td>45.0</td>\n",
       "      <td>4505.0</td>\n",
       "      <td>False</td>\n",
       "      <td>[0, 46]</td>\n",
       "    </tr>\n",
       "    <tr>\n",
       "      <th>58169</th>\n",
       "      <td>New York / Tri-State Area</td>\n",
       "      <td>Midtown West</td>\n",
       "      <td>Norma's</td>\n",
       "      <td>American</td>\n",
       "      <td>3</td>\n",
       "      <td>45.0</td>\n",
       "      <td>5574.0</td>\n",
       "      <td>False</td>\n",
       "      <td>[15, 34]</td>\n",
       "    </tr>\n",
       "    <tr>\n",
       "      <th>56932</th>\n",
       "      <td>New York / Tri-State Area</td>\n",
       "      <td>Murray Hill</td>\n",
       "      <td>Artisanal Fromagerie Bistro &amp; Wine Bar</td>\n",
       "      <td>French</td>\n",
       "      <td>3</td>\n",
       "      <td>45.0</td>\n",
       "      <td>5937.0</td>\n",
       "      <td>False</td>\n",
       "      <td>[28, 97]</td>\n",
       "    </tr>\n",
       "  </tbody>\n",
       "</table>\n",
       "<p>4052 rows × 9 columns</p>\n",
       "</div>"
      ],
      "text/plain": [
       "                             area                        location  \\\n",
       "6387                  Mexico City  Del Valle / Nápoles / Narvarte   \n",
       "157647                Los Angeles                       Hollywood   \n",
       "117968         Chicago / Illinois                    Bloomingdale   \n",
       "5266      Tokyo Metropolitan Area                        Shinjuku   \n",
       "37425                   Wisconsin                 Wisconsin Dells   \n",
       "...                           ...                             ...   \n",
       "56304   New York / Tri-State Area             Gramercy / Flatiron   \n",
       "30533                      London                   Covent Garden   \n",
       "31009                      London                            Soho   \n",
       "58169   New York / Tri-State Area                    Midtown West   \n",
       "56932   New York / Tri-State Area                     Murray Hill   \n",
       "\n",
       "                                               name        cuisine  cost  \\\n",
       "6387                          La Tavola - Del Valle        Italian     3   \n",
       "157647                       Harold's Chicken & Bar       American     2   \n",
       "117968        Strada Italia Ristorante and Wine Bar        Italian     2   \n",
       "5266                       Mango Tree Cafe Shinjuku           Thai     2   \n",
       "37425                         The Tavern Restaurant       American     2   \n",
       "...                                             ...            ...   ...   \n",
       "56304   Les Halles Park Avenue - Permanently Closed         French     2   \n",
       "30533                    Fire & Stone Covent Garden  International     2   \n",
       "31009                                  Inamo - Soho       Japanese     3   \n",
       "58169                                       Norma's       American     3   \n",
       "56932        Artisanal Fromagerie Bistro & Wine Bar         French     3   \n",
       "\n",
       "        rating  review_count  promoted location_on_page  \n",
       "6387       0.0          10.0     False          [5, 85]  \n",
       "157647     0.0          10.0     False         [10, 34]  \n",
       "117968     0.0          11.0     False         [46, 55]  \n",
       "5266       0.0          12.0     False          [7, 64]  \n",
       "37425      0.0          12.0     False         [25, 90]  \n",
       "...        ...           ...       ...              ...  \n",
       "56304     45.0        4201.0     False         [34, 69]  \n",
       "30533     45.0        4254.0     False          [5, 70]  \n",
       "31009     45.0        4505.0     False          [0, 46]  \n",
       "58169     45.0        5574.0     False         [15, 34]  \n",
       "56932     45.0        5937.0     False         [28, 97]  \n",
       "\n",
       "[4052 rows x 9 columns]"
      ]
     },
     "execution_count": 70,
     "metadata": {},
     "output_type": "execute_result"
    }
   ],
   "source": [
    "ot_rating = ot.dropna(subset = ['rating','review_count'])\n",
    "\n",
    "poorly_rated = ot_rating.loc[(ot_rating.rating < 50) & (ot_rating.review_count >= 10)]\n",
    "poorly_rated.sort_values(['rating','review_count'])"
   ]
  },
  {
   "cell_type": "code",
   "execution_count": 72,
   "metadata": {},
   "outputs": [
    {
     "data": {
      "text/plain": [
       "9.623331591697145"
      ]
     },
     "execution_count": 72,
     "metadata": {},
     "output_type": "execute_result"
    }
   ],
   "source": [
    "len(poorly_rated)/ len(ot_rating)*100"
   ]
  },
  {
   "cell_type": "code",
   "execution_count": null,
   "metadata": {},
   "outputs": [],
   "source": []
  }
 ],
 "metadata": {
  "kernelspec": {
   "display_name": "Python 3",
   "language": "python",
   "name": "python3"
  },
  "language_info": {
   "codemirror_mode": {
    "name": "ipython",
    "version": 3
   },
   "file_extension": ".py",
   "mimetype": "text/x-python",
   "name": "python",
   "nbconvert_exporter": "python",
   "pygments_lexer": "ipython3",
   "version": "3.7.3"
  }
 },
 "nbformat": 4,
 "nbformat_minor": 2
}
